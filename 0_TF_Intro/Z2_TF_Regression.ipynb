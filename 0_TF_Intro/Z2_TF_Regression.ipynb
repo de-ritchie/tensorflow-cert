{
 "cells": [
  {
   "cell_type": "markdown",
   "id": "9b07aa94-e80c-4287-b1a2-2b26be3ec777",
   "metadata": {},
   "source": [
    "# Import Libraries"
   ]
  },
  {
   "cell_type": "code",
   "execution_count": 1,
   "id": "f9b9fe6e-2abf-407a-a8aa-4496b30d9c37",
   "metadata": {},
   "outputs": [],
   "source": [
    "import time\n",
    "import random\n",
    "\n",
    "import numpy as np\n",
    "import pandas as pd\n",
    "import matplotlib.pyplot as plt\n",
    "import seaborn as sns\n",
    "\n",
    "from sklearn.compose import make_column_transformer\n",
    "from sklearn.preprocessing import MinMaxScaler, StandardScaler, OneHotEncoder\n",
    "from sklearn.model_selection import train_test_split\n",
    "\n",
    "import tensorflow as tf\n",
    "from tensorflow import keras\n",
    "from tensorflow.keras.utils import plot_model"
   ]
  },
  {
   "cell_type": "code",
   "execution_count": 2,
   "id": "bfec2b31-cb8b-4d42-8f7c-0cd856438a1c",
   "metadata": {},
   "outputs": [
    {
     "data": {
      "text/plain": [
       "'2.6.2'"
      ]
     },
     "execution_count": 2,
     "metadata": {},
     "output_type": "execute_result"
    }
   ],
   "source": [
    "tf.__version__"
   ]
  },
  {
   "cell_type": "markdown",
   "id": "65b030fc-5a0f-4ebd-94d4-a4f24330c164",
   "metadata": {},
   "source": [
    "# TensorFlow - Neural Network Regression"
   ]
  },
  {
   "cell_type": "markdown",
   "id": "70d0f425-20cd-459b-b806-c3b7b8455140",
   "metadata": {},
   "source": [
    "## Architecture of Regression Model\n",
    "\n",
    "|Hyperparameter              |Typical Value                                                                                            |\n",
    "|----------------------------|---------------------------------------------------------------------------------------------------------|\n",
    "|Input Layer Shape           |Same shape as number of features (eg. 3 for #bedrooms, #bathrooms, # car space in house price prediction)|\n",
    "|Hidden Layer(s)             |Problem specific, minimum = 1 & maximum = unlimited                                                      |\n",
    "|Neurons per hidden layer    |Problem specific, generally 10 - 100                                                                     |\n",
    "|Output Layer Shape          |Same shape as desired prediction shape (e.g. 1 for house price)                                          |\n",
    "|Hidden Activation           |Usually ReLU, tanh                                                                                       |\n",
    "|Output Activation           |None, ReLU, tanh/softmax                                                                                       |\n",
    "|Loss function               |MSE (Mean Square Error) or MAE(Mean Absolute Error)/Huber (combination of MAE/MSE) if outliers           |\n",
    "|Optimizer                   |SGD(Stochastic Gradient Descent), Adam                                                                   |"
   ]
  },
  {
   "cell_type": "markdown",
   "id": "a9a0b14d-bf90-4c38-8442-419a453308b7",
   "metadata": {
    "tags": []
   },
   "source": [
    "## Sample Regression Problem"
   ]
  },
  {
   "cell_type": "markdown",
   "id": "70ef4eb0-2734-4383-80e0-607a944e97d7",
   "metadata": {},
   "source": [
    "### Sample data"
   ]
  },
  {
   "cell_type": "code",
   "execution_count": 3,
   "id": "e1b1250e-df65-407a-89a3-0755d85d2479",
   "metadata": {},
   "outputs": [],
   "source": [
    "X = np.arange(-7, 15, 3, dtype=np.float32)\n",
    "y = X + 10"
   ]
  },
  {
   "cell_type": "code",
   "execution_count": 4,
   "id": "891e5e41-d78f-4056-8ba2-56b98a72de24",
   "metadata": {},
   "outputs": [
    {
     "data": {
      "text/plain": [
       "(array([-7., -4., -1.,  2.,  5.,  8., 11., 14.], dtype=float32),\n",
       " array([ 3.,  6.,  9., 12., 15., 18., 21., 24.], dtype=float32))"
      ]
     },
     "execution_count": 4,
     "metadata": {},
     "output_type": "execute_result"
    }
   ],
   "source": [
    "X, y"
   ]
  },
  {
   "cell_type": "code",
   "execution_count": 5,
   "id": "b30d1f76-b5cc-4aeb-bed5-e626b8e45f74",
   "metadata": {},
   "outputs": [
    {
     "data": {
      "text/plain": [
       "<matplotlib.collections.PathCollection at 0x7f95bad40a30>"
      ]
     },
     "execution_count": 5,
     "metadata": {},
     "output_type": "execute_result"
    },
    {
     "data": {
      "image/png": "[encoded data removed]",
      "text/plain": [
       "<Figure size 640x480 with 1 Axes>"
      ]
     },
     "metadata": {},
     "output_type": "display_data"
    }
   ],
   "source": [
    "plt.scatter(X, y)"
   ]
  },
  {
   "cell_type": "markdown",
   "id": "bf5d22cc-cbcc-47b3-b6cf-aedce23d120c",
   "metadata": {},
   "source": [
    "### Sample Model"
   ]
  },
  {
   "cell_type": "markdown",
   "id": "8754cdc8-e4f8-4a69-bc6f-a28bfdc855fa",
   "metadata": {},
   "source": [
    "#### NumPy to Tensors"
   ]
  },
  {
   "cell_type": "code",
   "execution_count": 6,
   "id": "6329fbb2-87e8-4c2b-bc1f-de68142c108d",
   "metadata": {},
   "outputs": [
    {
     "name": "stderr",
     "output_type": "stream",
     "text": [
      "2023-06-24 17:54:08.414425: W tensorflow/stream_executor/platform/default/dso_loader.cc:64] Could not load dynamic library 'libcuda.so.1'; dlerror: libcuda.so.1: cannot open shared object file: No such file or directory\n",
      "2023-06-24 17:54:08.414523: W tensorflow/stream_executor/cuda/cuda_driver.cc:269] failed call to cuInit: UNKNOWN ERROR (303)\n",
      "2023-06-24 17:54:08.414602: I tensorflow/stream_executor/cuda/cuda_diagnostics.cc:156] kernel driver does not appear to be running on this host (582544b20265): /proc/driver/nvidia/version does not exist\n",
      "2023-06-24 17:54:08.415182: I tensorflow/core/platform/cpu_feature_guard.cc:142] This TensorFlow binary is optimized with oneAPI Deep Neural Network Library (oneDNN) to use the following CPU instructions in performance-critical operations:  SSE4.1 SSE4.2 AVX AVX2 FMA\n",
      "To enable them in other operations, rebuild TensorFlow with the appropriate compiler flags.\n"
     ]
    }
   ],
   "source": [
    "X = tf.expand_dims(tf.constant(X), axis=-1)\n",
    "y = tf.constant(y)"
   ]
  },
  {
   "cell_type": "markdown",
   "id": "7a27769b-e951-4f06-9bf3-dcc51506a49f",
   "metadata": {},
   "source": [
    "#### Create Model"
   ]
  },
  {
   "cell_type": "code",
   "execution_count": 7,
   "id": "45562ea3-4474-4eb6-ae46-e4fdd138a4a2",
   "metadata": {},
   "outputs": [],
   "source": [
    "model = keras.models.Sequential([\n",
    "    keras.layers.Dense(1, input_shape=(1, 1))\n",
    "])"
   ]
  },
  {
   "cell_type": "code",
   "execution_count": 8,
   "id": "be4c5f9a-8e3c-49e9-9bbc-13af0fcfddeb",
   "metadata": {},
   "outputs": [
    {
     "name": "stdout",
     "output_type": "stream",
     "text": [
      "Model: \"sequential\"\n",
      "_________________________________________________________________\n",
      "Layer (type)                 Output Shape              Param #   \n",
      "=================================================================\n",
      "dense (Dense)                (None, 1, 1)              2         \n",
      "=================================================================\n",
      "Total params: 2\n",
      "Trainable params: 2\n",
      "Non-trainable params: 0\n",
      "_________________________________________________________________\n"
     ]
    }
   ],
   "source": [
    "model.summary()"
   ]
  },
  {
   "cell_type": "markdown",
   "id": "e94bfd4e-d6c7-4226-a788-65ab6039e327",
   "metadata": {},
   "source": [
    "#### Compile Model"
   ]
  },
  {
   "cell_type": "code",
   "execution_count": 9,
   "id": "5af8c4d8-015d-4ec9-b3af-093e6b9bcc92",
   "metadata": {},
   "outputs": [],
   "source": [
    "model.compile(\n",
    "    loss=keras.losses.mae,\n",
    "    optimizer=keras.optimizers.SGD(),\n",
    "    metrics=['mae']\n",
    ")"
   ]
  },
  {
   "cell_type": "markdown",
   "id": "b4520876-e07e-4a82-874b-8816089c7361",
   "metadata": {},
   "source": [
    "#### Fit the model"
   ]
  },
  {
   "cell_type": "code",
   "execution_count": 10,
   "id": "36cb626a-6a09-4b13-82cf-ae5dddae7141",
   "metadata": {},
   "outputs": [
    {
     "name": "stdout",
     "output_type": "stream",
     "text": [
      "Epoch 1/5\n"
     ]
    },
    {
     "name": "stderr",
     "output_type": "stream",
     "text": [
      "2023-06-24 17:54:08.737313: I tensorflow/compiler/mlir/mlir_graph_optimization_pass.cc:185] None of the MLIR Optimization Passes are enabled (registered 2)\n"
     ]
    },
    {
     "name": "stdout",
     "output_type": "stream",
     "text": [
      "1/1 [==============================] - 0s 479ms/step - loss: 12.5421 - mae: 12.5421\n",
      "Epoch 2/5\n",
      "1/1 [==============================] - 0s 9ms/step - loss: 12.4096 - mae: 12.4096\n",
      "Epoch 3/5\n",
      "1/1 [==============================] - 0s 4ms/step - loss: 12.2772 - mae: 12.2772\n",
      "Epoch 4/5\n",
      "1/1 [==============================] - 0s 16ms/step - loss: 12.1446 - mae: 12.1446\n",
      "Epoch 5/5\n",
      "1/1 [==============================] - 0s 8ms/step - loss: 12.0121 - mae: 12.0121\n"
     ]
    }
   ],
   "source": [
    "history = model.fit(X, y, epochs=5)"
   ]
  },
  {
   "cell_type": "code",
   "execution_count": 11,
   "id": "a57e1574-3b35-49a0-be8c-215f483050a4",
   "metadata": {},
   "outputs": [
    {
     "data": {
      "text/plain": [
       "array([[[4.536715]]], dtype=float32)"
      ]
     },
     "execution_count": 11,
     "metadata": {},
     "output_type": "execute_result"
    }
   ],
   "source": [
    "model.predict(tf.expand_dims(tf.constant([10]), axis=-1))"
   ]
  },
  {
   "cell_type": "markdown",
   "id": "0af1cc8d-7380-4d57-a11f-1dfb4c06bf35",
   "metadata": {},
   "source": [
    "### Tune model"
   ]
  },
  {
   "cell_type": "markdown",
   "id": "af0fc073-30fb-4e43-8d87-77c92cc839c6",
   "metadata": {},
   "source": [
    "#### Adding Layers"
   ]
  },
  {
   "cell_type": "code",
   "execution_count": 12,
   "id": "f703eebf-6aa0-4a99-8333-a652cd30bbe0",
   "metadata": {},
   "outputs": [
    {
     "data": {
      "text/plain": [
       "(TensorShape([8, 1]), TensorShape([8]))"
      ]
     },
     "execution_count": 12,
     "metadata": {},
     "output_type": "execute_result"
    }
   ],
   "source": [
    "X.shape, y.shape"
   ]
  },
  {
   "cell_type": "code",
   "execution_count": 13,
   "id": "e7f4fcbd-43bb-4c3a-933d-dfdea6f843d9",
   "metadata": {},
   "outputs": [
    {
     "name": "stdout",
     "output_type": "stream",
     "text": [
      "Epoch 1/100\n",
      "1/1 [==============================] - 1s 511ms/step - loss: 12.3185 - mae: 12.3185\n",
      "Epoch 2/100\n",
      "1/1 [==============================] - 0s 7ms/step - loss: 12.3098 - mae: 12.3098\n",
      "Epoch 3/100\n",
      "1/1 [==============================] - 0s 5ms/step - loss: 12.3011 - mae: 12.3011\n",
      "Epoch 4/100\n",
      "1/1 [==============================] - 0s 5ms/step - loss: 12.2924 - mae: 12.2924\n",
      "Epoch 5/100\n",
      "1/1 [==============================] - 0s 4ms/step - loss: 12.2837 - mae: 12.2837\n",
      "Epoch 6/100\n",
      "1/1 [==============================] - 0s 4ms/step - loss: 12.2750 - mae: 12.2750\n",
      "Epoch 7/100\n",
      "1/1 [==============================] - 0s 3ms/step - loss: 12.2662 - mae: 12.2662\n",
      "Epoch 8/100\n",
      "1/1 [==============================] - 0s 7ms/step - loss: 12.2575 - mae: 12.2575\n",
      "Epoch 9/100\n",
      "1/1 [==============================] - 0s 4ms/step - loss: 12.2488 - mae: 12.2488\n",
      "Epoch 10/100\n",
      "1/1 [==============================] - 0s 5ms/step - loss: 12.2401 - mae: 12.2401\n",
      "Epoch 11/100\n",
      "1/1 [==============================] - 0s 6ms/step - loss: 12.2313 - mae: 12.2313\n",
      "Epoch 12/100\n",
      "1/1 [==============================] - 0s 3ms/step - loss: 12.2226 - mae: 12.2226\n",
      "Epoch 13/100\n",
      "1/1 [==============================] - 0s 15ms/step - loss: 12.2139 - mae: 12.2139\n",
      "Epoch 14/100\n",
      "1/1 [==============================] - 0s 15ms/step - loss: 12.2051 - mae: 12.2051\n",
      "Epoch 15/100\n",
      "1/1 [==============================] - 0s 5ms/step - loss: 12.1964 - mae: 12.1964\n",
      "Epoch 16/100\n",
      "1/1 [==============================] - 0s 5ms/step - loss: 12.1877 - mae: 12.1877\n",
      "Epoch 17/100\n",
      "1/1 [==============================] - 0s 5ms/step - loss: 12.1789 - mae: 12.1789\n",
      "Epoch 18/100\n",
      "1/1 [==============================] - 0s 8ms/step - loss: 12.1702 - mae: 12.1702\n",
      "Epoch 19/100\n",
      "1/1 [==============================] - 0s 7ms/step - loss: 12.1614 - mae: 12.1614\n",
      "Epoch 20/100\n",
      "1/1 [==============================] - 0s 5ms/step - loss: 12.1527 - mae: 12.1527\n",
      "Epoch 21/100\n",
      "1/1 [==============================] - 0s 5ms/step - loss: 12.1439 - mae: 12.1439\n",
      "Epoch 22/100\n",
      "1/1 [==============================] - 0s 13ms/step - loss: 12.1352 - mae: 12.1352\n",
      "Epoch 23/100\n",
      "1/1 [==============================] - 0s 5ms/step - loss: 12.1264 - mae: 12.1264\n",
      "Epoch 24/100\n",
      "1/1 [==============================] - 0s 4ms/step - loss: 12.1176 - mae: 12.1176\n",
      "Epoch 25/100\n",
      "1/1 [==============================] - 0s 4ms/step - loss: 12.1089 - mae: 12.1089\n",
      "Epoch 26/100\n",
      "1/1 [==============================] - 0s 8ms/step - loss: 12.1001 - mae: 12.1001\n",
      "Epoch 27/100\n",
      "1/1 [==============================] - 0s 5ms/step - loss: 12.0913 - mae: 12.0913\n",
      "Epoch 28/100\n",
      "1/1 [==============================] - 0s 4ms/step - loss: 12.0825 - mae: 12.0825\n",
      "Epoch 29/100\n",
      "1/1 [==============================] - 0s 5ms/step - loss: 12.0738 - mae: 12.0738\n",
      "Epoch 30/100\n",
      "1/1 [==============================] - 0s 3ms/step - loss: 12.0650 - mae: 12.0650\n",
      "Epoch 31/100\n",
      "1/1 [==============================] - 0s 4ms/step - loss: 12.0562 - mae: 12.0562\n",
      "Epoch 32/100\n",
      "1/1 [==============================] - 0s 3ms/step - loss: 12.0474 - mae: 12.0474\n",
      "Epoch 33/100\n",
      "1/1 [==============================] - 0s 11ms/step - loss: 12.0386 - mae: 12.0386\n",
      "Epoch 34/100\n",
      "1/1 [==============================] - 0s 8ms/step - loss: 12.0298 - mae: 12.0298\n",
      "Epoch 35/100\n",
      "1/1 [==============================] - 0s 5ms/step - loss: 12.0210 - mae: 12.0210\n",
      "Epoch 36/100\n",
      "1/1 [==============================] - 0s 8ms/step - loss: 12.0122 - mae: 12.0122\n",
      "Epoch 37/100\n",
      "1/1 [==============================] - 0s 8ms/step - loss: 12.0034 - mae: 12.0034\n",
      "Epoch 38/100\n",
      "1/1 [==============================] - 0s 14ms/step - loss: 11.9946 - mae: 11.9946\n",
      "Epoch 39/100\n",
      "1/1 [==============================] - 0s 13ms/step - loss: 11.9858 - mae: 11.9858\n",
      "Epoch 40/100\n",
      "1/1 [==============================] - 0s 6ms/step - loss: 11.9770 - mae: 11.9770\n",
      "Epoch 41/100\n",
      "1/1 [==============================] - 0s 4ms/step - loss: 11.9681 - mae: 11.9681\n",
      "Epoch 42/100\n",
      "1/1 [==============================] - 0s 5ms/step - loss: 11.9593 - mae: 11.9593\n",
      "Epoch 43/100\n",
      "1/1 [==============================] - 0s 11ms/step - loss: 11.9505 - mae: 11.9505\n",
      "Epoch 44/100\n",
      "1/1 [==============================] - 0s 5ms/step - loss: 11.9417 - mae: 11.9417\n",
      "Epoch 45/100\n",
      "1/1 [==============================] - 0s 4ms/step - loss: 11.9328 - mae: 11.9328\n",
      "Epoch 46/100\n",
      "1/1 [==============================] - 0s 9ms/step - loss: 11.9240 - mae: 11.9240\n",
      "Epoch 47/100\n",
      "1/1 [==============================] - 0s 5ms/step - loss: 11.9152 - mae: 11.9152\n",
      "Epoch 48/100\n",
      "1/1 [==============================] - 0s 8ms/step - loss: 11.9063 - mae: 11.9063\n",
      "Epoch 49/100\n",
      "1/1 [==============================] - 0s 7ms/step - loss: 11.8975 - mae: 11.8975\n",
      "Epoch 50/100\n",
      "1/1 [==============================] - 0s 6ms/step - loss: 11.8886 - mae: 11.8886\n",
      "Epoch 51/100\n",
      "1/1 [==============================] - 0s 5ms/step - loss: 11.8797 - mae: 11.8797\n",
      "Epoch 52/100\n",
      "1/1 [==============================] - 0s 4ms/step - loss: 11.8709 - mae: 11.8709\n",
      "Epoch 53/100\n",
      "1/1 [==============================] - 0s 5ms/step - loss: 11.8620 - mae: 11.8620\n",
      "Epoch 54/100\n",
      "1/1 [==============================] - 0s 4ms/step - loss: 11.8532 - mae: 11.8532\n",
      "Epoch 55/100\n",
      "1/1 [==============================] - 0s 4ms/step - loss: 11.8443 - mae: 11.8443\n",
      "Epoch 56/100\n",
      "1/1 [==============================] - 0s 8ms/step - loss: 11.8354 - mae: 11.8354\n",
      "Epoch 57/100\n",
      "1/1 [==============================] - 0s 19ms/step - loss: 11.8265 - mae: 11.8265\n",
      "Epoch 58/100\n",
      "1/1 [==============================] - 0s 17ms/step - loss: 11.8176 - mae: 11.8176\n",
      "Epoch 59/100\n",
      "1/1 [==============================] - 0s 8ms/step - loss: 11.8088 - mae: 11.8088\n",
      "Epoch 60/100\n",
      "1/1 [==============================] - 0s 8ms/step - loss: 11.7999 - mae: 11.7999\n",
      "Epoch 61/100\n",
      "1/1 [==============================] - 0s 4ms/step - loss: 11.7910 - mae: 11.7910\n",
      "Epoch 62/100\n",
      "1/1 [==============================] - 0s 3ms/step - loss: 11.7821 - mae: 11.7821\n",
      "Epoch 63/100\n",
      "1/1 [==============================] - 0s 12ms/step - loss: 11.7732 - mae: 11.7732\n",
      "Epoch 64/100\n",
      "1/1 [==============================] - 0s 4ms/step - loss: 11.7643 - mae: 11.7643\n",
      "Epoch 65/100\n",
      "1/1 [==============================] - 0s 7ms/step - loss: 11.7553 - mae: 11.7553\n",
      "Epoch 66/100\n",
      "1/1 [==============================] - 0s 6ms/step - loss: 11.7464 - mae: 11.7464\n",
      "Epoch 67/100\n",
      "1/1 [==============================] - 0s 4ms/step - loss: 11.7375 - mae: 11.7375\n",
      "Epoch 68/100\n",
      "1/1 [==============================] - 0s 4ms/step - loss: 11.7286 - mae: 11.7286\n",
      "Epoch 69/100\n",
      "1/1 [==============================] - 0s 4ms/step - loss: 11.7197 - mae: 11.7197\n",
      "Epoch 70/100\n",
      "1/1 [==============================] - 0s 5ms/step - loss: 11.7107 - mae: 11.7107\n",
      "Epoch 71/100\n",
      "1/1 [==============================] - 0s 4ms/step - loss: 11.7018 - mae: 11.7018\n",
      "Epoch 72/100\n",
      "1/1 [==============================] - 0s 4ms/step - loss: 11.6929 - mae: 11.6929\n",
      "Epoch 73/100\n",
      "1/1 [==============================] - 0s 4ms/step - loss: 11.6839 - mae: 11.6839\n",
      "Epoch 74/100\n",
      "1/1 [==============================] - 0s 4ms/step - loss: 11.6750 - mae: 11.6750\n",
      "Epoch 75/100\n",
      "1/1 [==============================] - 0s 12ms/step - loss: 11.6660 - mae: 11.6660\n",
      "Epoch 76/100\n",
      "1/1 [==============================] - 0s 6ms/step - loss: 11.6571 - mae: 11.6571\n",
      "Epoch 77/100\n",
      "1/1 [==============================] - 0s 14ms/step - loss: 11.6481 - mae: 11.6481\n",
      "Epoch 78/100\n",
      "1/1 [==============================] - 0s 4ms/step - loss: 11.6392 - mae: 11.6392\n",
      "Epoch 79/100\n",
      "1/1 [==============================] - 0s 12ms/step - loss: 11.6302 - mae: 11.6302\n",
      "Epoch 80/100\n",
      "1/1 [==============================] - 0s 5ms/step - loss: 11.6213 - mae: 11.6213\n",
      "Epoch 81/100\n",
      "1/1 [==============================] - 0s 6ms/step - loss: 11.6123 - mae: 11.6123\n",
      "Epoch 82/100\n",
      "1/1 [==============================] - 0s 10ms/step - loss: 11.6033 - mae: 11.6033\n",
      "Epoch 83/100\n",
      "1/1 [==============================] - 0s 16ms/step - loss: 11.5943 - mae: 11.5943\n",
      "Epoch 84/100\n",
      "1/1 [==============================] - 0s 9ms/step - loss: 11.5853 - mae: 11.5853\n",
      "Epoch 85/100\n",
      "1/1 [==============================] - 0s 5ms/step - loss: 11.5764 - mae: 11.5764\n",
      "Epoch 86/100\n",
      "1/1 [==============================] - 0s 8ms/step - loss: 11.5674 - mae: 11.5674\n",
      "Epoch 87/100\n",
      "1/1 [==============================] - 0s 6ms/step - loss: 11.5584 - mae: 11.5584\n",
      "Epoch 88/100\n",
      "1/1 [==============================] - 0s 4ms/step - loss: 11.5494 - mae: 11.5494\n",
      "Epoch 89/100\n",
      "1/1 [==============================] - 0s 4ms/step - loss: 11.5404 - mae: 11.5404\n",
      "Epoch 90/100\n",
      "1/1 [==============================] - 0s 6ms/step - loss: 11.5314 - mae: 11.5314\n",
      "Epoch 91/100\n",
      "1/1 [==============================] - 0s 7ms/step - loss: 11.5224 - mae: 11.5224\n",
      "Epoch 92/100\n",
      "1/1 [==============================] - 0s 11ms/step - loss: 11.5134 - mae: 11.5134\n",
      "Epoch 93/100\n",
      "1/1 [==============================] - 0s 8ms/step - loss: 11.5044 - mae: 11.5044\n",
      "Epoch 94/100\n",
      "1/1 [==============================] - 0s 4ms/step - loss: 11.4954 - mae: 11.4954\n",
      "Epoch 95/100\n",
      "1/1 [==============================] - 0s 7ms/step - loss: 11.4864 - mae: 11.4864\n",
      "Epoch 96/100\n",
      "1/1 [==============================] - 0s 4ms/step - loss: 11.4774 - mae: 11.4774\n",
      "Epoch 97/100\n",
      "1/1 [==============================] - 0s 14ms/step - loss: 11.4684 - mae: 11.4684\n",
      "Epoch 98/100\n",
      "1/1 [==============================] - 0s 8ms/step - loss: 11.4594 - mae: 11.4594\n",
      "Epoch 99/100\n",
      "1/1 [==============================] - 0s 5ms/step - loss: 11.4504 - mae: 11.4504\n",
      "Epoch 100/100\n",
      "1/1 [==============================] - 0s 4ms/step - loss: 11.4414 - mae: 11.4414\n"
     ]
    },
    {
     "data": {
      "text/plain": [
       "<keras.callbacks.History at 0x7f95b81117f0>"
      ]
     },
     "execution_count": 13,
     "metadata": {},
     "output_type": "execute_result"
    }
   ],
   "source": [
    "tf.random.set_seed(42)\n",
    "\n",
    "# Create Model\n",
    "model = keras.models.Sequential([\n",
    "    keras.layers.Dense(100, activation=keras.activations.relu),\n",
    "    keras.layers.Dense(1)\n",
    "])\n",
    "\n",
    "# Compile\n",
    "model.compile(\n",
    "    loss=keras.losses.mae,\n",
    "    optimizer=keras.optimizers.Adam(learning_rate=0.0001),\n",
    "    metrics=['mae']\n",
    ")\n",
    "\n",
    "# Fit\n",
    "model.fit(X, y, epochs=100)"
   ]
  },
  {
   "cell_type": "code",
   "execution_count": 14,
   "id": "13482253-8869-4d2b-9983-c033e3a8e8e0",
   "metadata": {},
   "outputs": [
    {
     "name": "stdout",
     "output_type": "stream",
     "text": [
      "Model: \"sequential_1\"\n",
      "_________________________________________________________________\n",
      "Layer (type)                 Output Shape              Param #   \n",
      "=================================================================\n",
      "dense_1 (Dense)              (None, 100)               200       \n",
      "_________________________________________________________________\n",
      "dense_2 (Dense)              (None, 1)                 101       \n",
      "=================================================================\n",
      "Total params: 301\n",
      "Trainable params: 301\n",
      "Non-trainable params: 0\n",
      "_________________________________________________________________\n"
     ]
    }
   ],
   "source": [
    "model.summary()"
   ]
  },
  {
   "cell_type": "code",
   "execution_count": 15,
   "id": "50a05043-1bc6-4ab0-a743-42404ee6d8cb",
   "metadata": {},
   "outputs": [
    {
     "data": {
      "text/plain": [
       "array([[5.8252435]], dtype=float32)"
      ]
     },
     "execution_count": 15,
     "metadata": {},
     "output_type": "execute_result"
    }
   ],
   "source": [
    "model.predict(tf.expand_dims(tf.constant([17]), axis=-1))"
   ]
  },
  {
   "cell_type": "code",
   "execution_count": 16,
   "id": "5b53b3ea-cc81-44d4-afd5-62573174bf02",
   "metadata": {},
   "outputs": [
    {
     "name": "stdout",
     "output_type": "stream",
     "text": [
      "Epoch 1/100\n",
      "1/1 [==============================] - 1s 594ms/step - loss: 13.3925 - mae: 13.3925\n",
      "Epoch 2/100\n",
      "1/1 [==============================] - 0s 15ms/step - loss: 13.0753 - mae: 13.0753\n",
      "Epoch 3/100\n",
      "1/1 [==============================] - 0s 12ms/step - loss: 12.7635 - mae: 12.7635\n",
      "Epoch 4/100\n",
      "1/1 [==============================] - 0s 4ms/step - loss: 12.4587 - mae: 12.4587\n",
      "Epoch 5/100\n",
      "1/1 [==============================] - 0s 6ms/step - loss: 12.1600 - mae: 12.1600\n",
      "Epoch 6/100\n",
      "1/1 [==============================] - 0s 6ms/step - loss: 11.8656 - mae: 11.8656\n",
      "Epoch 7/100\n",
      "1/1 [==============================] - 0s 10ms/step - loss: 11.5691 - mae: 11.5691\n",
      "Epoch 8/100\n",
      "1/1 [==============================] - 0s 3ms/step - loss: 11.2710 - mae: 11.2710\n",
      "Epoch 9/100\n",
      "1/1 [==============================] - 0s 8ms/step - loss: 10.9729 - mae: 10.9729\n",
      "Epoch 10/100\n",
      "1/1 [==============================] - 0s 6ms/step - loss: 10.6777 - mae: 10.6777\n",
      "Epoch 11/100\n",
      "1/1 [==============================] - 0s 4ms/step - loss: 10.4459 - mae: 10.4459\n",
      "Epoch 12/100\n",
      "1/1 [==============================] - 0s 9ms/step - loss: 10.2390 - mae: 10.2390\n",
      "Epoch 13/100\n",
      "1/1 [==============================] - 0s 8ms/step - loss: 10.0355 - mae: 10.0355\n",
      "Epoch 14/100\n",
      "1/1 [==============================] - 0s 11ms/step - loss: 9.8342 - mae: 9.8342\n",
      "Epoch 15/100\n",
      "1/1 [==============================] - 0s 7ms/step - loss: 9.6290 - mae: 9.6290\n",
      "Epoch 16/100\n",
      "1/1 [==============================] - 0s 10ms/step - loss: 9.4226 - mae: 9.4226\n",
      "Epoch 17/100\n",
      "1/1 [==============================] - 0s 7ms/step - loss: 9.2109 - mae: 9.2109\n",
      "Epoch 18/100\n",
      "1/1 [==============================] - 0s 5ms/step - loss: 8.9950 - mae: 8.9950\n",
      "Epoch 19/100\n",
      "1/1 [==============================] - 0s 9ms/step - loss: 8.7748 - mae: 8.7748\n",
      "Epoch 20/100\n",
      "1/1 [==============================] - 0s 7ms/step - loss: 8.5491 - mae: 8.5491\n",
      "Epoch 21/100\n",
      "1/1 [==============================] - 0s 4ms/step - loss: 8.3230 - mae: 8.3230\n",
      "Epoch 22/100\n",
      "1/1 [==============================] - 0s 4ms/step - loss: 8.0908 - mae: 8.0908\n",
      "Epoch 23/100\n",
      "1/1 [==============================] - 0s 7ms/step - loss: 7.8513 - mae: 7.8513\n",
      "Epoch 24/100\n",
      "1/1 [==============================] - 0s 10ms/step - loss: 7.6045 - mae: 7.6045\n",
      "Epoch 25/100\n",
      "1/1 [==============================] - 0s 5ms/step - loss: 7.3505 - mae: 7.3505\n",
      "Epoch 26/100\n",
      "1/1 [==============================] - 0s 7ms/step - loss: 7.0888 - mae: 7.0888\n",
      "Epoch 27/100\n",
      "1/1 [==============================] - 0s 20ms/step - loss: 6.8186 - mae: 6.8186\n",
      "Epoch 28/100\n",
      "1/1 [==============================] - 0s 4ms/step - loss: 6.5400 - mae: 6.5400\n",
      "Epoch 29/100\n",
      "1/1 [==============================] - 0s 11ms/step - loss: 6.2572 - mae: 6.2572\n",
      "Epoch 30/100\n",
      "1/1 [==============================] - 0s 4ms/step - loss: 5.9670 - mae: 5.9670\n",
      "Epoch 31/100\n",
      "1/1 [==============================] - 0s 5ms/step - loss: 5.6678 - mae: 5.6678\n",
      "Epoch 32/100\n",
      "1/1 [==============================] - 0s 12ms/step - loss: 5.3597 - mae: 5.3597\n",
      "Epoch 33/100\n",
      "1/1 [==============================] - 0s 4ms/step - loss: 5.0422 - mae: 5.0422\n",
      "Epoch 34/100\n",
      "1/1 [==============================] - 0s 6ms/step - loss: 4.7152 - mae: 4.7152\n",
      "Epoch 35/100\n",
      "1/1 [==============================] - 0s 5ms/step - loss: 4.3804 - mae: 4.3804\n",
      "Epoch 36/100\n",
      "1/1 [==============================] - 0s 7ms/step - loss: 4.1134 - mae: 4.1134\n",
      "Epoch 37/100\n",
      "1/1 [==============================] - 0s 4ms/step - loss: 4.0053 - mae: 4.0053\n",
      "Epoch 38/100\n",
      "1/1 [==============================] - 0s 4ms/step - loss: 3.8998 - mae: 3.8998\n",
      "Epoch 39/100\n",
      "1/1 [==============================] - 0s 4ms/step - loss: 3.8760 - mae: 3.8760\n",
      "Epoch 40/100\n",
      "1/1 [==============================] - 0s 4ms/step - loss: 3.9342 - mae: 3.9342\n",
      "Epoch 41/100\n",
      "1/1 [==============================] - 0s 8ms/step - loss: 3.9840 - mae: 3.9840\n",
      "Epoch 42/100\n",
      "1/1 [==============================] - 0s 8ms/step - loss: 4.0264 - mae: 4.0264\n",
      "Epoch 43/100\n",
      "1/1 [==============================] - 0s 5ms/step - loss: 4.0611 - mae: 4.0611\n",
      "Epoch 44/100\n",
      "1/1 [==============================] - 0s 5ms/step - loss: 4.0891 - mae: 4.0891\n",
      "Epoch 45/100\n",
      "1/1 [==============================] - 0s 4ms/step - loss: 4.1108 - mae: 4.1108\n",
      "Epoch 46/100\n",
      "1/1 [==============================] - 0s 12ms/step - loss: 4.1262 - mae: 4.1262\n",
      "Epoch 47/100\n",
      "1/1 [==============================] - 0s 22ms/step - loss: 4.1362 - mae: 4.1362\n",
      "Epoch 48/100\n",
      "1/1 [==============================] - 0s 14ms/step - loss: 4.1413 - mae: 4.1413\n",
      "Epoch 49/100\n",
      "1/1 [==============================] - 0s 21ms/step - loss: 4.1451 - mae: 4.1451\n",
      "Epoch 50/100\n",
      "1/1 [==============================] - 0s 10ms/step - loss: 4.1321 - mae: 4.1321\n",
      "Epoch 51/100\n",
      "1/1 [==============================] - 0s 5ms/step - loss: 4.1191 - mae: 4.1191\n",
      "Epoch 52/100\n",
      "1/1 [==============================] - 0s 17ms/step - loss: 4.1031 - mae: 4.1031\n",
      "Epoch 53/100\n",
      "1/1 [==============================] - 0s 9ms/step - loss: 4.0843 - mae: 4.0843\n",
      "Epoch 54/100\n",
      "1/1 [==============================] - 0s 6ms/step - loss: 4.0630 - mae: 4.0630\n",
      "Epoch 55/100\n",
      "1/1 [==============================] - 0s 6ms/step - loss: 4.0394 - mae: 4.0394\n",
      "Epoch 56/100\n",
      "1/1 [==============================] - 0s 18ms/step - loss: 4.0146 - mae: 4.0146\n",
      "Epoch 57/100\n",
      "1/1 [==============================] - 0s 27ms/step - loss: 3.9877 - mae: 3.9877\n",
      "Epoch 58/100\n",
      "1/1 [==============================] - 0s 13ms/step - loss: 3.9596 - mae: 3.9596\n",
      "Epoch 59/100\n",
      "1/1 [==============================] - 0s 13ms/step - loss: 3.9512 - mae: 3.9512\n",
      "Epoch 60/100\n",
      "1/1 [==============================] - 0s 8ms/step - loss: 3.9241 - mae: 3.9241\n",
      "Epoch 61/100\n",
      "1/1 [==============================] - 0s 17ms/step - loss: 3.8798 - mae: 3.8798\n",
      "Epoch 62/100\n",
      "1/1 [==============================] - 0s 15ms/step - loss: 3.8514 - mae: 3.8514\n",
      "Epoch 63/100\n",
      "1/1 [==============================] - 0s 5ms/step - loss: 3.8252 - mae: 3.8252\n",
      "Epoch 64/100\n",
      "1/1 [==============================] - 0s 22ms/step - loss: 3.7974 - mae: 3.7974\n",
      "Epoch 65/100\n",
      "1/1 [==============================] - 0s 12ms/step - loss: 3.7685 - mae: 3.7685\n",
      "Epoch 66/100\n",
      "1/1 [==============================] - 0s 6ms/step - loss: 3.7385 - mae: 3.7385\n",
      "Epoch 67/100\n",
      "1/1 [==============================] - 0s 11ms/step - loss: 3.7075 - mae: 3.7075\n",
      "Epoch 68/100\n",
      "1/1 [==============================] - 0s 9ms/step - loss: 3.6784 - mae: 3.6784\n",
      "Epoch 69/100\n",
      "1/1 [==============================] - 0s 7ms/step - loss: 3.7010 - mae: 3.7010\n",
      "Epoch 70/100\n",
      "1/1 [==============================] - 0s 7ms/step - loss: 3.7150 - mae: 3.7150\n",
      "Epoch 71/100\n",
      "1/1 [==============================] - 0s 7ms/step - loss: 3.7211 - mae: 3.7211\n",
      "Epoch 72/100\n",
      "1/1 [==============================] - 0s 7ms/step - loss: 3.7195 - mae: 3.7195\n",
      "Epoch 73/100\n",
      "1/1 [==============================] - 0s 9ms/step - loss: 3.7110 - mae: 3.7110\n",
      "Epoch 74/100\n",
      "1/1 [==============================] - 0s 14ms/step - loss: 3.6964 - mae: 3.6964\n",
      "Epoch 75/100\n",
      "1/1 [==============================] - 0s 20ms/step - loss: 3.6758 - mae: 3.6758\n",
      "Epoch 76/100\n",
      "1/1 [==============================] - 0s 15ms/step - loss: 3.6496 - mae: 3.6496\n",
      "Epoch 77/100\n",
      "1/1 [==============================] - 0s 12ms/step - loss: 3.6184 - mae: 3.6184\n",
      "Epoch 78/100\n",
      "1/1 [==============================] - 0s 8ms/step - loss: 3.6267 - mae: 3.6267\n",
      "Epoch 79/100\n",
      "1/1 [==============================] - 0s 13ms/step - loss: 3.6320 - mae: 3.6320\n",
      "Epoch 80/100\n",
      "1/1 [==============================] - 0s 19ms/step - loss: 3.6322 - mae: 3.6322\n",
      "Epoch 81/100\n",
      "1/1 [==============================] - 0s 10ms/step - loss: 3.6291 - mae: 3.6291\n",
      "Epoch 82/100\n",
      "1/1 [==============================] - 0s 7ms/step - loss: 3.6250 - mae: 3.6250\n",
      "Epoch 83/100\n",
      "1/1 [==============================] - 0s 4ms/step - loss: 3.6165 - mae: 3.6165\n",
      "Epoch 84/100\n",
      "1/1 [==============================] - 0s 4ms/step - loss: 3.6053 - mae: 3.6053\n",
      "Epoch 85/100\n",
      "1/1 [==============================] - 0s 7ms/step - loss: 3.5912 - mae: 3.5912\n",
      "Epoch 86/100\n",
      "1/1 [==============================] - 0s 27ms/step - loss: 3.5735 - mae: 3.5735\n",
      "Epoch 87/100\n",
      "1/1 [==============================] - 0s 6ms/step - loss: 3.5546 - mae: 3.5546\n",
      "Epoch 88/100\n",
      "1/1 [==============================] - 0s 6ms/step - loss: 3.5346 - mae: 3.5346\n",
      "Epoch 89/100\n",
      "1/1 [==============================] - 0s 9ms/step - loss: 3.5411 - mae: 3.5411\n",
      "Epoch 90/100\n",
      "1/1 [==============================] - 0s 4ms/step - loss: 3.5430 - mae: 3.5430\n",
      "Epoch 91/100\n",
      "1/1 [==============================] - 0s 6ms/step - loss: 3.5358 - mae: 3.5358\n",
      "Epoch 92/100\n",
      "1/1 [==============================] - 0s 8ms/step - loss: 3.5196 - mae: 3.5196\n",
      "Epoch 93/100\n",
      "1/1 [==============================] - 0s 6ms/step - loss: 3.4953 - mae: 3.4953\n",
      "Epoch 94/100\n",
      "1/1 [==============================] - 0s 5ms/step - loss: 3.5025 - mae: 3.5025\n",
      "Epoch 95/100\n",
      "1/1 [==============================] - 0s 12ms/step - loss: 3.5042 - mae: 3.5042\n",
      "Epoch 96/100\n",
      "1/1 [==============================] - 0s 5ms/step - loss: 3.5004 - mae: 3.5004\n",
      "Epoch 97/100\n",
      "1/1 [==============================] - 0s 10ms/step - loss: 3.4915 - mae: 3.4915\n",
      "Epoch 98/100\n",
      "1/1 [==============================] - 0s 12ms/step - loss: 3.4820 - mae: 3.4820\n",
      "Epoch 99/100\n",
      "1/1 [==============================] - 0s 9ms/step - loss: 3.4649 - mae: 3.4649\n",
      "Epoch 100/100\n",
      "1/1 [==============================] - 0s 7ms/step - loss: 3.4479 - mae: 3.4479\n"
     ]
    },
    {
     "data": {
      "text/plain": [
       "<keras.callbacks.History at 0x7f95b8142940>"
      ]
     },
     "execution_count": 16,
     "metadata": {},
     "output_type": "execute_result"
    }
   ],
   "source": [
    "# Set random seed\n",
    "tf.random.set_seed(42)\n",
    "\n",
    "# Create a model (same as above)\n",
    "model = tf.keras.Sequential([\n",
    "    tf.keras.layers.Dense(100, activation='relu'),\n",
    "    tf.keras.layers.Dense(100, activation='relu'),\n",
    "    tf.keras.layers.Dense(1)\n",
    "])\n",
    "\n",
    "# Compile model (same as above)\n",
    "model.compile(loss='mae',\n",
    "              optimizer=tf.keras.optimizers.Adam(learning_rate=0.001),\n",
    "              metrics=[\"mae\"])\n",
    "\n",
    "# Fit model (this time we'll train for longer)\n",
    "model.fit(tf.expand_dims(X, axis=-1), y, epochs=100) # train for 100 epochs not 10"
   ]
  },
  {
   "cell_type": "code",
   "execution_count": 17,
   "id": "721e5b80-d5bd-455b-a4cb-df08ebdbc5e9",
   "metadata": {},
   "outputs": [
    {
     "data": {
      "text/plain": [
       "array([[[31.60745]]], dtype=float32)"
      ]
     },
     "execution_count": 17,
     "metadata": {},
     "output_type": "execute_result"
    }
   ],
   "source": [
    "# Try and predict what y would be if X was 17.0\n",
    "model.predict(tf.expand_dims([17.0], axis=-1)) # the right answer is 27.0 (y = X + 10)"
   ]
  },
  {
   "cell_type": "markdown",
   "id": "834e9867-39ab-46e2-a6a2-3f4a163d26c3",
   "metadata": {},
   "source": [
    "### Increase Data Size"
   ]
  },
  {
   "cell_type": "code",
   "execution_count": 18,
   "id": "f31a5fb9-718a-4576-b105-3668445d55b8",
   "metadata": {},
   "outputs": [],
   "source": [
    "X = tf.range(-100, 100, 4)"
   ]
  },
  {
   "cell_type": "code",
   "execution_count": 19,
   "id": "e078d67a-c43b-44ce-ada3-a85e425aaa0b",
   "metadata": {},
   "outputs": [],
   "source": [
    "y = X + 10"
   ]
  },
  {
   "cell_type": "code",
   "execution_count": 20,
   "id": "e1f7b25c-351d-45e4-97be-ab427f7defb5",
   "metadata": {},
   "outputs": [
    {
     "data": {
      "text/plain": [
       "<matplotlib.collections.PathCollection at 0x7f95a9eaed30>"
      ]
     },
     "execution_count": 20,
     "metadata": {},
     "output_type": "execute_result"
    },
    {
     "data": {
      "image/png": "[encoded data removed]",
      "text/plain": [
       "<Figure size 640x480 with 1 Axes>"
      ]
     },
     "metadata": {},
     "output_type": "display_data"
    }
   ],
   "source": [
    "plt.scatter(X, y)"
   ]
  },
  {
   "cell_type": "code",
   "execution_count": 21,
   "id": "54a717fb-931e-474a-93b1-4eb535eaf1d4",
   "metadata": {},
   "outputs": [],
   "source": [
    "# X_train, X_test, y_train, y_test = train_test_split(X.numpy(), y.numpy(), train_size=0.8, test_size=0.2)"
   ]
  },
  {
   "cell_type": "code",
   "execution_count": 22,
   "id": "7b7d6d4f-7a76-4d70-bdc9-3e83b917154d",
   "metadata": {},
   "outputs": [],
   "source": [
    "# X_train = tf.constant(X_train, dtype=tf.dtypes.float64)\n",
    "# X_test = tf.constant(X_test, dtype=tf.dtypes.float64)\n",
    "# y_train = tf.constant(y_train, dtype=tf.dtypes.float64)\n",
    "# y_test = tf.constant(y_test, dtype=tf.dtypes.float64) "
   ]
  },
  {
   "cell_type": "code",
   "execution_count": 23,
   "id": "5caf1ae9-8cce-4da8-8e9a-08a80fc99de0",
   "metadata": {},
   "outputs": [
    {
     "data": {
      "text/plain": [
       "(40, 10)"
      ]
     },
     "execution_count": 23,
     "metadata": {},
     "output_type": "execute_result"
    }
   ],
   "source": [
    "# Split data into train and test sets\n",
    "X_train = X[:40] # first 40 examples (80% of data)\n",
    "y_train = y[:40]\n",
    "\n",
    "X_test = X[40:] # last 10 examples (20% of data)\n",
    "y_test = y[40:]\n",
    "\n",
    "len(X_train), len(X_test)"
   ]
  },
  {
   "cell_type": "code",
   "execution_count": 24,
   "id": "26813305-7380-466e-bf6a-41a582f7447f",
   "metadata": {},
   "outputs": [
    {
     "data": {
      "text/plain": [
       "<matplotlib.legend.Legend at 0x7f95a9622b20>"
      ]
     },
     "execution_count": 24,
     "metadata": {},
     "output_type": "execute_result"
    },
    {
     "data": {
      "image/png": "[encoded data removed]",
      "text/plain": [
       "<Figure size 640x480 with 1 Axes>"
      ]
     },
     "metadata": {},
     "output_type": "display_data"
    }
   ],
   "source": [
    "plt.scatter(X_train, y_train, c='b', label='Training Data')\n",
    "plt.scatter(X_test, y_test, c='g', label='Test Data')\n",
    "plt.legend()"
   ]
  },
  {
   "cell_type": "markdown",
   "id": "24269a31-2c72-42e3-bfeb-4880eeb88ed4",
   "metadata": {},
   "source": [
    "#### Modeling"
   ]
  },
  {
   "cell_type": "code",
   "execution_count": 25,
   "id": "e14f1498-1c52-4521-8df7-ee00b059a72a",
   "metadata": {},
   "outputs": [],
   "source": [
    "# Set random seed\n",
    "tf.random.set_seed(42)\n",
    "\n",
    "# Create a model (same as above)\n",
    "model = tf.keras.Sequential([\n",
    "  tf.keras.layers.Dense(50, input_shape=[1]), # define the input_shape to our model\n",
    "    tf.keras.layers.Dense(1)\n",
    "])\n",
    "\n",
    "# Compile model (same as above)\n",
    "model.compile(loss=tf.keras.losses.mae,\n",
    "              optimizer=tf.keras.optimizers.SGD(),\n",
    "              metrics=[\"mae\"])"
   ]
  },
  {
   "cell_type": "code",
   "execution_count": 26,
   "id": "1cdc9e65-cc55-4283-a6bb-bc42e87255fc",
   "metadata": {},
   "outputs": [
    {
     "name": "stdout",
     "output_type": "stream",
     "text": [
      "Epoch 1/100\n",
      "2/2 [==============================] - 0s 6ms/step - loss: 36.6111 - mae: 36.6111\n",
      "Epoch 2/100\n",
      "2/2 [==============================] - 0s 3ms/step - loss: 29.0552 - mae: 29.0552\n",
      "Epoch 3/100\n",
      "2/2 [==============================] - 0s 4ms/step - loss: 34.1373 - mae: 34.1373\n",
      "Epoch 4/100\n",
      "2/2 [==============================] - 0s 21ms/step - loss: 27.5429 - mae: 27.5429\n",
      "Epoch 5/100\n",
      "2/2 [==============================] - 0s 12ms/step - loss: 15.0199 - mae: 15.0199\n",
      "Epoch 6/100\n",
      "2/2 [==============================] - 0s 4ms/step - loss: 11.9461 - mae: 11.9461\n",
      "Epoch 7/100\n",
      "2/2 [==============================] - 0s 2ms/step - loss: 11.2722 - mae: 11.2722\n",
      "Epoch 8/100\n",
      "2/2 [==============================] - 0s 3ms/step - loss: 11.1393 - mae: 11.1393\n",
      "Epoch 9/100\n",
      "2/2 [==============================] - 0s 3ms/step - loss: 40.9448 - mae: 40.9448\n",
      "Epoch 10/100\n",
      "2/2 [==============================] - 0s 4ms/step - loss: 28.2775 - mae: 28.2775\n",
      "Epoch 11/100\n",
      "2/2 [==============================] - 0s 3ms/step - loss: 10.2517 - mae: 10.2517\n",
      "Epoch 12/100\n",
      "2/2 [==============================] - 0s 4ms/step - loss: 25.1804 - mae: 25.1804\n",
      "Epoch 13/100\n",
      "2/2 [==============================] - 0s 8ms/step - loss: 17.6153 - mae: 17.6153\n",
      "Epoch 14/100\n",
      "2/2 [==============================] - 0s 4ms/step - loss: 23.7788 - mae: 23.7788\n",
      "Epoch 15/100\n",
      "2/2 [==============================] - 0s 8ms/step - loss: 15.8235 - mae: 15.8235\n",
      "Epoch 16/100\n",
      "2/2 [==============================] - 0s 4ms/step - loss: 10.4584 - mae: 10.4584\n",
      "Epoch 17/100\n",
      "2/2 [==============================] - 0s 6ms/step - loss: 19.7477 - mae: 19.7477\n",
      "Epoch 18/100\n",
      "2/2 [==============================] - 0s 7ms/step - loss: 13.3611 - mae: 13.3611\n",
      "Epoch 19/100\n",
      "2/2 [==============================] - 0s 5ms/step - loss: 16.3715 - mae: 16.3715\n",
      "Epoch 20/100\n",
      "2/2 [==============================] - 0s 11ms/step - loss: 8.2535 - mae: 8.2535\n",
      "Epoch 21/100\n",
      "2/2 [==============================] - 0s 12ms/step - loss: 14.4642 - mae: 14.4642\n",
      "Epoch 22/100\n",
      "2/2 [==============================] - 0s 3ms/step - loss: 12.8824 - mae: 12.8824\n",
      "Epoch 23/100\n",
      "2/2 [==============================] - 0s 9ms/step - loss: 15.5156 - mae: 15.5156\n",
      "Epoch 24/100\n",
      "2/2 [==============================] - 0s 8ms/step - loss: 15.3063 - mae: 15.3063\n",
      "Epoch 25/100\n",
      "2/2 [==============================] - 0s 7ms/step - loss: 14.3670 - mae: 14.3670\n",
      "Epoch 26/100\n",
      "2/2 [==============================] - 0s 8ms/step - loss: 19.3938 - mae: 19.3938\n",
      "Epoch 27/100\n",
      "2/2 [==============================] - 0s 8ms/step - loss: 11.4308 - mae: 11.4308\n",
      "Epoch 28/100\n",
      "2/2 [==============================] - 0s 4ms/step - loss: 28.9397 - mae: 28.9397\n",
      "Epoch 29/100\n",
      "2/2 [==============================] - 0s 6ms/step - loss: 9.2531 - mae: 9.2531\n",
      "Epoch 30/100\n",
      "2/2 [==============================] - 0s 8ms/step - loss: 29.7075 - mae: 29.7075\n",
      "Epoch 31/100\n",
      "2/2 [==============================] - 0s 4ms/step - loss: 53.8877 - mae: 53.8877\n",
      "Epoch 32/100\n",
      "2/2 [==============================] - 0s 9ms/step - loss: 9.5430 - mae: 9.5430\n",
      "Epoch 33/100\n",
      "2/2 [==============================] - 0s 9ms/step - loss: 12.1296 - mae: 12.1296\n",
      "Epoch 34/100\n",
      "2/2 [==============================] - 0s 3ms/step - loss: 23.7477 - mae: 23.7477\n",
      "Epoch 35/100\n",
      "2/2 [==============================] - 0s 4ms/step - loss: 12.6478 - mae: 12.6478\n",
      "Epoch 36/100\n",
      "2/2 [==============================] - 0s 3ms/step - loss: 21.5884 - mae: 21.5884\n",
      "Epoch 37/100\n",
      "2/2 [==============================] - 0s 3ms/step - loss: 11.3330 - mae: 11.3330\n",
      "Epoch 38/100\n",
      "2/2 [==============================] - 0s 12ms/step - loss: 13.3822 - mae: 13.3822\n",
      "Epoch 39/100\n",
      "2/2 [==============================] - 0s 3ms/step - loss: 10.7518 - mae: 10.7518\n",
      "Epoch 40/100\n",
      "2/2 [==============================] - 0s 3ms/step - loss: 16.4760 - mae: 16.4760\n",
      "Epoch 41/100\n",
      "2/2 [==============================] - 0s 3ms/step - loss: 10.9147 - mae: 10.9147\n",
      "Epoch 42/100\n",
      "2/2 [==============================] - 0s 4ms/step - loss: 9.2568 - mae: 9.2568\n",
      "Epoch 43/100\n",
      "2/2 [==============================] - 0s 6ms/step - loss: 9.5814 - mae: 9.5814\n",
      "Epoch 44/100\n",
      "2/2 [==============================] - 0s 4ms/step - loss: 27.8029 - mae: 27.8029\n",
      "Epoch 45/100\n",
      "2/2 [==============================] - 0s 14ms/step - loss: 11.2368 - mae: 11.2368\n",
      "Epoch 46/100\n",
      "2/2 [==============================] - 0s 11ms/step - loss: 13.7956 - mae: 13.7956\n",
      "Epoch 47/100\n",
      "2/2 [==============================] - 0s 11ms/step - loss: 11.9460 - mae: 11.9460\n",
      "Epoch 48/100\n",
      "2/2 [==============================] - 0s 3ms/step - loss: 16.9952 - mae: 16.9952\n",
      "Epoch 49/100\n",
      "2/2 [==============================] - 0s 7ms/step - loss: 9.7513 - mae: 9.7513\n",
      "Epoch 50/100\n",
      "2/2 [==============================] - 0s 3ms/step - loss: 14.1231 - mae: 14.1231\n",
      "Epoch 51/100\n",
      "2/2 [==============================] - 0s 5ms/step - loss: 11.7214 - mae: 11.7214\n",
      "Epoch 52/100\n",
      "2/2 [==============================] - 0s 7ms/step - loss: 31.2636 - mae: 31.2636\n",
      "Epoch 53/100\n",
      "2/2 [==============================] - 0s 13ms/step - loss: 14.6722 - mae: 14.6722\n",
      "Epoch 54/100\n",
      "2/2 [==============================] - 0s 3ms/step - loss: 24.5200 - mae: 24.5200\n",
      "Epoch 55/100\n",
      "2/2 [==============================] - 0s 4ms/step - loss: 23.7954 - mae: 23.7954\n",
      "Epoch 56/100\n",
      "2/2 [==============================] - 0s 3ms/step - loss: 11.0914 - mae: 11.0914\n",
      "Epoch 57/100\n",
      "2/2 [==============================] - 0s 4ms/step - loss: 13.0184 - mae: 13.0184\n",
      "Epoch 58/100\n",
      "2/2 [==============================] - 0s 3ms/step - loss: 9.7583 - mae: 9.7583\n",
      "Epoch 59/100\n",
      "2/2 [==============================] - 0s 5ms/step - loss: 13.1911 - mae: 13.1911\n",
      "Epoch 60/100\n",
      "2/2 [==============================] - 0s 5ms/step - loss: 10.8071 - mae: 10.8071\n",
      "Epoch 61/100\n",
      "2/2 [==============================] - 0s 3ms/step - loss: 13.3755 - mae: 13.3755\n",
      "Epoch 62/100\n",
      "2/2 [==============================] - 0s 3ms/step - loss: 17.3052 - mae: 17.3052\n",
      "Epoch 63/100\n",
      "2/2 [==============================] - 0s 3ms/step - loss: 9.1218 - mae: 9.1218\n",
      "Epoch 64/100\n",
      "2/2 [==============================] - 0s 14ms/step - loss: 17.9304 - mae: 17.9304\n",
      "Epoch 65/100\n",
      "2/2 [==============================] - 0s 11ms/step - loss: 10.6052 - mae: 10.6052\n",
      "Epoch 66/100\n",
      "2/2 [==============================] - 0s 8ms/step - loss: 21.4455 - mae: 21.4455\n",
      "Epoch 67/100\n",
      "2/2 [==============================] - 0s 21ms/step - loss: 10.6143 - mae: 10.6143\n",
      "Epoch 68/100\n",
      "2/2 [==============================] - 0s 9ms/step - loss: 14.8378 - mae: 14.8378\n",
      "Epoch 69/100\n",
      "2/2 [==============================] - 0s 4ms/step - loss: 10.7580 - mae: 10.7580\n",
      "Epoch 70/100\n",
      "2/2 [==============================] - 0s 4ms/step - loss: 12.8580 - mae: 12.8580\n",
      "Epoch 71/100\n",
      "2/2 [==============================] - 0s 5ms/step - loss: 13.2791 - mae: 13.2791\n",
      "Epoch 72/100\n",
      "2/2 [==============================] - 0s 4ms/step - loss: 20.1130 - mae: 20.1130\n",
      "Epoch 73/100\n",
      "2/2 [==============================] - 0s 6ms/step - loss: 9.7319 - mae: 9.7319\n",
      "Epoch 74/100\n",
      "2/2 [==============================] - 0s 4ms/step - loss: 27.4138 - mae: 27.4138\n",
      "Epoch 75/100\n",
      "2/2 [==============================] - 0s 6ms/step - loss: 10.0106 - mae: 10.0106\n",
      "Epoch 76/100\n",
      "2/2 [==============================] - 0s 4ms/step - loss: 12.9286 - mae: 12.9286\n",
      "Epoch 77/100\n",
      "2/2 [==============================] - 0s 11ms/step - loss: 17.9165 - mae: 17.9165\n",
      "Epoch 78/100\n",
      "2/2 [==============================] - 0s 3ms/step - loss: 8.9585 - mae: 8.9585\n",
      "Epoch 79/100\n",
      "2/2 [==============================] - 0s 5ms/step - loss: 28.7590 - mae: 28.7590\n",
      "Epoch 80/100\n",
      "2/2 [==============================] - 0s 3ms/step - loss: 31.1029 - mae: 31.1029\n",
      "Epoch 81/100\n",
      "2/2 [==============================] - 0s 11ms/step - loss: 13.4387 - mae: 13.4387\n",
      "Epoch 82/100\n",
      "2/2 [==============================] - 0s 12ms/step - loss: 14.3088 - mae: 14.3088\n",
      "Epoch 83/100\n",
      "2/2 [==============================] - 0s 11ms/step - loss: 18.8392 - mae: 18.8392\n",
      "Epoch 84/100\n",
      "2/2 [==============================] - 0s 14ms/step - loss: 9.4525 - mae: 9.4525\n",
      "Epoch 85/100\n",
      "2/2 [==============================] - 0s 4ms/step - loss: 25.2342 - mae: 25.2342\n",
      "Epoch 86/100\n",
      "2/2 [==============================] - 0s 4ms/step - loss: 16.4579 - mae: 16.4579\n",
      "Epoch 87/100\n",
      "2/2 [==============================] - 0s 6ms/step - loss: 11.4714 - mae: 11.4714\n",
      "Epoch 88/100\n",
      "2/2 [==============================] - 0s 6ms/step - loss: 27.0891 - mae: 27.0891\n",
      "Epoch 89/100\n",
      "2/2 [==============================] - 0s 13ms/step - loss: 9.7434 - mae: 9.7434\n",
      "Epoch 90/100\n",
      "2/2 [==============================] - 0s 8ms/step - loss: 19.1229 - mae: 19.1229\n",
      "Epoch 91/100\n",
      "2/2 [==============================] - 0s 5ms/step - loss: 10.6058 - mae: 10.6058\n",
      "Epoch 92/100\n",
      "2/2 [==============================] - 0s 6ms/step - loss: 18.3405 - mae: 18.3405\n",
      "Epoch 93/100\n",
      "2/2 [==============================] - 0s 5ms/step - loss: 6.8576 - mae: 6.8576\n",
      "Epoch 94/100\n",
      "2/2 [==============================] - 0s 8ms/step - loss: 13.0912 - mae: 13.0912\n",
      "Epoch 95/100\n",
      "2/2 [==============================] - 0s 5ms/step - loss: 18.4968 - mae: 18.4968\n",
      "Epoch 96/100\n",
      "2/2 [==============================] - 0s 4ms/step - loss: 10.4176 - mae: 10.4176\n",
      "Epoch 97/100\n",
      "2/2 [==============================] - 0s 7ms/step - loss: 14.4929 - mae: 14.4929\n",
      "Epoch 98/100\n",
      "2/2 [==============================] - 0s 3ms/step - loss: 6.6149 - mae: 6.6149\n",
      "Epoch 99/100\n",
      "2/2 [==============================] - 0s 18ms/step - loss: 12.6084 - mae: 12.6084\n",
      "Epoch 100/100\n",
      "2/2 [==============================] - 0s 6ms/step - loss: 19.4103 - mae: 19.4103\n"
     ]
    },
    {
     "data": {
      "text/plain": [
       "<keras.callbacks.History at 0x7f95a959a4f0>"
      ]
     },
     "execution_count": 26,
     "metadata": {},
     "output_type": "execute_result"
    }
   ],
   "source": [
    "model.fit(X_train, y_train, epochs=100, verbose=1) "
   ]
  },
  {
   "cell_type": "code",
   "execution_count": 27,
   "id": "c4985fe3-e47f-4dc0-92a1-4f3bef1201d8",
   "metadata": {},
   "outputs": [
    {
     "data": {
      "text/plain": [
       "(array([[ 78.254326],\n",
       "        [ 83.35619 ],\n",
       "        [ 88.458046],\n",
       "        [ 93.55991 ],\n",
       "        [ 98.66178 ],\n",
       "        [103.76363 ],\n",
       "        [108.8655  ],\n",
       "        [113.96737 ],\n",
       "        [119.06923 ],\n",
       "        [124.17109 ]], dtype=float32),\n",
       " <tf.Tensor: shape=(10,), dtype=int32, numpy=array([60, 64, 68, 72, 76, 80, 84, 88, 92, 96], dtype=int32)>)"
      ]
     },
     "execution_count": 27,
     "metadata": {},
     "output_type": "execute_result"
    }
   ],
   "source": [
    "y_preds = model.predict(X_test)\n",
    "y_preds, X_test"
   ]
  },
  {
   "cell_type": "markdown",
   "id": "d97d1db6-7b5f-4327-90c6-112afdfe8324",
   "metadata": {},
   "source": [
    "### Evaluating Model"
   ]
  },
  {
   "cell_type": "code",
   "execution_count": 28,
   "id": "a5d20fcd-e81e-43cf-9ee9-260a9ad83208",
   "metadata": {},
   "outputs": [],
   "source": [
    "def plot_predictions(train_data=X_train, \n",
    "                     train_labels=y_train, \n",
    "                     test_data=X_test, \n",
    "                     test_labels=y_test, \n",
    "                     predictions=y_preds):\n",
    "  \"\"\"\n",
    "  Plots training data, test data and compares predictions.\n",
    "  \"\"\"\n",
    "  plt.figure(figsize=(10, 7))\n",
    "  # Plot training data in blue\n",
    "  plt.scatter(train_data, train_labels, c=\"b\", label=\"Training data\")\n",
    "  # Plot test data in green\n",
    "  plt.scatter(test_data, test_labels, c=\"g\", label=\"Testing data\")\n",
    "  # Plot the predictions in red (predictions were made on the test data)\n",
    "  plt.scatter(test_data, predictions, c=\"r\", label=\"Predictions\")\n",
    "  # Show the legend\n",
    "  plt.legend();"
   ]
  },
  {
   "cell_type": "code",
   "execution_count": 29,
   "id": "114280db-5213-4e32-a66e-2b54acdaa493",
   "metadata": {},
   "outputs": [
    {
     "data": {
      "image/png": "[encoded data removed]",
      "text/plain": [
       "<Figure size 1000x700 with 1 Axes>"
      ]
     },
     "metadata": {},
     "output_type": "display_data"
    }
   ],
   "source": [
    "plot_predictions(train_data=X_train,\n",
    "                 train_labels=y_train,\n",
    "                 test_data=X_test,\n",
    "                 test_labels=y_test,\n",
    "                 predictions=y_preds)"
   ]
  },
  {
   "cell_type": "code",
   "execution_count": 30,
   "id": "39d30beb-71d0-49c8-9107-6a5b5be9926e",
   "metadata": {},
   "outputs": [
    {
     "name": "stdout",
     "output_type": "stream",
     "text": [
      "1/1 [==============================] - 0s 175ms/step - loss: 13.2127 - mae: 13.2127\n"
     ]
    },
    {
     "data": {
      "text/plain": [
       "[13.21270751953125, 13.21270751953125]"
      ]
     },
     "execution_count": 30,
     "metadata": {},
     "output_type": "execute_result"
    }
   ],
   "source": [
    "model.evaluate(X_test, y_test)"
   ]
  },
  {
   "cell_type": "markdown",
   "id": "e9bb90d4-8433-4bee-8370-56717d4b5b09",
   "metadata": {},
   "source": [
    "#### MAE"
   ]
  },
  {
   "cell_type": "code",
   "execution_count": 31,
   "id": "b779d55b-5620-4dd8-a997-df48e68ecd4a",
   "metadata": {},
   "outputs": [
    {
     "data": {
      "text/plain": [
       "array([[ 78.254326],\n",
       "       [ 83.35619 ],\n",
       "       [ 88.458046],\n",
       "       [ 93.55991 ],\n",
       "       [ 98.66178 ],\n",
       "       [103.76363 ],\n",
       "       [108.8655  ],\n",
       "       [113.96737 ],\n",
       "       [119.06923 ],\n",
       "       [124.17109 ]], dtype=float32)"
      ]
     },
     "execution_count": 31,
     "metadata": {},
     "output_type": "execute_result"
    }
   ],
   "source": [
    "y_preds"
   ]
  },
  {
   "cell_type": "code",
   "execution_count": 32,
   "id": "1a50b0c0-6f98-4cda-a5a0-6ed639367d3d",
   "metadata": {},
   "outputs": [
    {
     "data": {
      "text/plain": [
       "<tf.Tensor: shape=(10,), dtype=int32, numpy=array([ 70,  74,  78,  82,  86,  90,  94,  98, 102, 106], dtype=int32)>"
      ]
     },
     "execution_count": 32,
     "metadata": {},
     "output_type": "execute_result"
    }
   ],
   "source": [
    "y_test"
   ]
  },
  {
   "cell_type": "code",
   "execution_count": 33,
   "id": "465899d6-20b6-4d6c-b823-f8ebe6a0fa78",
   "metadata": {},
   "outputs": [
    {
     "data": {
      "text/plain": [
       "<tf.Tensor: shape=(), dtype=float32, numpy=13.2127075>"
      ]
     },
     "execution_count": 33,
     "metadata": {},
     "output_type": "execute_result"
    }
   ],
   "source": [
    "tf.metrics.mean_absolute_error(y_test, tf.squeeze(tf.constant(y_preds)))"
   ]
  },
  {
   "cell_type": "markdown",
   "id": "e7fb4082-01b0-4207-aa5b-f68123955ca0",
   "metadata": {},
   "source": [
    "#### MSE"
   ]
  },
  {
   "cell_type": "code",
   "execution_count": 34,
   "id": "ac5e8db6-80da-434e-9156-ea2549bdec55",
   "metadata": {},
   "outputs": [
    {
     "data": {
      "text/plain": [
       "<tf.Tensor: shape=(), dtype=float32, numpy=184.592>"
      ]
     },
     "execution_count": 34,
     "metadata": {},
     "output_type": "execute_result"
    }
   ],
   "source": [
    "tf.metrics.mean_squared_error(y_test, tf.squeeze(\n",
    "    tf.constant(y_preds)\n",
    "))"
   ]
  },
  {
   "cell_type": "markdown",
   "id": "94a0c540-cb5b-4250-b4ef-0d10567cd3de",
   "metadata": {},
   "source": [
    "### Plot Model"
   ]
  },
  {
   "cell_type": "code",
   "execution_count": 35,
   "id": "84e2b07d-3b20-4a2b-b735-ab4f16d749f5",
   "metadata": {},
   "outputs": [
    {
     "data": {
      "image/png": "[encoded data removed]",
      "text/plain": [
       "<IPython.core.display.Image object>"
      ]
     },
     "execution_count": 35,
     "metadata": {},
     "output_type": "execute_result"
    }
   ],
   "source": [
    "plot_model(model, show_shapes=True)"
   ]
  },
  {
   "cell_type": "markdown",
   "id": "a959fc9c-74b0-4042-b6c3-06aa60d6b95b",
   "metadata": {},
   "source": [
    "### Save Model\n",
    "\n",
    "Two ways to save Model\n",
    "- Save Model format\n",
    "- HDF5 format (Heirarchial Data Format)"
   ]
  },
  {
   "cell_type": "code",
   "execution_count": 36,
   "id": "a6c416f6-d0b7-4c32-95c2-ef291a77dede",
   "metadata": {},
   "outputs": [
    {
     "name": "stderr",
     "output_type": "stream",
     "text": [
      "2023-06-24 17:54:20.736907: W tensorflow/python/util/util.cc:348] Sets are not currently considered sequences, but this may change in the future, so consider avoiding using them.\n"
     ]
    },
    {
     "name": "stdout",
     "output_type": "stream",
     "text": [
      "INFO:tensorflow:Assets written to: sample_regression_model/assets\n"
     ]
    }
   ],
   "source": [
    "model.save('sample_regression_model')"
   ]
  },
  {
   "cell_type": "code",
   "execution_count": 37,
   "id": "09d0986f-4489-41a4-9944-ed8b07376d5d",
   "metadata": {},
   "outputs": [],
   "source": [
    "model.save('sample_regression_model.h5')"
   ]
  },
  {
   "cell_type": "markdown",
   "id": "36c30438-dc86-462b-9a47-e4a68cd0f3c5",
   "metadata": {},
   "source": [
    "### Load Model"
   ]
  },
  {
   "cell_type": "code",
   "execution_count": 38,
   "id": "2dca112b-8e7d-4dfb-b794-b1c68591e786",
   "metadata": {},
   "outputs": [],
   "source": [
    "loaded_model = keras.models.load_model('./sample_regression_model.h5')"
   ]
  },
  {
   "cell_type": "code",
   "execution_count": 39,
   "id": "8e0e39a1-f096-467c-b2f2-d77b5dbe79ba",
   "metadata": {},
   "outputs": [
    {
     "name": "stdout",
     "output_type": "stream",
     "text": [
      "WARNING:tensorflow:5 out of the last 5 calls to <function Model.make_predict_function.<locals>.predict_function at 0x7f95b82fb700> triggered tf.function retracing. Tracing is expensive and the excessive number of tracings could be due to (1) creating @tf.function repeatedly in a loop, (2) passing tensors with different shapes, (3) passing Python objects instead of tensors. For (1), please define your @tf.function outside of the loop. For (2), @tf.function has experimental_relax_shapes=True option that relaxes argument shapes that can avoid unnecessary retracing. For (3), please refer to https://www.tensorflow.org/guide/function#controlling_retracing and https://www.tensorflow.org/api_docs/python/tf/function for  more details.\n"
     ]
    },
    {
     "data": {
      "text/plain": [
       "array([[ 78.254326],\n",
       "       [ 83.35619 ],\n",
       "       [ 88.458046],\n",
       "       [ 93.55991 ],\n",
       "       [ 98.66178 ],\n",
       "       [103.76363 ],\n",
       "       [108.8655  ],\n",
       "       [113.96737 ],\n",
       "       [119.06923 ],\n",
       "       [124.17109 ]], dtype=float32)"
      ]
     },
     "execution_count": 39,
     "metadata": {},
     "output_type": "execute_result"
    }
   ],
   "source": [
    "loaded_model.predict(X_test)"
   ]
  },
  {
   "cell_type": "markdown",
   "id": "51cdb659-a49c-4152-b334-3311523dc617",
   "metadata": {},
   "source": [
    "## Insurance Dataset"
   ]
  },
  {
   "cell_type": "markdown",
   "id": "dd58ef39-2d0c-4760-95d6-03632eb54988",
   "metadata": {},
   "source": [
    "### Load Dataset"
   ]
  },
  {
   "cell_type": "code",
   "execution_count": 40,
   "id": "01aead32-27f1-4705-9f5d-f5527e875977",
   "metadata": {},
   "outputs": [],
   "source": [
    "df = pd.read_csv('https://raw.githubusercontent.com/stedy/Machine-Learning-with-R-datasets/master/insurance.csv')"
   ]
  },
  {
   "cell_type": "code",
   "execution_count": 41,
   "id": "20f9cdee-b7f7-453a-b8b1-6b4cd1b45673",
   "metadata": {},
   "outputs": [
    {
     "data": {
      "text/html": [
       "<div>\n",
       "<style scoped>\n",
       "    .dataframe tbody tr th:only-of-type {\n",
       "        vertical-align: middle;\n",
       "    }\n",
       "\n",
       "    .dataframe tbody tr th {\n",
       "        vertical-align: top;\n",
       "    }\n",
       "\n",
       "    .dataframe thead th {\n",
       "        text-align: right;\n",
       "    }\n",
       "</style>\n",
       "<table border=\"1\" class=\"dataframe\">\n",
       "  <thead>\n",
       "    <tr style=\"text-align: right;\">\n",
       "      <th></th>\n",
       "      <th>age</th>\n",
       "      <th>sex</th>\n",
       "      <th>bmi</th>\n",
       "      <th>children</th>\n",
       "      <th>smoker</th>\n",
       "      <th>region</th>\n",
       "      <th>charges</th>\n",
       "    </tr>\n",
       "  </thead>\n",
       "  <tbody>\n",
       "    <tr>\n",
       "      <th>0</th>\n",
       "      <td>19</td>\n",
       "      <td>female</td>\n",
       "      <td>27.900</td>\n",
       "      <td>0</td>\n",
       "      <td>yes</td>\n",
       "      <td>southwest</td>\n",
       "      <td>16884.92400</td>\n",
       "    </tr>\n",
       "    <tr>\n",
       "      <th>1</th>\n",
       "      <td>18</td>\n",
       "      <td>male</td>\n",
       "      <td>33.770</td>\n",
       "      <td>1</td>\n",
       "      <td>no</td>\n",
       "      <td>southeast</td>\n",
       "      <td>1725.55230</td>\n",
       "    </tr>\n",
       "    <tr>\n",
       "      <th>2</th>\n",
       "      <td>28</td>\n",
       "      <td>male</td>\n",
       "      <td>33.000</td>\n",
       "      <td>3</td>\n",
       "      <td>no</td>\n",
       "      <td>southeast</td>\n",
       "      <td>4449.46200</td>\n",
       "    </tr>\n",
       "    <tr>\n",
       "      <th>3</th>\n",
       "      <td>33</td>\n",
       "      <td>male</td>\n",
       "      <td>22.705</td>\n",
       "      <td>0</td>\n",
       "      <td>no</td>\n",
       "      <td>northwest</td>\n",
       "      <td>21984.47061</td>\n",
       "    </tr>\n",
       "    <tr>\n",
       "      <th>4</th>\n",
       "      <td>32</td>\n",
       "      <td>male</td>\n",
       "      <td>28.880</td>\n",
       "      <td>0</td>\n",
       "      <td>no</td>\n",
       "      <td>northwest</td>\n",
       "      <td>3866.85520</td>\n",
       "    </tr>\n",
       "  </tbody>\n",
       "</table>\n",
       "</div>"
      ],
      "text/plain": [
       "   age     sex     bmi  children smoker     region      charges\n",
       "0   19  female  27.900         0    yes  southwest  16884.92400\n",
       "1   18    male  33.770         1     no  southeast   1725.55230\n",
       "2   28    male  33.000         3     no  southeast   4449.46200\n",
       "3   33    male  22.705         0     no  northwest  21984.47061\n",
       "4   32    male  28.880         0     no  northwest   3866.85520"
      ]
     },
     "execution_count": 41,
     "metadata": {},
     "output_type": "execute_result"
    }
   ],
   "source": [
    "df.head()"
   ]
  },
  {
   "cell_type": "markdown",
   "id": "426e1512-8178-40f2-a7a3-b526c506d657",
   "metadata": {},
   "source": [
    "### EDA"
   ]
  },
  {
   "cell_type": "code",
   "execution_count": 42,
   "id": "6b216bd9-c7ed-4304-987d-23820efe43fc",
   "metadata": {},
   "outputs": [
    {
     "name": "stdout",
     "output_type": "stream",
     "text": [
      "<class 'pandas.core.frame.DataFrame'>\n",
      "RangeIndex: 1338 entries, 0 to 1337\n",
      "Data columns (total 7 columns):\n",
      " #   Column    Non-Null Count  Dtype  \n",
      "---  ------    --------------  -----  \n",
      " 0   age       1338 non-null   int64  \n",
      " 1   sex       1338 non-null   object \n",
      " 2   bmi       1338 non-null   float64\n",
      " 3   children  1338 non-null   int64  \n",
      " 4   smoker    1338 non-null   object \n",
      " 5   region    1338 non-null   object \n",
      " 6   charges   1338 non-null   float64\n",
      "dtypes: float64(2), int64(2), object(3)\n",
      "memory usage: 73.3+ KB\n"
     ]
    }
   ],
   "source": [
    "df.info()"
   ]
  },
  {
   "cell_type": "markdown",
   "id": "a90e5148-95c9-4def-a520-45ea25c1c634",
   "metadata": {},
   "source": [
    "#### Describe"
   ]
  },
  {
   "cell_type": "code",
   "execution_count": 43,
   "id": "7ea9645f-dd52-4d2e-9858-7c975ca02dfd",
   "metadata": {},
   "outputs": [
    {
     "data": {
      "text/html": [
       "<div>\n",
       "<style scoped>\n",
       "    .dataframe tbody tr th:only-of-type {\n",
       "        vertical-align: middle;\n",
       "    }\n",
       "\n",
       "    .dataframe tbody tr th {\n",
       "        vertical-align: top;\n",
       "    }\n",
       "\n",
       "    .dataframe thead th {\n",
       "        text-align: right;\n",
       "    }\n",
       "</style>\n",
       "<table border=\"1\" class=\"dataframe\">\n",
       "  <thead>\n",
       "    <tr style=\"text-align: right;\">\n",
       "      <th></th>\n",
       "      <th>age</th>\n",
       "      <th>bmi</th>\n",
       "      <th>children</th>\n",
       "      <th>charges</th>\n",
       "    </tr>\n",
       "  </thead>\n",
       "  <tbody>\n",
       "    <tr>\n",
       "      <th>count</th>\n",
       "      <td>1338.000000</td>\n",
       "      <td>1338.000000</td>\n",
       "      <td>1338.000000</td>\n",
       "      <td>1338.000000</td>\n",
       "    </tr>\n",
       "    <tr>\n",
       "      <th>mean</th>\n",
       "      <td>39.207025</td>\n",
       "      <td>30.663397</td>\n",
       "      <td>1.094918</td>\n",
       "      <td>13270.422265</td>\n",
       "    </tr>\n",
       "    <tr>\n",
       "      <th>std</th>\n",
       "      <td>14.049960</td>\n",
       "      <td>6.098187</td>\n",
       "      <td>1.205493</td>\n",
       "      <td>12110.011237</td>\n",
       "    </tr>\n",
       "    <tr>\n",
       "      <th>min</th>\n",
       "      <td>18.000000</td>\n",
       "      <td>15.960000</td>\n",
       "      <td>0.000000</td>\n",
       "      <td>1121.873900</td>\n",
       "    </tr>\n",
       "    <tr>\n",
       "      <th>25%</th>\n",
       "      <td>27.000000</td>\n",
       "      <td>26.296250</td>\n",
       "      <td>0.000000</td>\n",
       "      <td>4740.287150</td>\n",
       "    </tr>\n",
       "    <tr>\n",
       "      <th>50%</th>\n",
       "      <td>39.000000</td>\n",
       "      <td>30.400000</td>\n",
       "      <td>1.000000</td>\n",
       "      <td>9382.033000</td>\n",
       "    </tr>\n",
       "    <tr>\n",
       "      <th>75%</th>\n",
       "      <td>51.000000</td>\n",
       "      <td>34.693750</td>\n",
       "      <td>2.000000</td>\n",
       "      <td>16639.912515</td>\n",
       "    </tr>\n",
       "    <tr>\n",
       "      <th>max</th>\n",
       "      <td>64.000000</td>\n",
       "      <td>53.130000</td>\n",
       "      <td>5.000000</td>\n",
       "      <td>63770.428010</td>\n",
       "    </tr>\n",
       "  </tbody>\n",
       "</table>\n",
       "</div>"
      ],
      "text/plain": [
       "               age          bmi     children       charges\n",
       "count  1338.000000  1338.000000  1338.000000   1338.000000\n",
       "mean     39.207025    30.663397     1.094918  13270.422265\n",
       "std      14.049960     6.098187     1.205493  12110.011237\n",
       "min      18.000000    15.960000     0.000000   1121.873900\n",
       "25%      27.000000    26.296250     0.000000   4740.287150\n",
       "50%      39.000000    30.400000     1.000000   9382.033000\n",
       "75%      51.000000    34.693750     2.000000  16639.912515\n",
       "max      64.000000    53.130000     5.000000  63770.428010"
      ]
     },
     "execution_count": 43,
     "metadata": {},
     "output_type": "execute_result"
    }
   ],
   "source": [
    "df.describe()"
   ]
  },
  {
   "cell_type": "markdown",
   "id": "e4e62115-c720-4c23-8683-ce34c5d8671d",
   "metadata": {},
   "source": [
    "#### Categorical data distribution"
   ]
  },
  {
   "cell_type": "code",
   "execution_count": 44,
   "id": "73a642ac-ac18-4c79-b399-64594e745fc7",
   "metadata": {},
   "outputs": [],
   "source": [
    "cat_cols = ['sex', 'smoker', 'region']"
   ]
  },
  {
   "cell_type": "code",
   "execution_count": 45,
   "id": "5e35e9fd-41f4-4060-b7af-d8f7c3aa06f1",
   "metadata": {},
   "outputs": [
    {
     "data": {
      "text/plain": [
       "male      676\n",
       "female    662\n",
       "Name: sex, dtype: int64"
      ]
     },
     "execution_count": 45,
     "metadata": {},
     "output_type": "execute_result"
    }
   ],
   "source": [
    "df.loc[:, cat_cols[0]].value_counts()"
   ]
  },
  {
   "cell_type": "code",
   "execution_count": 46,
   "id": "c806fa80-3f5c-4bfb-a446-bda9a76e2a42",
   "metadata": {},
   "outputs": [
    {
     "data": {
      "text/plain": [
       "no     1064\n",
       "yes     274\n",
       "Name: smoker, dtype: int64"
      ]
     },
     "execution_count": 46,
     "metadata": {},
     "output_type": "execute_result"
    }
   ],
   "source": [
    "df.loc[:, cat_cols[1]].value_counts()"
   ]
  },
  {
   "cell_type": "code",
   "execution_count": 47,
   "id": "92b63a27-2631-4351-82bf-1c706b559ee9",
   "metadata": {},
   "outputs": [
    {
     "data": {
      "text/plain": [
       "southeast    364\n",
       "southwest    325\n",
       "northwest    325\n",
       "northeast    324\n",
       "Name: region, dtype: int64"
      ]
     },
     "execution_count": 47,
     "metadata": {},
     "output_type": "execute_result"
    }
   ],
   "source": [
    "\n",
    "df.loc[:, cat_cols[2]].value_counts()"
   ]
  },
  {
   "cell_type": "code",
   "execution_count": 48,
   "id": "5210b65b-67df-4eca-91ab-27d8cc852d7c",
   "metadata": {},
   "outputs": [
    {
     "data": {
      "text/plain": [
       "age         0\n",
       "sex         0\n",
       "bmi         0\n",
       "children    0\n",
       "smoker      0\n",
       "region      0\n",
       "charges     0\n",
       "dtype: int64"
      ]
     },
     "execution_count": 48,
     "metadata": {},
     "output_type": "execute_result"
    }
   ],
   "source": [
    "df.isna().sum()"
   ]
  },
  {
   "cell_type": "markdown",
   "id": "69e34be9-ffb3-4831-87c6-09421f076958",
   "metadata": {},
   "source": [
    "#### OHE"
   ]
  },
  {
   "cell_type": "code",
   "execution_count": 49,
   "id": "2a9136e2-a682-48c4-8a39-ad4e5d9bd8f4",
   "metadata": {},
   "outputs": [],
   "source": [
    "df_ohe = pd.get_dummies(df, columns=cat_cols)"
   ]
  },
  {
   "cell_type": "code",
   "execution_count": 50,
   "id": "ea68e0df-b497-4f95-8f9d-26f53e6f650e",
   "metadata": {},
   "outputs": [
    {
     "data": {
      "text/html": [
       "<div>\n",
       "<style scoped>\n",
       "    .dataframe tbody tr th:only-of-type {\n",
       "        vertical-align: middle;\n",
       "    }\n",
       "\n",
       "    .dataframe tbody tr th {\n",
       "        vertical-align: top;\n",
       "    }\n",
       "\n",
       "    .dataframe thead th {\n",
       "        text-align: right;\n",
       "    }\n",
       "</style>\n",
       "<table border=\"1\" class=\"dataframe\">\n",
       "  <thead>\n",
       "    <tr style=\"text-align: right;\">\n",
       "      <th></th>\n",
       "      <th>age</th>\n",
       "      <th>bmi</th>\n",
       "      <th>children</th>\n",
       "      <th>charges</th>\n",
       "      <th>sex_female</th>\n",
       "      <th>sex_male</th>\n",
       "      <th>smoker_no</th>\n",
       "      <th>smoker_yes</th>\n",
       "      <th>region_northeast</th>\n",
       "      <th>region_northwest</th>\n",
       "      <th>region_southeast</th>\n",
       "      <th>region_southwest</th>\n",
       "    </tr>\n",
       "  </thead>\n",
       "  <tbody>\n",
       "    <tr>\n",
       "      <th>0</th>\n",
       "      <td>19</td>\n",
       "      <td>27.900</td>\n",
       "      <td>0</td>\n",
       "      <td>16884.92400</td>\n",
       "      <td>1</td>\n",
       "      <td>0</td>\n",
       "      <td>0</td>\n",
       "      <td>1</td>\n",
       "      <td>0</td>\n",
       "      <td>0</td>\n",
       "      <td>0</td>\n",
       "      <td>1</td>\n",
       "    </tr>\n",
       "    <tr>\n",
       "      <th>1</th>\n",
       "      <td>18</td>\n",
       "      <td>33.770</td>\n",
       "      <td>1</td>\n",
       "      <td>1725.55230</td>\n",
       "      <td>0</td>\n",
       "      <td>1</td>\n",
       "      <td>1</td>\n",
       "      <td>0</td>\n",
       "      <td>0</td>\n",
       "      <td>0</td>\n",
       "      <td>1</td>\n",
       "      <td>0</td>\n",
       "    </tr>\n",
       "    <tr>\n",
       "      <th>2</th>\n",
       "      <td>28</td>\n",
       "      <td>33.000</td>\n",
       "      <td>3</td>\n",
       "      <td>4449.46200</td>\n",
       "      <td>0</td>\n",
       "      <td>1</td>\n",
       "      <td>1</td>\n",
       "      <td>0</td>\n",
       "      <td>0</td>\n",
       "      <td>0</td>\n",
       "      <td>1</td>\n",
       "      <td>0</td>\n",
       "    </tr>\n",
       "    <tr>\n",
       "      <th>3</th>\n",
       "      <td>33</td>\n",
       "      <td>22.705</td>\n",
       "      <td>0</td>\n",
       "      <td>21984.47061</td>\n",
       "      <td>0</td>\n",
       "      <td>1</td>\n",
       "      <td>1</td>\n",
       "      <td>0</td>\n",
       "      <td>0</td>\n",
       "      <td>1</td>\n",
       "      <td>0</td>\n",
       "      <td>0</td>\n",
       "    </tr>\n",
       "    <tr>\n",
       "      <th>4</th>\n",
       "      <td>32</td>\n",
       "      <td>28.880</td>\n",
       "      <td>0</td>\n",
       "      <td>3866.85520</td>\n",
       "      <td>0</td>\n",
       "      <td>1</td>\n",
       "      <td>1</td>\n",
       "      <td>0</td>\n",
       "      <td>0</td>\n",
       "      <td>1</td>\n",
       "      <td>0</td>\n",
       "      <td>0</td>\n",
       "    </tr>\n",
       "  </tbody>\n",
       "</table>\n",
       "</div>"
      ],
      "text/plain": [
       "   age     bmi  children      charges  sex_female  sex_male  smoker_no  \\\n",
       "0   19  27.900         0  16884.92400           1         0          0   \n",
       "1   18  33.770         1   1725.55230           0         1          1   \n",
       "2   28  33.000         3   4449.46200           0         1          1   \n",
       "3   33  22.705         0  21984.47061           0         1          1   \n",
       "4   32  28.880         0   3866.85520           0         1          1   \n",
       "\n",
       "   smoker_yes  region_northeast  region_northwest  region_southeast  \\\n",
       "0           1                 0                 0                 0   \n",
       "1           0                 0                 0                 1   \n",
       "2           0                 0                 0                 1   \n",
       "3           0                 0                 1                 0   \n",
       "4           0                 0                 1                 0   \n",
       "\n",
       "   region_southwest  \n",
       "0                 1  \n",
       "1                 0  \n",
       "2                 0  \n",
       "3                 0  \n",
       "4                 0  "
      ]
     },
     "execution_count": 50,
     "metadata": {},
     "output_type": "execute_result"
    }
   ],
   "source": [
    "df_ohe.head()"
   ]
  },
  {
   "cell_type": "code",
   "execution_count": 51,
   "id": "0b45fd6d-77a6-4652-b9c3-ae4e12c24b29",
   "metadata": {},
   "outputs": [],
   "source": [
    "X = df_ohe\n",
    "y = X.pop('charges')"
   ]
  },
  {
   "cell_type": "code",
   "execution_count": 52,
   "id": "abd4a6b4-9d46-4b48-a28e-bb979b3710e6",
   "metadata": {},
   "outputs": [],
   "source": [
    "X_train, X_test, y_train, y_test = train_test_split(X, y, train_size=0.8, test_size=0.2, random_state=42)"
   ]
  },
  {
   "cell_type": "code",
   "execution_count": 53,
   "id": "cec96e4e-f42f-41ee-9232-b5c871772e47",
   "metadata": {},
   "outputs": [
    {
     "data": {
      "text/plain": [
       "((1070, 11), (268, 11), (1070,), (268,))"
      ]
     },
     "execution_count": 53,
     "metadata": {},
     "output_type": "execute_result"
    }
   ],
   "source": [
    "X_train.shape, X_test.shape, y_train.shape, y_test.shape"
   ]
  },
  {
   "cell_type": "markdown",
   "id": "31c6a1cb-2dcb-405b-b268-fb62035a3dff",
   "metadata": {},
   "source": [
    "### Base Model"
   ]
  },
  {
   "cell_type": "code",
   "execution_count": 54,
   "id": "bd5d56b8-7686-425e-aca6-0f4dc3c58330",
   "metadata": {},
   "outputs": [
    {
     "name": "stdout",
     "output_type": "stream",
     "text": [
      "Epoch 1/100\n",
      "34/34 [==============================] - 1s 3ms/step - loss: 8740.4277 - mae: 8740.4277 - mse: 191421984.0000\n",
      "Epoch 2/100\n",
      "34/34 [==============================] - 0s 3ms/step - loss: 7858.0439 - mae: 7858.0439 - mse: 169363872.0000\n",
      "Epoch 3/100\n",
      "34/34 [==============================] - 0s 3ms/step - loss: 7613.1973 - mae: 7613.1973 - mse: 163859200.0000\n",
      "Epoch 4/100\n",
      "34/34 [==============================] - 0s 2ms/step - loss: 7803.1304 - mae: 7803.1304 - mse: 176867712.0000\n",
      "Epoch 5/100\n",
      "34/34 [==============================] - 0s 3ms/step - loss: 7685.9766 - mae: 7685.9766 - mse: 163182576.0000\n",
      "Epoch 6/100\n",
      "34/34 [==============================] - 0s 3ms/step - loss: 7598.8950 - mae: 7598.8950 - mse: 162762448.0000\n",
      "Epoch 7/100\n",
      "34/34 [==============================] - 0s 3ms/step - loss: 7574.9692 - mae: 7574.9692 - mse: 163774080.0000\n",
      "Epoch 8/100\n",
      "34/34 [==============================] - 0s 3ms/step - loss: 7692.7188 - mae: 7692.7188 - mse: 162155168.0000\n",
      "Epoch 9/100\n",
      "34/34 [==============================] - 0s 2ms/step - loss: 7593.7910 - mae: 7593.7910 - mse: 159941584.0000\n",
      "Epoch 10/100\n",
      "34/34 [==============================] - 0s 3ms/step - loss: 7665.7329 - mae: 7665.7329 - mse: 168658608.0000\n",
      "Epoch 11/100\n",
      "34/34 [==============================] - 0s 2ms/step - loss: 7472.5732 - mae: 7472.5732 - mse: 160739184.0000\n",
      "Epoch 12/100\n",
      "34/34 [==============================] - 0s 3ms/step - loss: 7645.7168 - mae: 7645.7168 - mse: 163360480.0000\n",
      "Epoch 13/100\n",
      "34/34 [==============================] - 0s 4ms/step - loss: 7806.9263 - mae: 7806.9263 - mse: 166502704.0000\n",
      "Epoch 14/100\n",
      "34/34 [==============================] - 0s 3ms/step - loss: 7738.6772 - mae: 7738.6772 - mse: 162718432.0000\n",
      "Epoch 15/100\n",
      "34/34 [==============================] - 0s 3ms/step - loss: 7522.6680 - mae: 7522.6680 - mse: 156356352.0000\n",
      "Epoch 16/100\n",
      "34/34 [==============================] - 0s 2ms/step - loss: 7769.5166 - mae: 7769.5166 - mse: 162979312.0000\n",
      "Epoch 17/100\n",
      "34/34 [==============================] - 0s 3ms/step - loss: 7564.0527 - mae: 7564.0527 - mse: 164728480.0000\n",
      "Epoch 18/100\n",
      "34/34 [==============================] - 0s 3ms/step - loss: 7794.4482 - mae: 7794.4482 - mse: 163107680.0000\n",
      "Epoch 19/100\n",
      "34/34 [==============================] - 0s 2ms/step - loss: 7808.9111 - mae: 7808.9111 - mse: 169042336.0000\n",
      "Epoch 20/100\n",
      "34/34 [==============================] - 0s 2ms/step - loss: 7849.7983 - mae: 7849.7983 - mse: 164965152.0000\n",
      "Epoch 21/100\n",
      "34/34 [==============================] - 0s 3ms/step - loss: 7453.4907 - mae: 7453.4907 - mse: 156362352.0000\n",
      "Epoch 22/100\n",
      "34/34 [==============================] - 0s 4ms/step - loss: 7814.9814 - mae: 7814.9814 - mse: 164475376.0000\n",
      "Epoch 23/100\n",
      "34/34 [==============================] - 0s 2ms/step - loss: 7628.0181 - mae: 7628.0181 - mse: 152354848.0000\n",
      "Epoch 24/100\n",
      "34/34 [==============================] - 0s 3ms/step - loss: 7579.2798 - mae: 7579.2798 - mse: 157636288.0000\n",
      "Epoch 25/100\n",
      "34/34 [==============================] - 0s 4ms/step - loss: 7642.2676 - mae: 7642.2676 - mse: 159268768.0000\n",
      "Epoch 26/100\n",
      "34/34 [==============================] - 0s 3ms/step - loss: 7661.4395 - mae: 7661.4395 - mse: 160744768.0000\n",
      "Epoch 27/100\n",
      "34/34 [==============================] - 0s 2ms/step - loss: 7508.6499 - mae: 7508.6499 - mse: 160560288.0000\n",
      "Epoch 28/100\n",
      "34/34 [==============================] - 0s 2ms/step - loss: 7495.8687 - mae: 7495.8687 - mse: 156481968.0000\n",
      "Epoch 29/100\n",
      "34/34 [==============================] - 0s 2ms/step - loss: 7632.5332 - mae: 7632.5332 - mse: 155841856.0000\n",
      "Epoch 30/100\n",
      "34/34 [==============================] - 0s 2ms/step - loss: 7497.5488 - mae: 7497.5488 - mse: 152523568.0000\n",
      "Epoch 31/100\n",
      "34/34 [==============================] - 0s 4ms/step - loss: 7718.7314 - mae: 7718.7314 - mse: 161956016.0000\n",
      "Epoch 32/100\n",
      "34/34 [==============================] - 0s 4ms/step - loss: 7440.0327 - mae: 7440.0327 - mse: 154175232.0000\n",
      "Epoch 33/100\n",
      "34/34 [==============================] - 0s 5ms/step - loss: 7518.9707 - mae: 7518.9707 - mse: 154757840.0000\n",
      "Epoch 34/100\n",
      "34/34 [==============================] - 0s 3ms/step - loss: 7348.3633 - mae: 7348.3633 - mse: 153753136.0000\n",
      "Epoch 35/100\n",
      "34/34 [==============================] - 0s 3ms/step - loss: 7399.0952 - mae: 7399.0952 - mse: 153734112.0000\n",
      "Epoch 36/100\n",
      "34/34 [==============================] - 0s 3ms/step - loss: 7373.6255 - mae: 7373.6255 - mse: 154150368.0000\n",
      "Epoch 37/100\n",
      "34/34 [==============================] - 0s 3ms/step - loss: 7722.8696 - mae: 7722.8696 - mse: 158629616.0000\n",
      "Epoch 38/100\n",
      "34/34 [==============================] - 0s 2ms/step - loss: 7519.1362 - mae: 7519.1362 - mse: 158853600.0000\n",
      "Epoch 39/100\n",
      "34/34 [==============================] - 0s 4ms/step - loss: 7587.6230 - mae: 7587.6230 - mse: 159472704.0000\n",
      "Epoch 40/100\n",
      "34/34 [==============================] - 0s 4ms/step - loss: 7115.6753 - mae: 7115.6753 - mse: 151318144.0000\n",
      "Epoch 41/100\n",
      "34/34 [==============================] - 0s 3ms/step - loss: 7425.9946 - mae: 7425.9946 - mse: 149669520.0000\n",
      "Epoch 42/100\n",
      "34/34 [==============================] - 0s 3ms/step - loss: 7743.2158 - mae: 7743.2158 - mse: 158559600.0000\n",
      "Epoch 43/100\n",
      "34/34 [==============================] - 0s 2ms/step - loss: 7662.5845 - mae: 7662.5845 - mse: 156848096.0000\n",
      "Epoch 44/100\n",
      "34/34 [==============================] - 0s 4ms/step - loss: 7272.3701 - mae: 7272.3701 - mse: 154665024.0000\n",
      "Epoch 45/100\n",
      "34/34 [==============================] - 0s 3ms/step - loss: 7228.6948 - mae: 7228.6948 - mse: 151905808.0000\n",
      "Epoch 46/100\n",
      "34/34 [==============================] - 0s 3ms/step - loss: 7317.7471 - mae: 7317.7471 - mse: 150091328.0000\n",
      "Epoch 47/100\n",
      "34/34 [==============================] - 0s 2ms/step - loss: 7470.5107 - mae: 7470.5107 - mse: 154555856.0000\n",
      "Epoch 48/100\n",
      "34/34 [==============================] - 0s 3ms/step - loss: 7478.5615 - mae: 7478.5615 - mse: 150721200.0000\n",
      "Epoch 49/100\n",
      "34/34 [==============================] - 0s 2ms/step - loss: 7512.7769 - mae: 7512.7769 - mse: 149154752.0000\n",
      "Epoch 50/100\n",
      "34/34 [==============================] - 0s 2ms/step - loss: 7505.6318 - mae: 7505.6318 - mse: 156640016.0000\n",
      "Epoch 51/100\n",
      "34/34 [==============================] - 0s 2ms/step - loss: 7372.2329 - mae: 7372.2329 - mse: 152807248.0000\n",
      "Epoch 52/100\n",
      "34/34 [==============================] - 0s 3ms/step - loss: 7541.0049 - mae: 7541.0049 - mse: 154963152.0000\n",
      "Epoch 53/100\n",
      "34/34 [==============================] - 0s 3ms/step - loss: 7441.2847 - mae: 7441.2847 - mse: 155543984.0000\n",
      "Epoch 54/100\n",
      "34/34 [==============================] - 0s 3ms/step - loss: 7152.1611 - mae: 7152.1611 - mse: 144714720.0000\n",
      "Epoch 55/100\n",
      "34/34 [==============================] - 0s 2ms/step - loss: 7304.3101 - mae: 7304.3101 - mse: 151204800.0000\n",
      "Epoch 56/100\n",
      "34/34 [==============================] - 0s 2ms/step - loss: 7275.0039 - mae: 7275.0039 - mse: 144808880.0000\n",
      "Epoch 57/100\n",
      "34/34 [==============================] - 0s 3ms/step - loss: 7465.9707 - mae: 7465.9707 - mse: 155926640.0000\n",
      "Epoch 58/100\n",
      "34/34 [==============================] - 0s 1ms/step - loss: 7377.5542 - mae: 7377.5542 - mse: 152406336.0000\n",
      "Epoch 59/100\n",
      "34/34 [==============================] - 0s 2ms/step - loss: 7618.3428 - mae: 7618.3428 - mse: 151381632.0000\n",
      "Epoch 60/100\n",
      "34/34 [==============================] - 0s 3ms/step - loss: 7442.2363 - mae: 7442.2363 - mse: 155289744.0000\n",
      "Epoch 61/100\n",
      "34/34 [==============================] - 0s 3ms/step - loss: 7500.5972 - mae: 7500.5972 - mse: 153213280.0000\n",
      "Epoch 62/100\n",
      "34/34 [==============================] - 0s 3ms/step - loss: 7358.8267 - mae: 7358.8267 - mse: 148409648.0000\n",
      "Epoch 63/100\n",
      "34/34 [==============================] - 0s 4ms/step - loss: 7379.3145 - mae: 7379.3145 - mse: 146627984.0000\n",
      "Epoch 64/100\n",
      "34/34 [==============================] - 0s 3ms/step - loss: 7298.3315 - mae: 7298.3315 - mse: 142432688.0000\n",
      "Epoch 65/100\n",
      "34/34 [==============================] - 0s 3ms/step - loss: 7378.6294 - mae: 7378.6294 - mse: 150550720.0000\n",
      "Epoch 66/100\n",
      "34/34 [==============================] - 0s 2ms/step - loss: 7152.7656 - mae: 7152.7656 - mse: 148095920.0000\n",
      "Epoch 67/100\n",
      "34/34 [==============================] - 0s 3ms/step - loss: 7392.8252 - mae: 7392.8252 - mse: 147151824.0000\n",
      "Epoch 68/100\n",
      "34/34 [==============================] - 0s 3ms/step - loss: 7599.4077 - mae: 7599.4077 - mse: 153558400.0000\n",
      "Epoch 69/100\n",
      "34/34 [==============================] - 0s 1ms/step - loss: 7377.1602 - mae: 7377.1602 - mse: 144219984.0000\n",
      "Epoch 70/100\n",
      "34/34 [==============================] - 0s 2ms/step - loss: 7264.3350 - mae: 7264.3350 - mse: 147204464.0000\n",
      "Epoch 71/100\n",
      "34/34 [==============================] - 0s 3ms/step - loss: 7128.1719 - mae: 7128.1719 - mse: 145155520.0000\n",
      "Epoch 72/100\n",
      "34/34 [==============================] - 0s 2ms/step - loss: 7227.9844 - mae: 7227.9844 - mse: 144933136.0000\n",
      "Epoch 73/100\n",
      "34/34 [==============================] - 0s 2ms/step - loss: 7214.1665 - mae: 7214.1665 - mse: 142456240.0000\n",
      "Epoch 74/100\n",
      "34/34 [==============================] - 0s 3ms/step - loss: 7379.0938 - mae: 7379.0938 - mse: 145839696.0000\n",
      "Epoch 75/100\n",
      "34/34 [==============================] - 0s 2ms/step - loss: 7279.4614 - mae: 7279.4614 - mse: 145790288.0000\n",
      "Epoch 76/100\n",
      "34/34 [==============================] - 0s 2ms/step - loss: 7195.4624 - mae: 7195.4624 - mse: 138909536.0000\n",
      "Epoch 77/100\n",
      "34/34 [==============================] - 0s 3ms/step - loss: 7180.1738 - mae: 7180.1738 - mse: 143168464.0000\n",
      "Epoch 78/100\n",
      "34/34 [==============================] - 0s 3ms/step - loss: 7218.3794 - mae: 7218.3794 - mse: 145845216.0000\n",
      "Epoch 79/100\n",
      "34/34 [==============================] - 0s 3ms/step - loss: 7282.6348 - mae: 7282.6348 - mse: 143270080.0000\n",
      "Epoch 80/100\n",
      "34/34 [==============================] - 0s 1ms/step - loss: 7352.1479 - mae: 7352.1479 - mse: 143154176.0000\n",
      "Epoch 81/100\n",
      "34/34 [==============================] - 0s 1ms/step - loss: 7191.9556 - mae: 7191.9556 - mse: 139195152.0000\n",
      "Epoch 82/100\n",
      "34/34 [==============================] - 0s 4ms/step - loss: 7268.0288 - mae: 7268.0288 - mse: 136980528.0000\n",
      "Epoch 83/100\n",
      "34/34 [==============================] - 0s 3ms/step - loss: 7494.2847 - mae: 7494.2847 - mse: 144781552.0000\n",
      "Epoch 84/100\n",
      "34/34 [==============================] - 0s 2ms/step - loss: 7346.9453 - mae: 7346.9453 - mse: 142404528.0000\n",
      "Epoch 85/100\n",
      "34/34 [==============================] - 0s 2ms/step - loss: 7369.2969 - mae: 7369.2969 - mse: 141935536.0000\n",
      "Epoch 86/100\n",
      "34/34 [==============================] - 0s 2ms/step - loss: 7593.1851 - mae: 7593.1851 - mse: 147536704.0000\n",
      "Epoch 87/100\n",
      "34/34 [==============================] - 0s 3ms/step - loss: 7178.5479 - mae: 7178.5479 - mse: 142181248.0000\n",
      "Epoch 88/100\n",
      "34/34 [==============================] - 0s 3ms/step - loss: 7357.3037 - mae: 7357.3037 - mse: 141091712.0000\n",
      "Epoch 89/100\n",
      "34/34 [==============================] - 0s 3ms/step - loss: 7378.8794 - mae: 7378.8794 - mse: 144748560.0000\n",
      "Epoch 90/100\n",
      "34/34 [==============================] - 0s 3ms/step - loss: 7218.2583 - mae: 7218.2583 - mse: 141631808.0000\n",
      "Epoch 91/100\n",
      "34/34 [==============================] - 0s 1ms/step - loss: 7289.9224 - mae: 7289.9224 - mse: 136341792.0000\n",
      "Epoch 92/100\n",
      "34/34 [==============================] - 0s 1ms/step - loss: 7383.7051 - mae: 7383.7051 - mse: 139326160.0000\n",
      "Epoch 93/100\n",
      "34/34 [==============================] - 0s 2ms/step - loss: 7430.1133 - mae: 7430.1133 - mse: 147060496.0000\n",
      "Epoch 94/100\n",
      "34/34 [==============================] - 0s 4ms/step - loss: 7330.1240 - mae: 7330.1240 - mse: 138706768.0000\n",
      "Epoch 95/100\n",
      "34/34 [==============================] - 0s 2ms/step - loss: 7426.9761 - mae: 7426.9761 - mse: 139376832.0000\n",
      "Epoch 96/100\n",
      "34/34 [==============================] - 0s 2ms/step - loss: 7212.5386 - mae: 7212.5386 - mse: 137980528.0000\n",
      "Epoch 97/100\n",
      "34/34 [==============================] - 0s 3ms/step - loss: 7202.9751 - mae: 7202.9751 - mse: 132712832.0000\n",
      "Epoch 98/100\n",
      "34/34 [==============================] - 0s 4ms/step - loss: 7318.1997 - mae: 7318.1997 - mse: 138874448.0000\n",
      "Epoch 99/100\n",
      "34/34 [==============================] - 0s 2ms/step - loss: 7382.7031 - mae: 7382.7031 - mse: 138521504.0000\n",
      "Epoch 100/100\n",
      "34/34 [==============================] - 0s 4ms/step - loss: 7221.1792 - mae: 7221.1792 - mse: 141926928.0000\n"
     ]
    },
    {
     "data": {
      "text/plain": [
       "<keras.callbacks.History at 0x7f95a9de82b0>"
      ]
     },
     "execution_count": 54,
     "metadata": {},
     "output_type": "execute_result"
    }
   ],
   "source": [
    "tf.random.set_seed(42)\n",
    "\n",
    "# Create a Base Model\n",
    "base_model = keras.models.Sequential([\n",
    "    keras.layers.Dense(10, activation=keras.activations.relu),\n",
    "    keras.layers.Dense(1)\n",
    "])\n",
    "\n",
    "# Compile\n",
    "base_model.compile(\n",
    "    loss=keras.losses.mae, \n",
    "    optimizer=keras.optimizers.SGD(),\n",
    "    metrics=['mae', 'mse']\n",
    ")\n",
    "\n",
    "# Fit\n",
    "base_model.fit(X_train, y_train, epochs=100)"
   ]
  },
  {
   "cell_type": "markdown",
   "id": "5b15f963-b305-4768-bf40-1a415e2bfce0",
   "metadata": {},
   "source": [
    "#### Evaluate"
   ]
  },
  {
   "cell_type": "code",
   "execution_count": 55,
   "id": "a012d3b4-1060-44a1-9457-1953d75365e1",
   "metadata": {},
   "outputs": [
    {
     "name": "stdout",
     "output_type": "stream",
     "text": [
      "9/9 [==============================] - 0s 2ms/step - loss: 8326.4160 - mae: 8326.4160 - mse: 110007464.0000\n"
     ]
    },
    {
     "data": {
      "text/plain": [
       "[8326.416015625, 8326.416015625, 110007464.0]"
      ]
     },
     "execution_count": 55,
     "metadata": {},
     "output_type": "execute_result"
    }
   ],
   "source": [
    "base_model.evaluate(X_test, y_test)"
   ]
  },
  {
   "cell_type": "markdown",
   "id": "6f2f3a65-b548-47dc-b323-151ea0434f56",
   "metadata": {},
   "source": [
    "### Tuned Model - V1"
   ]
  },
  {
   "cell_type": "code",
   "execution_count": 56,
   "id": "047b416f-4f75-49d8-9d93-d0455ed9ce9f",
   "metadata": {},
   "outputs": [
    {
     "name": "stdout",
     "output_type": "stream",
     "text": [
      "Epoch 1/100\n",
      "34/34 [==============================] - 0s 3ms/step - loss: 25600.5898 - mae: 25600.5898 - mse: 5357515264.0000\n",
      "Epoch 2/100\n",
      "34/34 [==============================] - 0s 3ms/step - loss: 12259.8389 - mae: 12259.8389 - mse: 294413088.0000\n",
      "Epoch 3/100\n",
      "34/34 [==============================] - 0s 2ms/step - loss: 11104.5205 - mae: 11104.5205 - mse: 264559216.0000\n",
      "Epoch 4/100\n",
      "34/34 [==============================] - 0s 3ms/step - loss: 9973.1260 - mae: 9973.1260 - mse: 232785408.0000\n",
      "Epoch 5/100\n",
      "34/34 [==============================] - 0s 2ms/step - loss: 9088.5947 - mae: 9088.5947 - mse: 203709472.0000\n",
      "Epoch 6/100\n",
      "34/34 [==============================] - 0s 1ms/step - loss: 8595.4502 - mae: 8595.4502 - mse: 183846016.0000\n",
      "Epoch 7/100\n",
      "34/34 [==============================] - 0s 2ms/step - loss: 8383.2236 - mae: 8383.2236 - mse: 171325872.0000\n",
      "Epoch 8/100\n",
      "34/34 [==============================] - 0s 3ms/step - loss: 8314.6133 - mae: 8314.6133 - mse: 165058192.0000\n",
      "Epoch 9/100\n",
      "34/34 [==============================] - 0s 3ms/step - loss: 8298.6426 - mae: 8298.6426 - mse: 162517712.0000\n",
      "Epoch 10/100\n",
      "34/34 [==============================] - 0s 3ms/step - loss: 8289.2295 - mae: 8289.2295 - mse: 160984800.0000\n",
      "Epoch 11/100\n",
      "34/34 [==============================] - 0s 2ms/step - loss: 8285.7061 - mae: 8285.7061 - mse: 159380112.0000\n",
      "Epoch 12/100\n",
      "34/34 [==============================] - 0s 3ms/step - loss: 8283.2910 - mae: 8283.2910 - mse: 159690864.0000\n",
      "Epoch 13/100\n",
      "34/34 [==============================] - 0s 4ms/step - loss: 8284.1416 - mae: 8284.1416 - mse: 158687008.0000\n",
      "Epoch 14/100\n",
      "34/34 [==============================] - 0s 3ms/step - loss: 8282.2158 - mae: 8282.2158 - mse: 158366592.0000\n",
      "Epoch 15/100\n",
      "34/34 [==============================] - 0s 3ms/step - loss: 8284.2041 - mae: 8284.2041 - mse: 158219904.0000\n",
      "Epoch 16/100\n",
      "34/34 [==============================] - 0s 2ms/step - loss: 8281.9697 - mae: 8281.9697 - mse: 158723760.0000\n",
      "Epoch 17/100\n",
      "34/34 [==============================] - 0s 1ms/step - loss: 8284.0547 - mae: 8284.0547 - mse: 158127408.0000\n",
      "Epoch 18/100\n",
      "34/34 [==============================] - 0s 3ms/step - loss: 8283.6582 - mae: 8283.6582 - mse: 158234736.0000\n",
      "Epoch 19/100\n",
      "34/34 [==============================] - 0s 2ms/step - loss: 8283.7988 - mae: 8283.7988 - mse: 158006048.0000\n",
      "Epoch 20/100\n",
      "34/34 [==============================] - 0s 2ms/step - loss: 8285.2725 - mae: 8285.2725 - mse: 158198896.0000\n",
      "Epoch 21/100\n",
      "34/34 [==============================] - 0s 4ms/step - loss: 8283.3809 - mae: 8283.3809 - mse: 159358112.0000\n",
      "Epoch 22/100\n",
      "34/34 [==============================] - 0s 2ms/step - loss: 8284.2119 - mae: 8284.2119 - mse: 158112192.0000\n",
      "Epoch 23/100\n",
      "34/34 [==============================] - 0s 2ms/step - loss: 8283.7822 - mae: 8283.7822 - mse: 158222544.0000\n",
      "Epoch 24/100\n",
      "34/34 [==============================] - 0s 3ms/step - loss: 8282.9688 - mae: 8282.9688 - mse: 158982576.0000\n",
      "Epoch 25/100\n",
      "34/34 [==============================] - 0s 2ms/step - loss: 8281.2529 - mae: 8281.2529 - mse: 157019168.0000\n",
      "Epoch 26/100\n",
      "34/34 [==============================] - 0s 4ms/step - loss: 8282.7012 - mae: 8282.7012 - mse: 158710208.0000\n",
      "Epoch 27/100\n",
      "34/34 [==============================] - 0s 2ms/step - loss: 8283.9189 - mae: 8283.9189 - mse: 158683088.0000\n",
      "Epoch 28/100\n",
      "34/34 [==============================] - 0s 1ms/step - loss: 8283.2607 - mae: 8283.2607 - mse: 158598240.0000\n",
      "Epoch 29/100\n",
      "34/34 [==============================] - 0s 1ms/step - loss: 8284.1611 - mae: 8284.1611 - mse: 159089648.0000\n",
      "Epoch 30/100\n",
      "34/34 [==============================] - 0s 4ms/step - loss: 8284.2969 - mae: 8284.2969 - mse: 158189424.0000\n",
      "Epoch 31/100\n",
      "34/34 [==============================] - 0s 2ms/step - loss: 8282.7617 - mae: 8282.7617 - mse: 158479008.0000\n",
      "Epoch 32/100\n",
      "34/34 [==============================] - 0s 3ms/step - loss: 8283.9619 - mae: 8283.9619 - mse: 158190688.0000\n",
      "Epoch 33/100\n",
      "34/34 [==============================] - 0s 2ms/step - loss: 8282.2617 - mae: 8282.2617 - mse: 159563472.0000\n",
      "Epoch 34/100\n",
      "34/34 [==============================] - 0s 2ms/step - loss: 8284.3506 - mae: 8284.3506 - mse: 158500896.0000\n",
      "Epoch 35/100\n",
      "34/34 [==============================] - 0s 2ms/step - loss: 8284.1426 - mae: 8284.1426 - mse: 157803232.0000\n",
      "Epoch 36/100\n",
      "34/34 [==============================] - 0s 3ms/step - loss: 8283.0156 - mae: 8283.0156 - mse: 158139376.0000\n",
      "Epoch 37/100\n",
      "34/34 [==============================] - 0s 2ms/step - loss: 8283.3525 - mae: 8283.3525 - mse: 158314544.0000\n",
      "Epoch 38/100\n",
      "34/34 [==============================] - 0s 3ms/step - loss: 8283.9512 - mae: 8283.9512 - mse: 158322352.0000\n",
      "Epoch 39/100\n",
      "34/34 [==============================] - 0s 2ms/step - loss: 8283.4238 - mae: 8283.4238 - mse: 158802912.0000\n",
      "Epoch 40/100\n",
      "34/34 [==============================] - 0s 1ms/step - loss: 8282.8857 - mae: 8282.8857 - mse: 158576832.0000\n",
      "Epoch 41/100\n",
      "34/34 [==============================] - 0s 2ms/step - loss: 8283.3252 - mae: 8283.3252 - mse: 159124432.0000\n",
      "Epoch 42/100\n",
      "34/34 [==============================] - 0s 2ms/step - loss: 8281.4629 - mae: 8281.4629 - mse: 159031952.0000\n",
      "Epoch 43/100\n",
      "34/34 [==============================] - 0s 2ms/step - loss: 8282.9766 - mae: 8282.9766 - mse: 157393120.0000\n",
      "Epoch 44/100\n",
      "34/34 [==============================] - 0s 2ms/step - loss: 8282.7588 - mae: 8282.7588 - mse: 158710912.0000\n",
      "Epoch 45/100\n",
      "34/34 [==============================] - 0s 2ms/step - loss: 8284.8008 - mae: 8284.8008 - mse: 158212720.0000\n",
      "Epoch 46/100\n",
      "34/34 [==============================] - 0s 3ms/step - loss: 8284.6631 - mae: 8284.6631 - mse: 158636224.0000\n",
      "Epoch 47/100\n",
      "34/34 [==============================] - 0s 3ms/step - loss: 8284.2939 - mae: 8284.2939 - mse: 157414976.0000\n",
      "Epoch 48/100\n",
      "34/34 [==============================] - 0s 2ms/step - loss: 8282.6113 - mae: 8282.6113 - mse: 158951200.0000\n",
      "Epoch 49/100\n",
      "34/34 [==============================] - 0s 2ms/step - loss: 8283.0273 - mae: 8283.0273 - mse: 157963552.0000\n",
      "Epoch 50/100\n",
      "34/34 [==============================] - 0s 4ms/step - loss: 8284.0322 - mae: 8284.0322 - mse: 159126464.0000\n",
      "Epoch 51/100\n",
      "34/34 [==============================] - 0s 2ms/step - loss: 8283.6885 - mae: 8283.6885 - mse: 157992896.0000\n",
      "Epoch 52/100\n",
      "34/34 [==============================] - 0s 1ms/step - loss: 8283.4268 - mae: 8283.4268 - mse: 158944256.0000\n",
      "Epoch 53/100\n",
      "34/34 [==============================] - 0s 1ms/step - loss: 8284.4932 - mae: 8284.4932 - mse: 159345088.0000\n",
      "Epoch 54/100\n",
      "34/34 [==============================] - 0s 3ms/step - loss: 8283.7285 - mae: 8283.7285 - mse: 158334912.0000\n",
      "Epoch 55/100\n",
      "34/34 [==============================] - 0s 3ms/step - loss: 8283.6426 - mae: 8283.6426 - mse: 159283504.0000\n",
      "Epoch 56/100\n",
      "34/34 [==============================] - 0s 2ms/step - loss: 8283.5000 - mae: 8283.5000 - mse: 158453104.0000\n",
      "Epoch 57/100\n",
      "34/34 [==============================] - 0s 2ms/step - loss: 8282.6514 - mae: 8282.6514 - mse: 158690128.0000\n",
      "Epoch 58/100\n",
      "34/34 [==============================] - 0s 3ms/step - loss: 8283.0889 - mae: 8283.0889 - mse: 158415648.0000\n",
      "Epoch 59/100\n",
      "34/34 [==============================] - 0s 3ms/step - loss: 8282.6865 - mae: 8282.6865 - mse: 159073936.0000\n",
      "Epoch 60/100\n",
      "34/34 [==============================] - 0s 3ms/step - loss: 8285.5469 - mae: 8285.5469 - mse: 157808160.0000\n",
      "Epoch 61/100\n",
      "34/34 [==============================] - 0s 2ms/step - loss: 8284.5078 - mae: 8284.5078 - mse: 158069808.0000\n",
      "Epoch 62/100\n",
      "34/34 [==============================] - 0s 4ms/step - loss: 8283.1309 - mae: 8283.1309 - mse: 158375152.0000\n",
      "Epoch 63/100\n",
      "34/34 [==============================] - 0s 1ms/step - loss: 8284.3193 - mae: 8284.3193 - mse: 158758976.0000\n",
      "Epoch 64/100\n",
      "34/34 [==============================] - 0s 1ms/step - loss: 8284.8564 - mae: 8284.8564 - mse: 158464656.0000\n",
      "Epoch 65/100\n",
      "34/34 [==============================] - 0s 2ms/step - loss: 8284.3984 - mae: 8284.3984 - mse: 158836880.0000\n",
      "Epoch 66/100\n",
      "34/34 [==============================] - 0s 2ms/step - loss: 8282.6318 - mae: 8282.6318 - mse: 157973488.0000\n",
      "Epoch 67/100\n",
      "34/34 [==============================] - 0s 2ms/step - loss: 8283.0762 - mae: 8283.0762 - mse: 158260384.0000\n",
      "Epoch 68/100\n",
      "34/34 [==============================] - 0s 3ms/step - loss: 8283.0635 - mae: 8283.0635 - mse: 158800960.0000\n",
      "Epoch 69/100\n",
      "34/34 [==============================] - 0s 4ms/step - loss: 8282.8379 - mae: 8282.8379 - mse: 158718592.0000\n",
      "Epoch 70/100\n",
      "34/34 [==============================] - 0s 2ms/step - loss: 8283.8457 - mae: 8283.8457 - mse: 159393312.0000\n",
      "Epoch 71/100\n",
      "34/34 [==============================] - 0s 2ms/step - loss: 8283.3174 - mae: 8283.3174 - mse: 158218672.0000\n",
      "Epoch 72/100\n",
      "34/34 [==============================] - 0s 4ms/step - loss: 8284.3770 - mae: 8284.3770 - mse: 158143520.0000\n",
      "Epoch 73/100\n",
      "34/34 [==============================] - 0s 3ms/step - loss: 8282.7422 - mae: 8282.7422 - mse: 158338368.0000\n",
      "Epoch 74/100\n",
      "34/34 [==============================] - 0s 1ms/step - loss: 8282.2812 - mae: 8282.2812 - mse: 158892928.0000\n",
      "Epoch 75/100\n",
      "34/34 [==============================] - 0s 2ms/step - loss: 8282.9668 - mae: 8282.9668 - mse: 158365952.0000\n",
      "Epoch 76/100\n",
      "34/34 [==============================] - 0s 2ms/step - loss: 8283.5215 - mae: 8283.5215 - mse: 158993408.0000\n",
      "Epoch 77/100\n",
      "34/34 [==============================] - 0s 2ms/step - loss: 8283.8389 - mae: 8283.8389 - mse: 158400272.0000\n",
      "Epoch 78/100\n",
      "34/34 [==============================] - 0s 2ms/step - loss: 8283.0303 - mae: 8283.0303 - mse: 158877824.0000\n",
      "Epoch 79/100\n",
      "34/34 [==============================] - 0s 3ms/step - loss: 8285.4609 - mae: 8285.4609 - mse: 158325968.0000\n",
      "Epoch 80/100\n",
      "34/34 [==============================] - 0s 2ms/step - loss: 8282.5400 - mae: 8282.5400 - mse: 158629504.0000\n",
      "Epoch 81/100\n",
      "34/34 [==============================] - 0s 2ms/step - loss: 8283.9932 - mae: 8283.9932 - mse: 158753520.0000\n",
      "Epoch 82/100\n",
      "34/34 [==============================] - 0s 2ms/step - loss: 8283.0615 - mae: 8283.0615 - mse: 157354032.0000\n",
      "Epoch 83/100\n",
      "34/34 [==============================] - 0s 1ms/step - loss: 8285.4033 - mae: 8285.4033 - mse: 158908816.0000\n",
      "Epoch 84/100\n",
      "34/34 [==============================] - 0s 2ms/step - loss: 8282.6055 - mae: 8282.6055 - mse: 158368096.0000\n",
      "Epoch 85/100\n",
      "34/34 [==============================] - 0s 3ms/step - loss: 8284.9590 - mae: 8284.9590 - mse: 158948640.0000\n",
      "Epoch 86/100\n",
      "34/34 [==============================] - 0s 2ms/step - loss: 8283.2451 - mae: 8283.2451 - mse: 158772736.0000\n",
      "Epoch 87/100\n",
      "34/34 [==============================] - 0s 1ms/step - loss: 8285.0391 - mae: 8285.0391 - mse: 158835584.0000\n",
      "Epoch 88/100\n",
      "34/34 [==============================] - 0s 3ms/step - loss: 8283.2021 - mae: 8283.2021 - mse: 158383232.0000\n",
      "Epoch 89/100\n",
      "34/34 [==============================] - 0s 2ms/step - loss: 8285.4424 - mae: 8285.4424 - mse: 158840784.0000\n",
      "Epoch 90/100\n",
      "34/34 [==============================] - 0s 2ms/step - loss: 8282.4521 - mae: 8282.4521 - mse: 158099888.0000\n",
      "Epoch 91/100\n",
      "34/34 [==============================] - 0s 3ms/step - loss: 8283.9531 - mae: 8283.9531 - mse: 158892048.0000\n",
      "Epoch 92/100\n",
      "34/34 [==============================] - 0s 2ms/step - loss: 8284.0205 - mae: 8284.0205 - mse: 158046160.0000\n",
      "Epoch 93/100\n",
      "34/34 [==============================] - 0s 2ms/step - loss: 8284.0283 - mae: 8284.0283 - mse: 159002960.0000\n",
      "Epoch 94/100\n",
      "34/34 [==============================] - 0s 4ms/step - loss: 8284.3594 - mae: 8284.3594 - mse: 159055648.0000\n",
      "Epoch 95/100\n",
      "34/34 [==============================] - 0s 3ms/step - loss: 8283.0605 - mae: 8283.0605 - mse: 158235584.0000\n",
      "Epoch 96/100\n",
      "34/34 [==============================] - 0s 2ms/step - loss: 8283.6133 - mae: 8283.6133 - mse: 158713632.0000\n",
      "Epoch 97/100\n",
      "34/34 [==============================] - 0s 2ms/step - loss: 8284.0098 - mae: 8284.0098 - mse: 158893984.0000\n",
      "Epoch 98/100\n",
      "34/34 [==============================] - 0s 2ms/step - loss: 8284.1240 - mae: 8284.1240 - mse: 159119072.0000\n",
      "Epoch 99/100\n",
      "34/34 [==============================] - 0s 2ms/step - loss: 8283.1748 - mae: 8283.1748 - mse: 159212960.0000\n",
      "Epoch 100/100\n",
      "34/34 [==============================] - 0s 3ms/step - loss: 8282.3105 - mae: 8282.3105 - mse: 158629744.0000\n"
     ]
    },
    {
     "data": {
      "text/plain": [
       "<keras.callbacks.History at 0x7f963c99e8b0>"
      ]
     },
     "execution_count": 56,
     "metadata": {},
     "output_type": "execute_result"
    }
   ],
   "source": [
    "tf.random.set_seed(42)\n",
    "\n",
    "# Create a Base Model\n",
    "ins_v1_model = keras.models.Sequential([\n",
    "    keras.layers.Dense(100, activation='relu'),\n",
    "    keras.layers.Dense(10),\n",
    "    keras.layers.Dense(1)\n",
    "])\n",
    "\n",
    "# Compile\n",
    "ins_v1_model.compile(\n",
    "    loss=keras.losses.mae, \n",
    "    optimizer=keras.optimizers.SGD(),\n",
    "    metrics=['mae', 'mse']\n",
    ")\n",
    "\n",
    "# Fit\n",
    "ins_v1_model.fit(X_train, y_train, epochs=100)"
   ]
  },
  {
   "cell_type": "code",
   "execution_count": 57,
   "id": "afcb672e-5c9c-49f6-9b41-5189e781cd69",
   "metadata": {},
   "outputs": [
    {
     "name": "stdout",
     "output_type": "stream",
     "text": [
      "9/9 [==============================] - 0s 4ms/step - loss: 8648.5244 - mae: 8648.5244 - mse: 166339872.0000\n"
     ]
    },
    {
     "data": {
      "text/plain": [
       "[8648.5244140625, 8648.5244140625, 166339872.0]"
      ]
     },
     "execution_count": 57,
     "metadata": {},
     "output_type": "execute_result"
    }
   ],
   "source": [
    "ins_v1_model.evaluate(X_test, y_test)"
   ]
  },
  {
   "cell_type": "markdown",
   "id": "3738d549-c4f5-4356-8329-018100b57350",
   "metadata": {},
   "source": [
    "### Tuned Model - V2"
   ]
  },
  {
   "cell_type": "code",
   "execution_count": 58,
   "id": "0eb3f9ae-4465-4132-8f50-10fbb8bdd1f1",
   "metadata": {},
   "outputs": [
    {
     "name": "stdout",
     "output_type": "stream",
     "text": [
      "Epoch 1/100\n",
      "34/34 [==============================] - 0s 2ms/step - loss: 13265.5918 - mae: 13265.5918 - mse: 320142304.0000\n",
      "Epoch 2/100\n",
      "34/34 [==============================] - 0s 2ms/step - loss: 12428.1279 - mae: 12428.1279 - mse: 297150848.0000\n",
      "Epoch 3/100\n",
      "34/34 [==============================] - 0s 3ms/step - loss: 9039.3174 - mae: 9039.3174 - mse: 206655312.0000\n",
      "Epoch 4/100\n",
      "34/34 [==============================] - 0s 3ms/step - loss: 7473.6572 - mae: 7473.6572 - mse: 151780576.0000\n",
      "Epoch 5/100\n",
      "34/34 [==============================] - 0s 2ms/step - loss: 7378.1323 - mae: 7378.1323 - mse: 151297632.0000\n",
      "Epoch 6/100\n",
      "34/34 [==============================] - 0s 3ms/step - loss: 7315.8662 - mae: 7315.8662 - mse: 156163344.0000\n",
      "Epoch 7/100\n",
      "34/34 [==============================] - 0s 3ms/step - loss: 7237.2495 - mae: 7237.2495 - mse: 153824960.0000\n",
      "Epoch 8/100\n",
      "34/34 [==============================] - 0s 3ms/step - loss: 7163.6514 - mae: 7163.6514 - mse: 154381008.0000\n",
      "Epoch 9/100\n",
      "34/34 [==============================] - 0s 4ms/step - loss: 7085.8154 - mae: 7085.8154 - mse: 154706928.0000\n",
      "Epoch 10/100\n",
      "34/34 [==============================] - 0s 2ms/step - loss: 7003.8857 - mae: 7003.8857 - mse: 155125664.0000\n",
      "Epoch 11/100\n",
      "34/34 [==============================] - 0s 3ms/step - loss: 6917.3154 - mae: 6917.3154 - mse: 156143040.0000\n",
      "Epoch 12/100\n",
      "34/34 [==============================] - 0s 2ms/step - loss: 6820.3794 - mae: 6820.3794 - mse: 157817760.0000\n",
      "Epoch 13/100\n",
      "34/34 [==============================] - 0s 4ms/step - loss: 6727.3750 - mae: 6727.3750 - mse: 157823568.0000\n",
      "Epoch 14/100\n",
      "34/34 [==============================] - 0s 4ms/step - loss: 6653.9106 - mae: 6653.9106 - mse: 158998000.0000\n",
      "Epoch 15/100\n",
      "34/34 [==============================] - 0s 3ms/step - loss: 6583.2046 - mae: 6583.2046 - mse: 158663056.0000\n",
      "Epoch 16/100\n",
      "34/34 [==============================] - 0s 4ms/step - loss: 6535.4731 - mae: 6535.4731 - mse: 158850272.0000\n",
      "Epoch 17/100\n",
      "34/34 [==============================] - 0s 3ms/step - loss: 6496.3530 - mae: 6496.3530 - mse: 158810256.0000\n",
      "Epoch 18/100\n",
      "34/34 [==============================] - 0s 3ms/step - loss: 6466.3750 - mae: 6466.3750 - mse: 157225008.0000\n",
      "Epoch 19/100\n",
      "34/34 [==============================] - 0s 3ms/step - loss: 6425.6616 - mae: 6425.6616 - mse: 156146224.0000\n",
      "Epoch 20/100\n",
      "34/34 [==============================] - 0s 2ms/step - loss: 6391.7773 - mae: 6391.7773 - mse: 155216288.0000\n",
      "Epoch 21/100\n",
      "34/34 [==============================] - 0s 2ms/step - loss: 6350.2754 - mae: 6350.2754 - mse: 153879392.0000\n",
      "Epoch 22/100\n",
      "34/34 [==============================] - 0s 3ms/step - loss: 6317.4663 - mae: 6317.4663 - mse: 152513840.0000\n",
      "Epoch 23/100\n",
      "34/34 [==============================] - 0s 3ms/step - loss: 6268.5581 - mae: 6268.5581 - mse: 150962992.0000\n",
      "Epoch 24/100\n",
      "34/34 [==============================] - 0s 4ms/step - loss: 6221.1772 - mae: 6221.1772 - mse: 149648400.0000\n",
      "Epoch 25/100\n",
      "34/34 [==============================] - 0s 3ms/step - loss: 6167.5024 - mae: 6167.5024 - mse: 147984656.0000\n",
      "Epoch 26/100\n",
      "34/34 [==============================] - 0s 3ms/step - loss: 6112.9683 - mae: 6112.9683 - mse: 145590960.0000\n",
      "Epoch 27/100\n",
      "34/34 [==============================] - 0s 3ms/step - loss: 6047.7563 - mae: 6047.7563 - mse: 143212240.0000\n",
      "Epoch 28/100\n",
      "34/34 [==============================] - 0s 3ms/step - loss: 5970.5366 - mae: 5970.5366 - mse: 141212160.0000\n",
      "Epoch 29/100\n",
      "34/34 [==============================] - 0s 4ms/step - loss: 5880.3145 - mae: 5880.3145 - mse: 137795328.0000\n",
      "Epoch 30/100\n",
      "34/34 [==============================] - 0s 2ms/step - loss: 5795.9697 - mae: 5795.9697 - mse: 133369632.0000\n",
      "Epoch 31/100\n",
      "34/34 [==============================] - 0s 3ms/step - loss: 5672.4424 - mae: 5672.4424 - mse: 129871160.0000\n",
      "Epoch 32/100\n",
      "34/34 [==============================] - 0s 4ms/step - loss: 5542.4775 - mae: 5542.4775 - mse: 125608936.0000\n",
      "Epoch 33/100\n",
      "34/34 [==============================] - 0s 4ms/step - loss: 5392.4077 - mae: 5392.4077 - mse: 119332264.0000\n",
      "Epoch 34/100\n",
      "34/34 [==============================] - 0s 3ms/step - loss: 5193.1646 - mae: 5193.1641 - mse: 112446512.0000\n",
      "Epoch 35/100\n",
      "34/34 [==============================] - 0s 3ms/step - loss: 4967.4248 - mae: 4967.4248 - mse: 103941232.0000\n",
      "Epoch 36/100\n",
      "34/34 [==============================] - 0s 3ms/step - loss: 4692.1035 - mae: 4692.1035 - mse: 95091280.0000\n",
      "Epoch 37/100\n",
      "34/34 [==============================] - 0s 3ms/step - loss: 4414.6572 - mae: 4414.6572 - mse: 84384832.0000\n",
      "Epoch 38/100\n",
      "34/34 [==============================] - 0s 3ms/step - loss: 4083.8635 - mae: 4083.8635 - mse: 74700896.0000\n",
      "Epoch 39/100\n",
      "34/34 [==============================] - 0s 2ms/step - loss: 3900.4458 - mae: 3900.4458 - mse: 66206092.0000\n",
      "Epoch 40/100\n",
      "34/34 [==============================] - 0s 4ms/step - loss: 3787.3318 - mae: 3787.3318 - mse: 61026020.0000\n",
      "Epoch 41/100\n",
      "34/34 [==============================] - 0s 3ms/step - loss: 3747.7146 - mae: 3747.7146 - mse: 58539720.0000\n",
      "Epoch 42/100\n",
      "34/34 [==============================] - 0s 3ms/step - loss: 3694.5479 - mae: 3694.5479 - mse: 56423884.0000\n",
      "Epoch 43/100\n",
      "34/34 [==============================] - 0s 3ms/step - loss: 3664.7070 - mae: 3664.7070 - mse: 54834876.0000\n",
      "Epoch 44/100\n",
      "34/34 [==============================] - 0s 4ms/step - loss: 3631.6819 - mae: 3631.6819 - mse: 54482648.0000\n",
      "Epoch 45/100\n",
      "34/34 [==============================] - 0s 3ms/step - loss: 3593.9492 - mae: 3593.9492 - mse: 53950556.0000\n",
      "Epoch 46/100\n",
      "34/34 [==============================] - 0s 3ms/step - loss: 3617.6770 - mae: 3617.6770 - mse: 53256436.0000\n",
      "Epoch 47/100\n",
      "34/34 [==============================] - 0s 2ms/step - loss: 3578.0549 - mae: 3578.0549 - mse: 52211032.0000\n",
      "Epoch 48/100\n",
      "34/34 [==============================] - 0s 3ms/step - loss: 3562.5796 - mae: 3562.5796 - mse: 52220164.0000\n",
      "Epoch 49/100\n",
      "34/34 [==============================] - 0s 3ms/step - loss: 3539.0811 - mae: 3539.0811 - mse: 51915816.0000\n",
      "Epoch 50/100\n",
      "34/34 [==============================] - 0s 4ms/step - loss: 3535.5212 - mae: 3535.5212 - mse: 49735648.0000\n",
      "Epoch 51/100\n",
      "34/34 [==============================] - 0s 3ms/step - loss: 3514.5691 - mae: 3514.5691 - mse: 48947992.0000\n",
      "Epoch 52/100\n",
      "34/34 [==============================] - 0s 3ms/step - loss: 3504.3499 - mae: 3504.3499 - mse: 48447264.0000\n",
      "Epoch 53/100\n",
      "34/34 [==============================] - 0s 3ms/step - loss: 3496.1980 - mae: 3496.1980 - mse: 48012612.0000\n",
      "Epoch 54/100\n",
      "34/34 [==============================] - 0s 3ms/step - loss: 3475.3384 - mae: 3475.3384 - mse: 46088892.0000\n",
      "Epoch 55/100\n",
      "34/34 [==============================] - 0s 3ms/step - loss: 3479.7913 - mae: 3479.7913 - mse: 46609520.0000\n",
      "Epoch 56/100\n",
      "34/34 [==============================] - 0s 3ms/step - loss: 3442.2839 - mae: 3442.2839 - mse: 44912352.0000\n",
      "Epoch 57/100\n",
      "34/34 [==============================] - 0s 3ms/step - loss: 3428.0706 - mae: 3428.0706 - mse: 43483940.0000\n",
      "Epoch 58/100\n",
      "34/34 [==============================] - 0s 3ms/step - loss: 3448.0225 - mae: 3448.0225 - mse: 42641104.0000\n",
      "Epoch 59/100\n",
      "34/34 [==============================] - 0s 4ms/step - loss: 3399.7363 - mae: 3399.7363 - mse: 41606840.0000\n",
      "Epoch 60/100\n",
      "34/34 [==============================] - 0s 4ms/step - loss: 3369.3032 - mae: 3369.3032 - mse: 41332976.0000\n",
      "Epoch 61/100\n",
      "34/34 [==============================] - 0s 4ms/step - loss: 3371.8318 - mae: 3371.8318 - mse: 40252524.0000\n",
      "Epoch 62/100\n",
      "34/34 [==============================] - 0s 4ms/step - loss: 3377.1216 - mae: 3377.1216 - mse: 39786812.0000\n",
      "Epoch 63/100\n",
      "34/34 [==============================] - 0s 3ms/step - loss: 3317.8921 - mae: 3317.8921 - mse: 38875852.0000\n",
      "Epoch 64/100\n",
      "34/34 [==============================] - 0s 3ms/step - loss: 3308.7888 - mae: 3308.7888 - mse: 38648608.0000\n",
      "Epoch 65/100\n",
      "34/34 [==============================] - 0s 2ms/step - loss: 3356.3281 - mae: 3356.3281 - mse: 38021972.0000\n",
      "Epoch 66/100\n",
      "34/34 [==============================] - 0s 5ms/step - loss: 3290.0952 - mae: 3290.0952 - mse: 37681076.0000\n",
      "Epoch 67/100\n",
      "34/34 [==============================] - 0s 3ms/step - loss: 3233.5911 - mae: 3233.5911 - mse: 37382540.0000\n",
      "Epoch 68/100\n",
      "34/34 [==============================] - 0s 4ms/step - loss: 3234.0173 - mae: 3234.0173 - mse: 37429344.0000\n",
      "Epoch 69/100\n",
      "34/34 [==============================] - 0s 4ms/step - loss: 3234.0642 - mae: 3234.0642 - mse: 37462476.0000\n",
      "Epoch 70/100\n",
      "34/34 [==============================] - 0s 4ms/step - loss: 3167.5718 - mae: 3167.5718 - mse: 37287528.0000\n",
      "Epoch 71/100\n",
      "34/34 [==============================] - 0s 4ms/step - loss: 3149.8616 - mae: 3149.8616 - mse: 37922448.0000\n",
      "Epoch 72/100\n",
      "34/34 [==============================] - 0s 3ms/step - loss: 3118.9844 - mae: 3118.9844 - mse: 37519580.0000\n",
      "Epoch 73/100\n",
      "34/34 [==============================] - 0s 3ms/step - loss: 3094.3208 - mae: 3094.3208 - mse: 39135516.0000\n",
      "Epoch 74/100\n",
      "34/34 [==============================] - 0s 4ms/step - loss: 3093.8208 - mae: 3093.8208 - mse: 39348468.0000\n",
      "Epoch 75/100\n",
      "34/34 [==============================] - 0s 4ms/step - loss: 3061.4697 - mae: 3061.4697 - mse: 40118468.0000\n",
      "Epoch 76/100\n",
      "34/34 [==============================] - 0s 3ms/step - loss: 3044.1724 - mae: 3044.1724 - mse: 39456348.0000\n",
      "Epoch 77/100\n",
      "34/34 [==============================] - 0s 4ms/step - loss: 3067.8040 - mae: 3067.8040 - mse: 38771528.0000\n",
      "Epoch 78/100\n",
      "34/34 [==============================] - 0s 3ms/step - loss: 3014.4666 - mae: 3014.4666 - mse: 38065776.0000\n",
      "Epoch 79/100\n",
      "34/34 [==============================] - 0s 5ms/step - loss: 3014.9067 - mae: 3014.9067 - mse: 38885276.0000\n",
      "Epoch 80/100\n",
      "34/34 [==============================] - 0s 3ms/step - loss: 3010.4243 - mae: 3010.4243 - mse: 38084408.0000\n",
      "Epoch 81/100\n",
      "34/34 [==============================] - 0s 2ms/step - loss: 2979.9290 - mae: 2979.9290 - mse: 38512444.0000\n",
      "Epoch 82/100\n",
      "34/34 [==============================] - 0s 5ms/step - loss: 2970.4182 - mae: 2970.4182 - mse: 38762900.0000\n",
      "Epoch 83/100\n",
      "34/34 [==============================] - 0s 3ms/step - loss: 2970.9519 - mae: 2970.9519 - mse: 37768340.0000\n",
      "Epoch 84/100\n",
      "34/34 [==============================] - 0s 4ms/step - loss: 2943.0254 - mae: 2943.0254 - mse: 37282504.0000\n",
      "Epoch 85/100\n",
      "34/34 [==============================] - 0s 3ms/step - loss: 2931.0056 - mae: 2931.0056 - mse: 37200212.0000\n",
      "Epoch 86/100\n",
      "34/34 [==============================] - 0s 4ms/step - loss: 2914.9089 - mae: 2914.9089 - mse: 37184976.0000\n",
      "Epoch 87/100\n",
      "34/34 [==============================] - 0s 3ms/step - loss: 2953.2581 - mae: 2953.2581 - mse: 37244436.0000\n",
      "Epoch 88/100\n",
      "34/34 [==============================] - 0s 4ms/step - loss: 2912.7463 - mae: 2912.7463 - mse: 37054472.0000\n",
      "Epoch 89/100\n",
      "34/34 [==============================] - 0s 2ms/step - loss: 2914.3831 - mae: 2914.3831 - mse: 36686300.0000\n",
      "Epoch 90/100\n",
      "34/34 [==============================] - 0s 3ms/step - loss: 2899.1992 - mae: 2899.1992 - mse: 36600408.0000\n",
      "Epoch 91/100\n",
      "34/34 [==============================] - 0s 3ms/step - loss: 2890.4436 - mae: 2890.4436 - mse: 36811492.0000\n",
      "Epoch 92/100\n",
      "34/34 [==============================] - 0s 3ms/step - loss: 2903.8523 - mae: 2903.8523 - mse: 36057792.0000\n",
      "Epoch 93/100\n",
      "34/34 [==============================] - 0s 3ms/step - loss: 2912.8503 - mae: 2912.8503 - mse: 36188528.0000\n",
      "Epoch 94/100\n",
      "34/34 [==============================] - 0s 3ms/step - loss: 2869.9426 - mae: 2869.9426 - mse: 36326404.0000\n",
      "Epoch 95/100\n",
      "34/34 [==============================] - 0s 3ms/step - loss: 2873.6182 - mae: 2873.6182 - mse: 36010844.0000\n",
      "Epoch 96/100\n",
      "34/34 [==============================] - 0s 3ms/step - loss: 2905.3169 - mae: 2905.3169 - mse: 36243396.0000\n",
      "Epoch 97/100\n",
      "34/34 [==============================] - 0s 3ms/step - loss: 2898.3379 - mae: 2898.3379 - mse: 35208560.0000\n",
      "Epoch 98/100\n",
      "34/34 [==============================] - 0s 4ms/step - loss: 2858.5657 - mae: 2858.5657 - mse: 35742460.0000\n",
      "Epoch 99/100\n",
      "34/34 [==============================] - 0s 2ms/step - loss: 2853.4060 - mae: 2853.4060 - mse: 35584724.0000\n",
      "Epoch 100/100\n",
      "34/34 [==============================] - 0s 3ms/step - loss: 2826.7480 - mae: 2826.7480 - mse: 35408340.0000\n"
     ]
    }
   ],
   "source": [
    "tf.random.set_seed(42)\n",
    "\n",
    "# Create a Base Model\n",
    "ins_v2_model = keras.models.Sequential([\n",
    "    keras.layers.Dense(128, activation='relu'),\n",
    "    keras.layers.Dense(256, activation='relu'),\n",
    "    keras.layers.Dense(10),\n",
    "    keras.layers.Dense(1)\n",
    "])\n",
    "\n",
    "# Compile\n",
    "ins_v2_model.compile(\n",
    "    loss=keras.losses.mae, \n",
    "    optimizer=keras.optimizers.Adam(),\n",
    "    metrics=['mae', 'mse']\n",
    ")\n",
    "\n",
    "# Fit\n",
    "history = ins_v2_model.fit(X_train, y_train, epochs=100)"
   ]
  },
  {
   "cell_type": "code",
   "execution_count": 59,
   "id": "0c778df0-c0e3-49f0-b85b-3f9d71d446f6",
   "metadata": {},
   "outputs": [
    {
     "name": "stdout",
     "output_type": "stream",
     "text": [
      "9/9 [==============================] - 0s 3ms/step - loss: 2590.0486 - mae: 2590.0486 - mse: 31114218.0000\n"
     ]
    },
    {
     "data": {
      "text/plain": [
       "[2590.048583984375, 2590.048583984375, 31114218.0]"
      ]
     },
     "execution_count": 59,
     "metadata": {},
     "output_type": "execute_result"
    }
   ],
   "source": [
    "ins_v2_model.evaluate(X_test, y_test)"
   ]
  },
  {
   "cell_type": "markdown",
   "id": "0c2e0fe8-8d5b-4ffc-844a-ebd3cb1e29cb",
   "metadata": {},
   "source": [
    "#### Plot histroy"
   ]
  },
  {
   "cell_type": "code",
   "execution_count": 60,
   "id": "7b0d7c66-828b-4b1d-b1e5-1671da9a26d3",
   "metadata": {},
   "outputs": [],
   "source": [
    "def plot_history(history, loss='loss'):\n",
    "    model_hist = pd.DataFrame(history.history)\n",
    "    # plt.plot(model_hist.index, model_hist.mae, label = 'MAE')\n",
    "    plt.plot(model_hist.index, model_hist[loss], label = loss)\n",
    "    # plt.plot(model_hist.index, model_hist.mse, label = 'MSE')\n",
    "    plt.legend()"
   ]
  },
  {
   "cell_type": "code",
   "execution_count": 61,
   "id": "ee93e980-c3f0-4c01-9c4d-9ff8d94d41bf",
   "metadata": {},
   "outputs": [
    {
     "data": {
      "image/png": "[encoded data removed]",
      "text/plain": [
       "<Figure size 640x480 with 1 Axes>"
      ]
     },
     "metadata": {},
     "output_type": "display_data"
    }
   ],
   "source": [
    "plot_history(history, 'mse')"
   ]
  },
  {
   "cell_type": "markdown",
   "id": "24d99ca6-4b83-43ea-8abf-f4b9673946b5",
   "metadata": {},
   "source": [
    "### EDA - Contd."
   ]
  },
  {
   "cell_type": "code",
   "execution_count": 62,
   "id": "f993715c-01ef-40e9-95b1-e2545cf707c8",
   "metadata": {},
   "outputs": [
    {
     "data": {
      "text/html": [
       "<div>\n",
       "<style scoped>\n",
       "    .dataframe tbody tr th:only-of-type {\n",
       "        vertical-align: middle;\n",
       "    }\n",
       "\n",
       "    .dataframe tbody tr th {\n",
       "        vertical-align: top;\n",
       "    }\n",
       "\n",
       "    .dataframe thead th {\n",
       "        text-align: right;\n",
       "    }\n",
       "</style>\n",
       "<table border=\"1\" class=\"dataframe\">\n",
       "  <thead>\n",
       "    <tr style=\"text-align: right;\">\n",
       "      <th></th>\n",
       "      <th>age</th>\n",
       "      <th>bmi</th>\n",
       "      <th>children</th>\n",
       "      <th>sex_female</th>\n",
       "      <th>sex_male</th>\n",
       "      <th>smoker_no</th>\n",
       "      <th>smoker_yes</th>\n",
       "      <th>region_northeast</th>\n",
       "      <th>region_northwest</th>\n",
       "      <th>region_southeast</th>\n",
       "      <th>region_southwest</th>\n",
       "    </tr>\n",
       "  </thead>\n",
       "  <tbody>\n",
       "    <tr>\n",
       "      <th>0</th>\n",
       "      <td>19</td>\n",
       "      <td>27.900</td>\n",
       "      <td>0</td>\n",
       "      <td>1</td>\n",
       "      <td>0</td>\n",
       "      <td>0</td>\n",
       "      <td>1</td>\n",
       "      <td>0</td>\n",
       "      <td>0</td>\n",
       "      <td>0</td>\n",
       "      <td>1</td>\n",
       "    </tr>\n",
       "    <tr>\n",
       "      <th>1</th>\n",
       "      <td>18</td>\n",
       "      <td>33.770</td>\n",
       "      <td>1</td>\n",
       "      <td>0</td>\n",
       "      <td>1</td>\n",
       "      <td>1</td>\n",
       "      <td>0</td>\n",
       "      <td>0</td>\n",
       "      <td>0</td>\n",
       "      <td>1</td>\n",
       "      <td>0</td>\n",
       "    </tr>\n",
       "    <tr>\n",
       "      <th>2</th>\n",
       "      <td>28</td>\n",
       "      <td>33.000</td>\n",
       "      <td>3</td>\n",
       "      <td>0</td>\n",
       "      <td>1</td>\n",
       "      <td>1</td>\n",
       "      <td>0</td>\n",
       "      <td>0</td>\n",
       "      <td>0</td>\n",
       "      <td>1</td>\n",
       "      <td>0</td>\n",
       "    </tr>\n",
       "    <tr>\n",
       "      <th>3</th>\n",
       "      <td>33</td>\n",
       "      <td>22.705</td>\n",
       "      <td>0</td>\n",
       "      <td>0</td>\n",
       "      <td>1</td>\n",
       "      <td>1</td>\n",
       "      <td>0</td>\n",
       "      <td>0</td>\n",
       "      <td>1</td>\n",
       "      <td>0</td>\n",
       "      <td>0</td>\n",
       "    </tr>\n",
       "    <tr>\n",
       "      <th>4</th>\n",
       "      <td>32</td>\n",
       "      <td>28.880</td>\n",
       "      <td>0</td>\n",
       "      <td>0</td>\n",
       "      <td>1</td>\n",
       "      <td>1</td>\n",
       "      <td>0</td>\n",
       "      <td>0</td>\n",
       "      <td>1</td>\n",
       "      <td>0</td>\n",
       "      <td>0</td>\n",
       "    </tr>\n",
       "  </tbody>\n",
       "</table>\n",
       "</div>"
      ],
      "text/plain": [
       "   age     bmi  children  sex_female  sex_male  smoker_no  smoker_yes  \\\n",
       "0   19  27.900         0           1         0          0           1   \n",
       "1   18  33.770         1           0         1          1           0   \n",
       "2   28  33.000         3           0         1          1           0   \n",
       "3   33  22.705         0           0         1          1           0   \n",
       "4   32  28.880         0           0         1          1           0   \n",
       "\n",
       "   region_northeast  region_northwest  region_southeast  region_southwest  \n",
       "0                 0                 0                 0                 1  \n",
       "1                 0                 0                 1                 0  \n",
       "2                 0                 0                 1                 0  \n",
       "3                 0                 1                 0                 0  \n",
       "4                 0                 1                 0                 0  "
      ]
     },
     "execution_count": 62,
     "metadata": {},
     "output_type": "execute_result"
    }
   ],
   "source": [
    "X.head()"
   ]
  },
  {
   "cell_type": "markdown",
   "id": "8c45190f-519b-4eb3-b7da-0953672194d5",
   "metadata": {},
   "source": [
    "#### Normalization & Standardization"
   ]
  },
  {
   "cell_type": "code",
   "execution_count": 63,
   "id": "91c0c7cb-cf4f-4f80-803d-fd0f390372be",
   "metadata": {},
   "outputs": [
    {
     "data": {
      "text/plain": [
       "<AxesSubplot:ylabel='Frequency'>"
      ]
     },
     "execution_count": 63,
     "metadata": {},
     "output_type": "execute_result"
    },
    {
     "data": {
      "image/png": "[encoded data removed]",
      "text/plain": [
       "<Figure size 640x480 with 1 Axes>"
      ]
     },
     "metadata": {},
     "output_type": "display_data"
    }
   ],
   "source": [
    "X.bmi.plot(kind='hist')"
   ]
  },
  {
   "cell_type": "code",
   "execution_count": 64,
   "id": "145b28cc-b695-427c-bd12-ce2cf0fb3f3b",
   "metadata": {},
   "outputs": [
    {
     "data": {
      "text/plain": [
       "Index(['age', 'sex', 'bmi', 'children', 'smoker', 'region', 'charges'], dtype='object')"
      ]
     },
     "execution_count": 64,
     "metadata": {},
     "output_type": "execute_result"
    }
   ],
   "source": [
    "df.columns"
   ]
  },
  {
   "cell_type": "code",
   "execution_count": 65,
   "id": "a12867ea-de04-44cc-a466-cf3ad03798c5",
   "metadata": {},
   "outputs": [],
   "source": [
    "temp_df = df_ohe.copy(deep=True)"
   ]
  },
  {
   "cell_type": "code",
   "execution_count": 66,
   "id": "3b5e228b-ae90-452d-b16d-a88533c87d5d",
   "metadata": {},
   "outputs": [],
   "source": [
    "temp_df['charges'] = df.charges"
   ]
  },
  {
   "cell_type": "code",
   "execution_count": 67,
   "id": "f0765e38-5348-4661-a87b-b4ea322840ed",
   "metadata": {},
   "outputs": [
    {
     "data": {
      "text/plain": [
       "<seaborn.axisgrid.PairGrid at 0x7f963c99ea30>"
      ]
     },
     "execution_count": 67,
     "metadata": {},
     "output_type": "execute_result"
    },
    {
     "data": {
      "image/png": "[encoded data removed]",
      "text/plain": [
       "<Figure size 1000x1000 with 20 Axes>"
      ]
     },
     "metadata": {},
     "output_type": "display_data"
    }
   ],
   "source": [
    "sns.pairplot(temp_df.loc[:, ['bmi', 'children', 'charges', 'age']])"
   ]
  },
  {
   "cell_type": "markdown",
   "id": "b246c0a7-d731-4864-be79-d6e1e4a45a46",
   "metadata": {},
   "source": [
    "##### Column Transformer"
   ]
  },
  {
   "cell_type": "code",
   "execution_count": 68,
   "id": "17ba6f5b-b5b2-4ce1-a2d8-cf8a7008ad3a",
   "metadata": {},
   "outputs": [],
   "source": [
    "ct = make_column_transformer(\n",
    "    (MinMaxScaler(), ['age', 'bmi', 'children']),\n",
    "    (OneHotEncoder(), ['sex', 'smoker', 'region']),\n",
    "    remainder='passthrough'\n",
    ")\n",
    "\n",
    "X = df.drop('charges', axis=1)\n",
    "y = df.charges"
   ]
  },
  {
   "cell_type": "code",
   "execution_count": 69,
   "id": "35c335e6-61c8-422c-a57e-182d7be9eab5",
   "metadata": {},
   "outputs": [
    {
     "data": {
      "text/html": [
       "<div>\n",
       "<style scoped>\n",
       "    .dataframe tbody tr th:only-of-type {\n",
       "        vertical-align: middle;\n",
       "    }\n",
       "\n",
       "    .dataframe tbody tr th {\n",
       "        vertical-align: top;\n",
       "    }\n",
       "\n",
       "    .dataframe thead th {\n",
       "        text-align: right;\n",
       "    }\n",
       "</style>\n",
       "<table border=\"1\" class=\"dataframe\">\n",
       "  <thead>\n",
       "    <tr style=\"text-align: right;\">\n",
       "      <th></th>\n",
       "      <th>age</th>\n",
       "      <th>sex</th>\n",
       "      <th>bmi</th>\n",
       "      <th>children</th>\n",
       "      <th>smoker</th>\n",
       "      <th>region</th>\n",
       "    </tr>\n",
       "  </thead>\n",
       "  <tbody>\n",
       "    <tr>\n",
       "      <th>0</th>\n",
       "      <td>19</td>\n",
       "      <td>female</td>\n",
       "      <td>27.900</td>\n",
       "      <td>0</td>\n",
       "      <td>yes</td>\n",
       "      <td>southwest</td>\n",
       "    </tr>\n",
       "    <tr>\n",
       "      <th>1</th>\n",
       "      <td>18</td>\n",
       "      <td>male</td>\n",
       "      <td>33.770</td>\n",
       "      <td>1</td>\n",
       "      <td>no</td>\n",
       "      <td>southeast</td>\n",
       "    </tr>\n",
       "    <tr>\n",
       "      <th>2</th>\n",
       "      <td>28</td>\n",
       "      <td>male</td>\n",
       "      <td>33.000</td>\n",
       "      <td>3</td>\n",
       "      <td>no</td>\n",
       "      <td>southeast</td>\n",
       "    </tr>\n",
       "    <tr>\n",
       "      <th>3</th>\n",
       "      <td>33</td>\n",
       "      <td>male</td>\n",
       "      <td>22.705</td>\n",
       "      <td>0</td>\n",
       "      <td>no</td>\n",
       "      <td>northwest</td>\n",
       "    </tr>\n",
       "    <tr>\n",
       "      <th>4</th>\n",
       "      <td>32</td>\n",
       "      <td>male</td>\n",
       "      <td>28.880</td>\n",
       "      <td>0</td>\n",
       "      <td>no</td>\n",
       "      <td>northwest</td>\n",
       "    </tr>\n",
       "  </tbody>\n",
       "</table>\n",
       "</div>"
      ],
      "text/plain": [
       "   age     sex     bmi  children smoker     region\n",
       "0   19  female  27.900         0    yes  southwest\n",
       "1   18    male  33.770         1     no  southeast\n",
       "2   28    male  33.000         3     no  southeast\n",
       "3   33    male  22.705         0     no  northwest\n",
       "4   32    male  28.880         0     no  northwest"
      ]
     },
     "execution_count": 69,
     "metadata": {},
     "output_type": "execute_result"
    }
   ],
   "source": [
    "X.head()"
   ]
  },
  {
   "cell_type": "code",
   "execution_count": 70,
   "id": "1f23fc43-7479-4f9f-815d-afde3461650c",
   "metadata": {},
   "outputs": [
    {
     "data": {
      "text/plain": [
       "0    16884.92400\n",
       "1     1725.55230\n",
       "2     4449.46200\n",
       "3    21984.47061\n",
       "4     3866.85520\n",
       "Name: charges, dtype: float64"
      ]
     },
     "execution_count": 70,
     "metadata": {},
     "output_type": "execute_result"
    }
   ],
   "source": [
    "y.head()"
   ]
  },
  {
   "cell_type": "code",
   "execution_count": 71,
   "id": "011ceb54-206b-4b36-9b9e-9ab39a029627",
   "metadata": {},
   "outputs": [],
   "source": [
    "X_train, X_test, y_train, y_test = train_test_split(X, y, test_size=0.2, random_state=42)"
   ]
  },
  {
   "cell_type": "code",
   "execution_count": 72,
   "id": "2dc2ef8d-1a56-464e-b0d5-a34368b626f9",
   "metadata": {},
   "outputs": [],
   "source": [
    "# Column Transformer - Fit on training data only\n",
    "ct.fit(X_train)\n",
    "\n",
    "X_train_norm = ct.transform(X_train)\n",
    "X_test_norm = ct.transform(X_test)"
   ]
  },
  {
   "cell_type": "code",
   "execution_count": 73,
   "id": "8fcf3f93-f99b-448a-8473-6edf14624502",
   "metadata": {},
   "outputs": [
    {
     "data": {
      "text/plain": [
       "Index(['age', 'sex', 'bmi', 'children', 'smoker', 'region'], dtype='object')"
      ]
     },
     "execution_count": 73,
     "metadata": {},
     "output_type": "execute_result"
    }
   ],
   "source": [
    "X_train.columns"
   ]
  },
  {
   "cell_type": "code",
   "execution_count": 74,
   "id": "b39307ea-9171-4b36-9ca9-d5280cb383e7",
   "metadata": {},
   "outputs": [
    {
     "data": {
      "text/plain": [
       "<bound method ColumnTransformer._iter of ColumnTransformer(remainder='passthrough',\n",
       "                  transformers=[('minmaxscaler', MinMaxScaler(),\n",
       "                                 ['age', 'bmi', 'children']),\n",
       "                                ('onehotencoder', OneHotEncoder(),\n",
       "                                 ['sex', 'smoker', 'region'])])>"
      ]
     },
     "execution_count": 74,
     "metadata": {},
     "output_type": "execute_result"
    }
   ],
   "source": [
    "ct._iter"
   ]
  },
  {
   "cell_type": "code",
   "execution_count": 75,
   "id": "58ab9cd9-6c07-41fe-8359-3b0e3c03bbe6",
   "metadata": {},
   "outputs": [
    {
     "data": {
      "text/plain": [
       "array([[0.60869565, 0.10734463, 0.4       , ..., 1.        , 0.        ,\n",
       "        0.        ],\n",
       "       [0.63043478, 0.22491256, 0.        , ..., 0.        , 0.        ,\n",
       "        0.        ],\n",
       "       [0.73913043, 0.23944041, 0.        , ..., 0.        , 1.        ,\n",
       "        0.        ],\n",
       "       ...,\n",
       "       [0.86956522, 0.24791499, 0.        , ..., 0.        , 0.        ,\n",
       "        0.        ],\n",
       "       [0.41304348, 0.85122411, 0.4       , ..., 0.        , 0.        ,\n",
       "        1.        ],\n",
       "       [0.80434783, 0.37503363, 0.        , ..., 0.        , 0.        ,\n",
       "        1.        ]])"
      ]
     },
     "execution_count": 75,
     "metadata": {},
     "output_type": "execute_result"
    }
   ],
   "source": [
    "X_train_norm"
   ]
  },
  {
   "cell_type": "code",
   "execution_count": 76,
   "id": "d3ee576a-566d-4c63-b9ea-01617f7e14cc",
   "metadata": {},
   "outputs": [
    {
     "data": {
      "text/plain": [
       "((1070, 6), (1070, 11))"
      ]
     },
     "execution_count": 76,
     "metadata": {},
     "output_type": "execute_result"
    }
   ],
   "source": [
    "X_train.shape, X_train_norm.shape"
   ]
  },
  {
   "cell_type": "code",
   "execution_count": 77,
   "id": "ffe9d055-7277-4c83-9502-ef281f5a76bc",
   "metadata": {},
   "outputs": [
    {
     "data": {
      "text/html": [
       "<div>\n",
       "<style scoped>\n",
       "    .dataframe tbody tr th:only-of-type {\n",
       "        vertical-align: middle;\n",
       "    }\n",
       "\n",
       "    .dataframe tbody tr th {\n",
       "        vertical-align: top;\n",
       "    }\n",
       "\n",
       "    .dataframe thead th {\n",
       "        text-align: right;\n",
       "    }\n",
       "</style>\n",
       "<table border=\"1\" class=\"dataframe\">\n",
       "  <thead>\n",
       "    <tr style=\"text-align: right;\">\n",
       "      <th></th>\n",
       "      <th>0</th>\n",
       "      <th>1</th>\n",
       "      <th>2</th>\n",
       "      <th>3</th>\n",
       "      <th>4</th>\n",
       "      <th>5</th>\n",
       "      <th>6</th>\n",
       "      <th>7</th>\n",
       "      <th>8</th>\n",
       "      <th>9</th>\n",
       "      <th>10</th>\n",
       "    </tr>\n",
       "  </thead>\n",
       "  <tbody>\n",
       "    <tr>\n",
       "      <th>0</th>\n",
       "      <td>0.608696</td>\n",
       "      <td>0.107345</td>\n",
       "      <td>0.4</td>\n",
       "      <td>1.0</td>\n",
       "      <td>0.0</td>\n",
       "      <td>1.0</td>\n",
       "      <td>0.0</td>\n",
       "      <td>0.0</td>\n",
       "      <td>1.0</td>\n",
       "      <td>0.0</td>\n",
       "      <td>0.0</td>\n",
       "    </tr>\n",
       "    <tr>\n",
       "      <th>1</th>\n",
       "      <td>0.630435</td>\n",
       "      <td>0.224913</td>\n",
       "      <td>0.0</td>\n",
       "      <td>1.0</td>\n",
       "      <td>0.0</td>\n",
       "      <td>1.0</td>\n",
       "      <td>0.0</td>\n",
       "      <td>1.0</td>\n",
       "      <td>0.0</td>\n",
       "      <td>0.0</td>\n",
       "      <td>0.0</td>\n",
       "    </tr>\n",
       "    <tr>\n",
       "      <th>2</th>\n",
       "      <td>0.739130</td>\n",
       "      <td>0.239440</td>\n",
       "      <td>0.0</td>\n",
       "      <td>1.0</td>\n",
       "      <td>0.0</td>\n",
       "      <td>1.0</td>\n",
       "      <td>0.0</td>\n",
       "      <td>0.0</td>\n",
       "      <td>0.0</td>\n",
       "      <td>1.0</td>\n",
       "      <td>0.0</td>\n",
       "    </tr>\n",
       "    <tr>\n",
       "      <th>3</th>\n",
       "      <td>0.456522</td>\n",
       "      <td>0.493947</td>\n",
       "      <td>1.0</td>\n",
       "      <td>1.0</td>\n",
       "      <td>0.0</td>\n",
       "      <td>1.0</td>\n",
       "      <td>0.0</td>\n",
       "      <td>0.0</td>\n",
       "      <td>0.0</td>\n",
       "      <td>1.0</td>\n",
       "      <td>0.0</td>\n",
       "    </tr>\n",
       "    <tr>\n",
       "      <th>4</th>\n",
       "      <td>0.782609</td>\n",
       "      <td>0.148238</td>\n",
       "      <td>0.6</td>\n",
       "      <td>1.0</td>\n",
       "      <td>0.0</td>\n",
       "      <td>1.0</td>\n",
       "      <td>0.0</td>\n",
       "      <td>0.0</td>\n",
       "      <td>1.0</td>\n",
       "      <td>0.0</td>\n",
       "      <td>0.0</td>\n",
       "    </tr>\n",
       "    <tr>\n",
       "      <th>...</th>\n",
       "      <td>...</td>\n",
       "      <td>...</td>\n",
       "      <td>...</td>\n",
       "      <td>...</td>\n",
       "      <td>...</td>\n",
       "      <td>...</td>\n",
       "      <td>...</td>\n",
       "      <td>...</td>\n",
       "      <td>...</td>\n",
       "      <td>...</td>\n",
       "      <td>...</td>\n",
       "    </tr>\n",
       "    <tr>\n",
       "      <th>1065</th>\n",
       "      <td>0.000000</td>\n",
       "      <td>0.414044</td>\n",
       "      <td>0.8</td>\n",
       "      <td>1.0</td>\n",
       "      <td>0.0</td>\n",
       "      <td>1.0</td>\n",
       "      <td>0.0</td>\n",
       "      <td>1.0</td>\n",
       "      <td>0.0</td>\n",
       "      <td>0.0</td>\n",
       "      <td>0.0</td>\n",
       "    </tr>\n",
       "    <tr>\n",
       "      <th>1066</th>\n",
       "      <td>0.456522</td>\n",
       "      <td>0.212806</td>\n",
       "      <td>1.0</td>\n",
       "      <td>1.0</td>\n",
       "      <td>0.0</td>\n",
       "      <td>1.0</td>\n",
       "      <td>0.0</td>\n",
       "      <td>0.0</td>\n",
       "      <td>0.0</td>\n",
       "      <td>1.0</td>\n",
       "      <td>0.0</td>\n",
       "    </tr>\n",
       "    <tr>\n",
       "      <th>1067</th>\n",
       "      <td>0.869565</td>\n",
       "      <td>0.247915</td>\n",
       "      <td>0.0</td>\n",
       "      <td>0.0</td>\n",
       "      <td>1.0</td>\n",
       "      <td>1.0</td>\n",
       "      <td>0.0</td>\n",
       "      <td>1.0</td>\n",
       "      <td>0.0</td>\n",
       "      <td>0.0</td>\n",
       "      <td>0.0</td>\n",
       "    </tr>\n",
       "    <tr>\n",
       "      <th>1068</th>\n",
       "      <td>0.413043</td>\n",
       "      <td>0.851224</td>\n",
       "      <td>0.4</td>\n",
       "      <td>1.0</td>\n",
       "      <td>0.0</td>\n",
       "      <td>0.0</td>\n",
       "      <td>1.0</td>\n",
       "      <td>0.0</td>\n",
       "      <td>0.0</td>\n",
       "      <td>0.0</td>\n",
       "      <td>1.0</td>\n",
       "    </tr>\n",
       "    <tr>\n",
       "      <th>1069</th>\n",
       "      <td>0.804348</td>\n",
       "      <td>0.375034</td>\n",
       "      <td>0.0</td>\n",
       "      <td>0.0</td>\n",
       "      <td>1.0</td>\n",
       "      <td>1.0</td>\n",
       "      <td>0.0</td>\n",
       "      <td>0.0</td>\n",
       "      <td>0.0</td>\n",
       "      <td>0.0</td>\n",
       "      <td>1.0</td>\n",
       "    </tr>\n",
       "  </tbody>\n",
       "</table>\n",
       "<p>1070 rows × 11 columns</p>\n",
       "</div>"
      ],
      "text/plain": [
       "            0         1    2    3    4    5    6    7    8    9    10\n",
       "0     0.608696  0.107345  0.4  1.0  0.0  1.0  0.0  0.0  1.0  0.0  0.0\n",
       "1     0.630435  0.224913  0.0  1.0  0.0  1.0  0.0  1.0  0.0  0.0  0.0\n",
       "2     0.739130  0.239440  0.0  1.0  0.0  1.0  0.0  0.0  0.0  1.0  0.0\n",
       "3     0.456522  0.493947  1.0  1.0  0.0  1.0  0.0  0.0  0.0  1.0  0.0\n",
       "4     0.782609  0.148238  0.6  1.0  0.0  1.0  0.0  0.0  1.0  0.0  0.0\n",
       "...        ...       ...  ...  ...  ...  ...  ...  ...  ...  ...  ...\n",
       "1065  0.000000  0.414044  0.8  1.0  0.0  1.0  0.0  1.0  0.0  0.0  0.0\n",
       "1066  0.456522  0.212806  1.0  1.0  0.0  1.0  0.0  0.0  0.0  1.0  0.0\n",
       "1067  0.869565  0.247915  0.0  0.0  1.0  1.0  0.0  1.0  0.0  0.0  0.0\n",
       "1068  0.413043  0.851224  0.4  1.0  0.0  0.0  1.0  0.0  0.0  0.0  1.0\n",
       "1069  0.804348  0.375034  0.0  0.0  1.0  1.0  0.0  0.0  0.0  0.0  1.0\n",
       "\n",
       "[1070 rows x 11 columns]"
      ]
     },
     "execution_count": 77,
     "metadata": {},
     "output_type": "execute_result"
    }
   ],
   "source": [
    "pd.DataFrame(X_train_norm)"
   ]
  },
  {
   "cell_type": "code",
   "execution_count": 78,
   "id": "8e692ecd-1a18-4b3f-84b3-c30872ff66a0",
   "metadata": {},
   "outputs": [
    {
     "data": {
      "text/plain": [
       "<seaborn.axisgrid.PairGrid at 0x7f95a9dcc1f0>"
      ]
     },
     "execution_count": 78,
     "metadata": {},
     "output_type": "execute_result"
    },
    {
     "data": {
      "image/png": "[encoded data removed]",
      "text/plain": [
       "<Figure size 750x750 with 12 Axes>"
      ]
     },
     "metadata": {},
     "output_type": "display_data"
    }
   ],
   "source": [
    "sns.pairplot(pd.DataFrame(X_train_norm).loc[:, [0, 1, 2]])"
   ]
  },
  {
   "cell_type": "markdown",
   "id": "748cd911-b7cb-4950-84e9-4f15d7fcdc5e",
   "metadata": {},
   "source": [
    "### Tuned Model - V3"
   ]
  },
  {
   "cell_type": "code",
   "execution_count": 79,
   "id": "b40098b8-4b68-4e9f-bfc0-f4574a20d8c3",
   "metadata": {},
   "outputs": [
    {
     "name": "stdout",
     "output_type": "stream",
     "text": [
      "Epoch 1/100\n",
      "34/34 [==============================] - 0s 3ms/step - loss: 13341.3906 - mae: 13341.3906 - mse: 322325088.0000\n",
      "Epoch 2/100\n",
      "34/34 [==============================] - 0s 4ms/step - loss: 13268.7041 - mae: 13268.7041 - mse: 320340544.0000\n",
      "Epoch 3/100\n",
      "34/34 [==============================] - 0s 4ms/step - loss: 12767.3643 - mae: 12767.3643 - mse: 307087744.0000\n",
      "Epoch 4/100\n",
      "34/34 [==============================] - 0s 3ms/step - loss: 10989.2891 - mae: 10989.2891 - mse: 261920896.0000\n",
      "Epoch 5/100\n",
      "34/34 [==============================] - 0s 2ms/step - loss: 8599.2646 - mae: 8599.2646 - mse: 190000656.0000\n",
      "Epoch 6/100\n",
      "34/34 [==============================] - 0s 3ms/step - loss: 7877.8027 - mae: 7877.8027 - mse: 154148640.0000\n",
      "Epoch 7/100\n",
      "34/34 [==============================] - 0s 3ms/step - loss: 7680.3374 - mae: 7680.3374 - mse: 145352544.0000\n",
      "Epoch 8/100\n",
      "34/34 [==============================] - 0s 3ms/step - loss: 7469.5596 - mae: 7469.5596 - mse: 137675088.0000\n",
      "Epoch 9/100\n",
      "34/34 [==============================] - 0s 4ms/step - loss: 7242.8262 - mae: 7242.8262 - mse: 130270160.0000\n",
      "Epoch 10/100\n",
      "34/34 [==============================] - 0s 4ms/step - loss: 6975.2886 - mae: 6975.2886 - mse: 119911344.0000\n",
      "Epoch 11/100\n",
      "34/34 [==============================] - 0s 4ms/step - loss: 6658.7256 - mae: 6658.7256 - mse: 110191616.0000\n",
      "Epoch 12/100\n",
      "34/34 [==============================] - 0s 3ms/step - loss: 6254.1226 - mae: 6254.1226 - mse: 100991336.0000\n",
      "Epoch 13/100\n",
      "34/34 [==============================] - 0s 3ms/step - loss: 5743.8779 - mae: 5743.8779 - mse: 87518200.0000\n",
      "Epoch 14/100\n",
      "34/34 [==============================] - 0s 3ms/step - loss: 5119.5693 - mae: 5119.5693 - mse: 75804608.0000\n",
      "Epoch 15/100\n",
      "34/34 [==============================] - 0s 3ms/step - loss: 4489.6606 - mae: 4489.6606 - mse: 64555080.0000\n",
      "Epoch 16/100\n",
      "34/34 [==============================] - 0s 3ms/step - loss: 4024.2593 - mae: 4024.2593 - mse: 57217828.0000\n",
      "Epoch 17/100\n",
      "34/34 [==============================] - 0s 2ms/step - loss: 3730.0198 - mae: 3730.0198 - mse: 50305544.0000\n",
      "Epoch 18/100\n",
      "34/34 [==============================] - 0s 3ms/step - loss: 3565.4302 - mae: 3565.4302 - mse: 46412704.0000\n",
      "Epoch 19/100\n",
      "34/34 [==============================] - 0s 3ms/step - loss: 3502.7595 - mae: 3502.7595 - mse: 44311020.0000\n",
      "Epoch 20/100\n",
      "34/34 [==============================] - 0s 3ms/step - loss: 3455.0593 - mae: 3455.0593 - mse: 43058032.0000\n",
      "Epoch 21/100\n",
      "34/34 [==============================] - 0s 3ms/step - loss: 3399.8213 - mae: 3399.8213 - mse: 42210292.0000\n",
      "Epoch 22/100\n",
      "34/34 [==============================] - 0s 4ms/step - loss: 3363.3723 - mae: 3363.3723 - mse: 41764960.0000\n",
      "Epoch 23/100\n",
      "34/34 [==============================] - 0s 3ms/step - loss: 3329.5435 - mae: 3329.5435 - mse: 42160348.0000\n",
      "Epoch 24/100\n",
      "34/34 [==============================] - 0s 2ms/step - loss: 3287.6038 - mae: 3287.6038 - mse: 42768732.0000\n",
      "Epoch 25/100\n",
      "34/34 [==============================] - 0s 4ms/step - loss: 3261.6875 - mae: 3261.6875 - mse: 43469632.0000\n",
      "Epoch 26/100\n",
      "34/34 [==============================] - 0s 4ms/step - loss: 3238.7546 - mae: 3238.7546 - mse: 44562664.0000\n",
      "Epoch 27/100\n",
      "34/34 [==============================] - 0s 3ms/step - loss: 3226.4114 - mae: 3226.4114 - mse: 46197760.0000\n",
      "Epoch 28/100\n",
      "34/34 [==============================] - 0s 3ms/step - loss: 3214.0942 - mae: 3214.0942 - mse: 47254640.0000\n",
      "Epoch 29/100\n",
      "34/34 [==============================] - 0s 3ms/step - loss: 3193.7637 - mae: 3193.7637 - mse: 46821780.0000\n",
      "Epoch 30/100\n",
      "34/34 [==============================] - 0s 3ms/step - loss: 3193.7202 - mae: 3193.7202 - mse: 47384348.0000\n",
      "Epoch 31/100\n",
      "34/34 [==============================] - 0s 4ms/step - loss: 3195.5354 - mae: 3195.5354 - mse: 48316228.0000\n",
      "Epoch 32/100\n",
      "34/34 [==============================] - 0s 3ms/step - loss: 3190.6438 - mae: 3190.6438 - mse: 47402960.0000\n",
      "Epoch 33/100\n",
      "34/34 [==============================] - 0s 2ms/step - loss: 3192.4087 - mae: 3192.4087 - mse: 47374292.0000\n",
      "Epoch 34/100\n",
      "34/34 [==============================] - 0s 3ms/step - loss: 3192.2200 - mae: 3192.2200 - mse: 46680620.0000\n",
      "Epoch 35/100\n",
      "34/34 [==============================] - 0s 3ms/step - loss: 3190.2517 - mae: 3190.2517 - mse: 46938036.0000\n",
      "Epoch 36/100\n",
      "34/34 [==============================] - 0s 4ms/step - loss: 3181.5037 - mae: 3181.5037 - mse: 47233880.0000\n",
      "Epoch 37/100\n",
      "34/34 [==============================] - 0s 4ms/step - loss: 3180.3909 - mae: 3180.3909 - mse: 47164168.0000\n",
      "Epoch 38/100\n",
      "34/34 [==============================] - 0s 4ms/step - loss: 3174.5623 - mae: 3174.5623 - mse: 46964056.0000\n",
      "Epoch 39/100\n",
      "34/34 [==============================] - 0s 4ms/step - loss: 3177.7603 - mae: 3177.7603 - mse: 47439580.0000\n",
      "Epoch 40/100\n",
      "34/34 [==============================] - 0s 4ms/step - loss: 3177.3235 - mae: 3177.3235 - mse: 47186848.0000\n",
      "Epoch 41/100\n",
      "34/34 [==============================] - 0s 2ms/step - loss: 3183.4395 - mae: 3183.4395 - mse: 47002740.0000\n",
      "Epoch 42/100\n",
      "34/34 [==============================] - 0s 3ms/step - loss: 3182.0005 - mae: 3182.0005 - mse: 46623512.0000\n",
      "Epoch 43/100\n",
      "34/34 [==============================] - 0s 4ms/step - loss: 3169.8784 - mae: 3169.8784 - mse: 46994160.0000\n",
      "Epoch 44/100\n",
      "34/34 [==============================] - 0s 5ms/step - loss: 3174.4851 - mae: 3174.4851 - mse: 46619892.0000\n",
      "Epoch 45/100\n",
      "34/34 [==============================] - 0s 3ms/step - loss: 3163.6011 - mae: 3163.6011 - mse: 46495636.0000\n",
      "Epoch 46/100\n",
      "34/34 [==============================] - 0s 3ms/step - loss: 3160.5076 - mae: 3160.5076 - mse: 46283464.0000\n",
      "Epoch 47/100\n",
      "34/34 [==============================] - 0s 3ms/step - loss: 3157.9104 - mae: 3157.9104 - mse: 47117068.0000\n",
      "Epoch 48/100\n",
      "34/34 [==============================] - 0s 3ms/step - loss: 3154.6775 - mae: 3154.6775 - mse: 46556784.0000\n",
      "Epoch 49/100\n",
      "34/34 [==============================] - 0s 2ms/step - loss: 3153.1846 - mae: 3153.1846 - mse: 45952260.0000\n",
      "Epoch 50/100\n",
      "34/34 [==============================] - 0s 2ms/step - loss: 3152.5188 - mae: 3152.5188 - mse: 46826584.0000\n",
      "Epoch 51/100\n",
      "34/34 [==============================] - 0s 3ms/step - loss: 3140.2644 - mae: 3140.2644 - mse: 46508948.0000\n",
      "Epoch 52/100\n",
      "34/34 [==============================] - 0s 4ms/step - loss: 3141.5449 - mae: 3141.5449 - mse: 46189908.0000\n",
      "Epoch 53/100\n",
      "34/34 [==============================] - 0s 5ms/step - loss: 3139.6687 - mae: 3139.6687 - mse: 45860896.0000\n",
      "Epoch 54/100\n",
      "34/34 [==============================] - 0s 3ms/step - loss: 3136.7224 - mae: 3136.7224 - mse: 46262748.0000\n",
      "Epoch 55/100\n",
      "34/34 [==============================] - 0s 3ms/step - loss: 3152.1208 - mae: 3152.1208 - mse: 45651636.0000\n",
      "Epoch 56/100\n",
      "34/34 [==============================] - 0s 4ms/step - loss: 3125.0015 - mae: 3125.0015 - mse: 45788948.0000\n",
      "Epoch 57/100\n",
      "34/34 [==============================] - 0s 5ms/step - loss: 3123.6472 - mae: 3123.6472 - mse: 45948864.0000\n",
      "Epoch 58/100\n",
      "34/34 [==============================] - 0s 3ms/step - loss: 3129.5540 - mae: 3129.5540 - mse: 45702668.0000\n",
      "Epoch 59/100\n",
      "34/34 [==============================] - 0s 3ms/step - loss: 3122.1912 - mae: 3122.1912 - mse: 45913048.0000\n",
      "Epoch 60/100\n",
      "34/34 [==============================] - 0s 3ms/step - loss: 3111.3511 - mae: 3111.3511 - mse: 45235620.0000\n",
      "Epoch 61/100\n",
      "34/34 [==============================] - 0s 3ms/step - loss: 3110.5347 - mae: 3110.5347 - mse: 45552648.0000\n",
      "Epoch 62/100\n",
      "34/34 [==============================] - 0s 4ms/step - loss: 3113.8225 - mae: 3113.8225 - mse: 45061844.0000\n",
      "Epoch 63/100\n",
      "34/34 [==============================] - 0s 3ms/step - loss: 3100.4907 - mae: 3100.4907 - mse: 44858820.0000\n",
      "Epoch 64/100\n",
      "34/34 [==============================] - 0s 3ms/step - loss: 3092.9949 - mae: 3092.9949 - mse: 44828056.0000\n",
      "Epoch 65/100\n",
      "34/34 [==============================] - 0s 3ms/step - loss: 3090.1560 - mae: 3090.1560 - mse: 44864332.0000\n",
      "Epoch 66/100\n",
      "34/34 [==============================] - 0s 3ms/step - loss: 3091.2021 - mae: 3091.2021 - mse: 44562184.0000\n",
      "Epoch 67/100\n",
      "34/34 [==============================] - 0s 2ms/step - loss: 3078.6079 - mae: 3078.6079 - mse: 44675920.0000\n",
      "Epoch 68/100\n",
      "34/34 [==============================] - 0s 4ms/step - loss: 3075.5796 - mae: 3075.5796 - mse: 44469360.0000\n",
      "Epoch 69/100\n",
      "34/34 [==============================] - 0s 3ms/step - loss: 3071.3735 - mae: 3071.3735 - mse: 44460392.0000\n",
      "Epoch 70/100\n",
      "34/34 [==============================] - 0s 4ms/step - loss: 3069.4668 - mae: 3069.4668 - mse: 44185044.0000\n",
      "Epoch 71/100\n",
      "34/34 [==============================] - 0s 4ms/step - loss: 3064.4023 - mae: 3064.4023 - mse: 44197052.0000\n",
      "Epoch 72/100\n",
      "34/34 [==============================] - 0s 3ms/step - loss: 3054.5552 - mae: 3054.5552 - mse: 43416980.0000\n",
      "Epoch 73/100\n",
      "34/34 [==============================] - 0s 4ms/step - loss: 3050.5298 - mae: 3050.5298 - mse: 44056264.0000\n",
      "Epoch 74/100\n",
      "34/34 [==============================] - 0s 4ms/step - loss: 3042.0229 - mae: 3042.0229 - mse: 43381716.0000\n",
      "Epoch 75/100\n",
      "34/34 [==============================] - 0s 3ms/step - loss: 3037.9995 - mae: 3037.9995 - mse: 43415844.0000\n",
      "Epoch 76/100\n",
      "34/34 [==============================] - 0s 3ms/step - loss: 3033.9158 - mae: 3033.9158 - mse: 42818588.0000\n",
      "Epoch 77/100\n",
      "34/34 [==============================] - 0s 4ms/step - loss: 3027.2112 - mae: 3027.2112 - mse: 43026896.0000\n",
      "Epoch 78/100\n",
      "34/34 [==============================] - 0s 3ms/step - loss: 3022.0198 - mae: 3022.0198 - mse: 42418240.0000\n",
      "Epoch 79/100\n",
      "34/34 [==============================] - 0s 3ms/step - loss: 3019.3591 - mae: 3019.3591 - mse: 42435988.0000\n",
      "Epoch 80/100\n",
      "34/34 [==============================] - 0s 3ms/step - loss: 3014.0564 - mae: 3014.0564 - mse: 42700564.0000\n",
      "Epoch 81/100\n",
      "34/34 [==============================] - 0s 3ms/step - loss: 3019.8738 - mae: 3019.8738 - mse: 42416780.0000\n",
      "Epoch 82/100\n",
      "34/34 [==============================] - 0s 4ms/step - loss: 3005.1328 - mae: 3005.1328 - mse: 42761168.0000\n",
      "Epoch 83/100\n",
      "34/34 [==============================] - 0s 4ms/step - loss: 2988.5186 - mae: 2988.5186 - mse: 41628708.0000\n",
      "Epoch 84/100\n",
      "34/34 [==============================] - 0s 2ms/step - loss: 2982.7539 - mae: 2982.7539 - mse: 41832084.0000\n",
      "Epoch 85/100\n",
      "34/34 [==============================] - 0s 4ms/step - loss: 2985.3469 - mae: 2985.3469 - mse: 41242800.0000\n",
      "Epoch 86/100\n",
      "34/34 [==============================] - 0s 3ms/step - loss: 2969.6255 - mae: 2969.6255 - mse: 41465360.0000\n",
      "Epoch 87/100\n",
      "34/34 [==============================] - 0s 3ms/step - loss: 2963.5474 - mae: 2963.5474 - mse: 40925644.0000\n",
      "Epoch 88/100\n",
      "34/34 [==============================] - 0s 3ms/step - loss: 2954.1284 - mae: 2954.1284 - mse: 40972176.0000\n",
      "Epoch 89/100\n",
      "34/34 [==============================] - 0s 2ms/step - loss: 2949.5576 - mae: 2949.5576 - mse: 40677340.0000\n",
      "Epoch 90/100\n",
      "34/34 [==============================] - 0s 4ms/step - loss: 2943.3000 - mae: 2943.3000 - mse: 40542712.0000\n",
      "Epoch 91/100\n",
      "34/34 [==============================] - 0s 4ms/step - loss: 2931.5432 - mae: 2931.5432 - mse: 40424236.0000\n",
      "Epoch 92/100\n",
      "34/34 [==============================] - 0s 3ms/step - loss: 2928.3923 - mae: 2928.3923 - mse: 39929016.0000\n",
      "Epoch 93/100\n",
      "34/34 [==============================] - 0s 3ms/step - loss: 2913.1035 - mae: 2913.1035 - mse: 39773576.0000\n",
      "Epoch 94/100\n",
      "34/34 [==============================] - 0s 3ms/step - loss: 2909.0010 - mae: 2909.0010 - mse: 40198460.0000\n",
      "Epoch 95/100\n",
      "34/34 [==============================] - 0s 4ms/step - loss: 2905.6162 - mae: 2905.6162 - mse: 39620188.0000\n",
      "Epoch 96/100\n",
      "34/34 [==============================] - 0s 3ms/step - loss: 2901.8484 - mae: 2901.8484 - mse: 39710784.0000\n",
      "Epoch 97/100\n",
      "34/34 [==============================] - 0s 3ms/step - loss: 2887.1494 - mae: 2887.1494 - mse: 38886832.0000\n",
      "Epoch 98/100\n",
      "34/34 [==============================] - 0s 3ms/step - loss: 2880.4341 - mae: 2880.4341 - mse: 38620528.0000\n",
      "Epoch 99/100\n",
      "34/34 [==============================] - 0s 4ms/step - loss: 2870.5344 - mae: 2870.5344 - mse: 38748584.0000\n",
      "Epoch 100/100\n",
      "34/34 [==============================] - 0s 3ms/step - loss: 2854.9924 - mae: 2854.9924 - mse: 38709888.0000\n"
     ]
    }
   ],
   "source": [
    "tf.random.set_seed(42)\n",
    "\n",
    "# Create a Base Model\n",
    "ins_v3_model = keras.models.Sequential([\n",
    "    keras.layers.Dense(128, activation='relu'),\n",
    "    keras.layers.Dense(256, activation='relu'),\n",
    "    keras.layers.Dense(10),\n",
    "    keras.layers.Dense(1)\n",
    "])\n",
    "\n",
    "# Compile\n",
    "ins_v3_model.compile(\n",
    "    loss=keras.losses.mae, \n",
    "    optimizer=keras.optimizers.Adam(),\n",
    "    metrics=['mae', 'mse']\n",
    ")\n",
    "\n",
    "# Fit\n",
    "history = ins_v3_model.fit(X_train_norm, y_train, epochs=100)"
   ]
  },
  {
   "cell_type": "code",
   "execution_count": 80,
   "id": "79281b14-f85e-4b3c-99aa-254ebf593cc5",
   "metadata": {},
   "outputs": [
    {
     "name": "stdout",
     "output_type": "stream",
     "text": [
      "9/9 [==============================] - 0s 1ms/step - loss: 2697.0791 - mae: 2697.0791 - mse: 36853084.0000\n"
     ]
    },
    {
     "data": {
      "text/plain": [
       "[2697.0791015625, 2697.0791015625, 36853084.0]"
      ]
     },
     "execution_count": 80,
     "metadata": {},
     "output_type": "execute_result"
    }
   ],
   "source": [
    "ins_v3_model.evaluate(X_test_norm, y_test)"
   ]
  },
  {
   "cell_type": "code",
   "execution_count": 84,
   "id": "9022fb5a-8654-46c5-b819-a4b2171e31b2",
   "metadata": {},
   "outputs": [
    {
     "data": {
      "image/png": "[encoded data removed]",
      "text/plain": [
       "<Figure size 640x480 with 1 Axes>"
      ]
     },
     "metadata": {},
     "output_type": "display_data"
    }
   ],
   "source": [
    "plot_history(history, 'mae')"
   ]
  },
  {
   "cell_type": "markdown",
   "id": "4adcff80-8825-4fd0-bd7f-4d842e2378aa",
   "metadata": {},
   "source": [
    "### Tuned Model - V4"
   ]
  },
  {
   "cell_type": "code",
   "execution_count": 91,
   "id": "8b01c1fe-4ebe-4978-af1d-97ce17dc0fe5",
   "metadata": {},
   "outputs": [],
   "source": [
    "tf.random.set_seed(42)\n",
    "\n",
    "# Create a Base Model\n",
    "ins_v4_model = keras.models.Sequential([\n",
    "    keras.layers.Dense(128, activation='relu'),\n",
    "    keras.layers.Dense(256, activation='relu'),\n",
    "    keras.layers.Dense(512, activation='relu'),\n",
    "    keras.layers.Dense(256, activation='relu'),\n",
    "    keras.layers.Dense(128, activation='relu'),\n",
    "    keras.layers.Dense(1)\n",
    "])\n",
    "\n",
    "# Compile\n",
    "ins_v4_model.compile(\n",
    "    loss=keras.losses.mae, \n",
    "    optimizer=keras.optimizers.Adam(),\n",
    "    metrics=['mae', 'mse']\n",
    ")\n",
    "\n",
    "# Fit\n",
    "history = ins_v4_model.fit(X_train_norm, y_train, epochs=500, verbose=0, workers=6)"
   ]
  },
  {
   "cell_type": "code",
   "execution_count": 92,
   "id": "1eaea238-92b9-4241-a5b6-a43c5407a787",
   "metadata": {},
   "outputs": [
    {
     "name": "stdout",
     "output_type": "stream",
     "text": [
      "9/9 [==============================] - 0s 5ms/step - loss: 1449.3000 - mae: 1449.3000 - mse: 19833212.0000\n"
     ]
    },
    {
     "data": {
      "text/plain": [
       "[1449.300048828125, 1449.300048828125, 19833212.0]"
      ]
     },
     "execution_count": 92,
     "metadata": {},
     "output_type": "execute_result"
    }
   ],
   "source": [
    "ins_v4_model.evaluate(X_test_norm, y_test)"
   ]
  },
  {
   "cell_type": "code",
   "execution_count": 93,
   "id": "45dfb11c-d306-4792-aeda-13460a11c438",
   "metadata": {},
   "outputs": [
    {
     "data": {
      "image/png": "[encoded data removed]",
      "text/plain": [
       "<Figure size 640x480 with 1 Axes>"
      ]
     },
     "metadata": {},
     "output_type": "display_data"
    }
   ],
   "source": [
    "plot_history(history, 'mae')"
   ]
  },
  {
   "cell_type": "markdown",
   "id": "158fe22a-84ff-4593-8d87-fc43c455a141",
   "metadata": {},
   "source": [
    "### Linear Regression using Scikit Learn"
   ]
  },
  {
   "cell_type": "code",
   "execution_count": 94,
   "id": "d3400cb2-8c69-436b-a89a-e8d0eba47f2a",
   "metadata": {},
   "outputs": [],
   "source": [
    "from sklearn.linear_model import LinearRegression\n",
    "from sklearn.metrics import mean_absolute_error, mean_squared_error"
   ]
  },
  {
   "cell_type": "code",
   "execution_count": 95,
   "id": "b231a684-b5c8-44b9-8c8f-17ff1cd26149",
   "metadata": {},
   "outputs": [
    {
     "data": {
      "text/html": [
       "<style>#sk-container-id-1 {color: black;background-color: white;}#sk-container-id-1 pre{padding: 0;}#sk-container-id-1 div.sk-toggleable {background-color: white;}#sk-container-id-1 label.sk-toggleable__label {cursor: pointer;display: block;width: 100%;margin-bottom: 0;padding: 0.3em;box-sizing: border-box;text-align: center;}#sk-container-id-1 label.sk-toggleable__label-arrow:before {content: \"▸\";float: left;margin-right: 0.25em;color: #696969;}#sk-container-id-1 label.sk-toggleable__label-arrow:hover:before {color: black;}#sk-container-id-1 div.sk-estimator:hover label.sk-toggleable__label-arrow:before {color: black;}#sk-container-id-1 div.sk-toggleable__content {max-height: 0;max-width: 0;overflow: hidden;text-align: left;background-color: #f0f8ff;}#sk-container-id-1 div.sk-toggleable__content pre {margin: 0.2em;color: black;border-radius: 0.25em;background-color: #f0f8ff;}#sk-container-id-1 input.sk-toggleable__control:checked~div.sk-toggleable__content {max-height: 200px;max-width: 100%;overflow: auto;}#sk-container-id-1 input.sk-toggleable__control:checked~label.sk-toggleable__label-arrow:before {content: \"▾\";}#sk-container-id-1 div.sk-estimator input.sk-toggleable__control:checked~label.sk-toggleable__label {background-color: #d4ebff;}#sk-container-id-1 div.sk-label input.sk-toggleable__control:checked~label.sk-toggleable__label {background-color: #d4ebff;}#sk-container-id-1 input.sk-hidden--visually {border: 0;clip: rect(1px 1px 1px 1px);clip: rect(1px, 1px, 1px, 1px);height: 1px;margin: -1px;overflow: hidden;padding: 0;position: absolute;width: 1px;}#sk-container-id-1 div.sk-estimator {font-family: monospace;background-color: #f0f8ff;border: 1px dotted black;border-radius: 0.25em;box-sizing: border-box;margin-bottom: 0.5em;}#sk-container-id-1 div.sk-estimator:hover {background-color: #d4ebff;}#sk-container-id-1 div.sk-parallel-item::after {content: \"\";width: 100%;border-bottom: 1px solid gray;flex-grow: 1;}#sk-container-id-1 div.sk-label:hover label.sk-toggleable__label {background-color: #d4ebff;}#sk-container-id-1 div.sk-serial::before {content: \"\";position: absolute;border-left: 1px solid gray;box-sizing: border-box;top: 0;bottom: 0;left: 50%;z-index: 0;}#sk-container-id-1 div.sk-serial {display: flex;flex-direction: column;align-items: center;background-color: white;padding-right: 0.2em;padding-left: 0.2em;position: relative;}#sk-container-id-1 div.sk-item {position: relative;z-index: 1;}#sk-container-id-1 div.sk-parallel {display: flex;align-items: stretch;justify-content: center;background-color: white;position: relative;}#sk-container-id-1 div.sk-item::before, #sk-container-id-1 div.sk-parallel-item::before {content: \"\";position: absolute;border-left: 1px solid gray;box-sizing: border-box;top: 0;bottom: 0;left: 50%;z-index: -1;}#sk-container-id-1 div.sk-parallel-item {display: flex;flex-direction: column;z-index: 1;position: relative;background-color: white;}#sk-container-id-1 div.sk-parallel-item:first-child::after {align-self: flex-end;width: 50%;}#sk-container-id-1 div.sk-parallel-item:last-child::after {align-self: flex-start;width: 50%;}#sk-container-id-1 div.sk-parallel-item:only-child::after {width: 0;}#sk-container-id-1 div.sk-dashed-wrapped {border: 1px dashed gray;margin: 0 0.4em 0.5em 0.4em;box-sizing: border-box;padding-bottom: 0.4em;background-color: white;}#sk-container-id-1 div.sk-label label {font-family: monospace;font-weight: bold;display: inline-block;line-height: 1.2em;}#sk-container-id-1 div.sk-label-container {text-align: center;}#sk-container-id-1 div.sk-container {/* jupyter's `normalize.less` sets `[hidden] { display: none; }` but bootstrap.min.css set `[hidden] { display: none !important; }` so we also need the `!important` here to be able to override the default hidden behavior on the sphinx rendered scikit-learn.org. See: https://github.com/scikit-learn/scikit-learn/issues/21755 */display: inline-block !important;position: relative;}#sk-container-id-1 div.sk-text-repr-fallback {display: none;}</style><div id=\"sk-container-id-1\" class=\"sk-top-container\"><div class=\"sk-text-repr-fallback\"><pre>LinearRegression()</pre><b>In a Jupyter environment, please rerun this cell to show the HTML representation or trust the notebook. <br />On GitHub, the HTML representation is unable to render, please try loading this page with nbviewer.org.</b></div><div class=\"sk-container\" hidden><div class=\"sk-item\"><div class=\"sk-estimator sk-toggleable\"><input class=\"sk-toggleable__control sk-hidden--visually\" id=\"sk-estimator-id-1\" type=\"checkbox\" checked><label for=\"sk-estimator-id-1\" class=\"sk-toggleable__label sk-toggleable__label-arrow\">LinearRegression</label><div class=\"sk-toggleable__content\"><pre>LinearRegression()</pre></div></div></div></div></div>"
      ],
      "text/plain": [
       "LinearRegression()"
      ]
     },
     "execution_count": 95,
     "metadata": {},
     "output_type": "execute_result"
    }
   ],
   "source": [
    "linear_reg = LinearRegression()\n",
    "linear_reg.fit(X_train_norm, y_train)"
   ]
  },
  {
   "cell_type": "code",
   "execution_count": 96,
   "id": "eefbeaed-e7ab-4ec3-baa6-37042c2bba9f",
   "metadata": {},
   "outputs": [
    {
     "data": {
      "text/plain": [
       "(array([ 1.18208825e+04,  1.25297302e+04,  2.12639392e+03,  9.29584582e+00,\n",
       "        -9.29584582e+00, -1.18255644e+04,  1.18255644e+04,  4.59585244e+02,\n",
       "         8.89079180e+01, -1.98279052e+02, -3.50214110e+02]),\n",
       " 9431.024121553723)"
      ]
     },
     "execution_count": 96,
     "metadata": {},
     "output_type": "execute_result"
    }
   ],
   "source": [
    "linear_reg.coef_, linear_reg.intercept_"
   ]
  },
  {
   "cell_type": "code",
   "execution_count": 97,
   "id": "3c646f61-610d-442c-a709-1123fe4d8c32",
   "metadata": {},
   "outputs": [],
   "source": [
    "y_preds = linear_reg.predict(X_test_norm)"
   ]
  },
  {
   "cell_type": "code",
   "execution_count": 98,
   "id": "661cebc2-63d4-4e27-a8ba-9e8786d015d2",
   "metadata": {},
   "outputs": [
    {
     "data": {
      "text/plain": [
       "(4181.194473753648, 33596915.851361476)"
      ]
     },
     "execution_count": 98,
     "metadata": {},
     "output_type": "execute_result"
    }
   ],
   "source": [
    "mean_absolute_error(y_test, y_preds), mean_squared_error(y_test, y_preds)"
   ]
  },
  {
   "cell_type": "code",
   "execution_count": null,
   "id": "8dc0d8cf-97ef-4e90-a989-a661e83b1af8",
   "metadata": {},
   "outputs": [],
   "source": []
  }
 ],
 "metadata": {
  "kernelspec": {
   "display_name": "Python 3 (ipykernel)",
   "language": "python",
   "name": "python3"
  },
  "language_info": {
   "codemirror_mode": {
    "name": "ipython",
    "version": 3
   },
   "file_extension": ".py",
   "mimetype": "text/x-python",
   "name": "python",
   "nbconvert_exporter": "python",
   "pygments_lexer": "ipython3",
   "version": "3.9.13"
  }
 },
 "nbformat": 4,
 "nbformat_minor": 5
}
