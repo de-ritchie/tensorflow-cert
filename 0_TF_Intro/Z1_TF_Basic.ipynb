{
 "cells": [
  {
   "cell_type": "markdown",
   "id": "b9ccb317-f255-4b21-92f0-ab0df5ef3829",
   "metadata": {},
   "source": [
    "# Import Libraries"
   ]
  },
  {
   "cell_type": "code",
   "execution_count": 1,
   "id": "7a973f90-0721-44ed-b339-bca492bfbd80",
   "metadata": {},
   "outputs": [
    {
     "name": "stderr",
     "output_type": "stream",
     "text": [
      "2023-06-23 18:33:18.109539: I tensorflow/tsl/cuda/cudart_stub.cc:28] Could not find cuda drivers on your machine, GPU will not be used.\n",
      "2023-06-23 18:33:18.164177: I tensorflow/tsl/cuda/cudart_stub.cc:28] Could not find cuda drivers on your machine, GPU will not be used.\n",
      "2023-06-23 18:33:18.165156: I tensorflow/core/platform/cpu_feature_guard.cc:182] This TensorFlow binary is optimized to use available CPU instructions in performance-critical operations.\n",
      "To enable the following instructions: AVX2 FMA, in other operations, rebuild TensorFlow with the appropriate compiler flags.\n",
      "2023-06-23 18:33:19.169017: W tensorflow/compiler/tf2tensorrt/utils/py_utils.cc:38] TF-TRT Warning: Could not find TensorRT\n"
     ]
    }
   ],
   "source": [
    "import time\n",
    "import random\n",
    "\n",
    "import numpy as np\n",
    "import pandas as pd\n",
    "import matplotlib.pyplot as plt\n",
    "\n",
    "import tensorflow as tf\n",
    "from tensorflow import keras"
   ]
  },
  {
   "cell_type": "markdown",
   "id": "194fa1e0-45b4-4188-b16a-bbd8bfcb635d",
   "metadata": {},
   "source": [
    "# TensorFlow basics"
   ]
  },
  {
   "cell_type": "markdown",
   "id": "7510cac1-6f72-4baa-9b34-ea7a066ff668",
   "metadata": {},
   "source": [
    "## Constants"
   ]
  },
  {
   "cell_type": "markdown",
   "id": "d6eb8223-afd0-4284-9554-0dc5d31b5765",
   "metadata": {},
   "source": [
    "### Scalar"
   ]
  },
  {
   "cell_type": "code",
   "execution_count": 2,
   "id": "daad1066-8894-496d-b6da-750bf8854df2",
   "metadata": {},
   "outputs": [
    {
     "data": {
      "text/plain": [
       "<tf.Tensor: shape=(), dtype=int32, numpy=7>"
      ]
     },
     "execution_count": 2,
     "metadata": {},
     "output_type": "execute_result"
    }
   ],
   "source": [
    "t1 = tf.constant(7)\n",
    "t1"
   ]
  },
  {
   "cell_type": "code",
   "execution_count": 3,
   "id": "35154b19-3665-451d-870d-02c45e3c04ff",
   "metadata": {},
   "outputs": [
    {
     "data": {
      "text/plain": [
       "(TensorShape([]), 0)"
      ]
     },
     "execution_count": 3,
     "metadata": {},
     "output_type": "execute_result"
    }
   ],
   "source": [
    "t1.shape, t1.ndim"
   ]
  },
  {
   "cell_type": "markdown",
   "id": "43d99c69-93ce-42f3-87f2-1b0f199e33b0",
   "metadata": {},
   "source": [
    "### Vector"
   ]
  },
  {
   "cell_type": "code",
   "execution_count": 4,
   "id": "37d75c44-e4de-4c7c-99df-3e1533c35170",
   "metadata": {},
   "outputs": [],
   "source": [
    "t2 = tf.constant([1, 2])"
   ]
  },
  {
   "cell_type": "code",
   "execution_count": 5,
   "id": "a062682b-58cc-48a6-a878-8bcafb1190d7",
   "metadata": {},
   "outputs": [
    {
     "data": {
      "text/plain": [
       "(TensorShape([2]), 1)"
      ]
     },
     "execution_count": 5,
     "metadata": {},
     "output_type": "execute_result"
    }
   ],
   "source": [
    "t2.shape, t2.ndim"
   ]
  },
  {
   "cell_type": "markdown",
   "id": "e7dbf6a2-079c-4cbd-80a8-085448f7909b",
   "metadata": {},
   "source": [
    "### Matrix"
   ]
  },
  {
   "cell_type": "code",
   "execution_count": 6,
   "id": "8c1a5771-59c6-4006-a636-d4800535ccf8",
   "metadata": {},
   "outputs": [],
   "source": [
    "t3 = tf.constant([\n",
    "    [10, 7],\n",
    "    [7, 10]\n",
    "])"
   ]
  },
  {
   "cell_type": "code",
   "execution_count": 7,
   "id": "2d8fbfd2-23cf-4584-b5d2-ad6e4d2b7b66",
   "metadata": {},
   "outputs": [
    {
     "data": {
      "text/plain": [
       "(TensorShape([2, 2]), 2)"
      ]
     },
     "execution_count": 7,
     "metadata": {},
     "output_type": "execute_result"
    }
   ],
   "source": [
    "t3.shape, t3.ndim"
   ]
  },
  {
   "cell_type": "markdown",
   "id": "d8f7f492-cf2d-4eef-9383-8a292bbfc905",
   "metadata": {},
   "source": [
    "### Tensor"
   ]
  },
  {
   "cell_type": "code",
   "execution_count": 8,
   "id": "4cd8df60-5086-4872-a7bb-bfe776accd42",
   "metadata": {},
   "outputs": [],
   "source": [
    "t4 = tf.constant([\n",
    "    [\n",
    "        [1, 2, 3],\n",
    "        [4, 5, 6]\n",
    "    ],\n",
    "    [\n",
    "        [9, 8, 7],\n",
    "        [6, 5, 4]\n",
    "    ],\n",
    "    [\n",
    "        [9, 8, 7],\n",
    "        [6, 5, 4]\n",
    "    ]\n",
    "])"
   ]
  },
  {
   "cell_type": "code",
   "execution_count": 9,
   "id": "341fbd84-6cd5-404a-9918-b54d839c4238",
   "metadata": {},
   "outputs": [
    {
     "data": {
      "text/plain": [
       "(TensorShape([3, 2, 3]), 3)"
      ]
     },
     "execution_count": 9,
     "metadata": {},
     "output_type": "execute_result"
    }
   ],
   "source": [
    "t4.shape, t4.ndim"
   ]
  },
  {
   "cell_type": "markdown",
   "id": "dce64225-4fcd-48de-8e72-5f0cffb43bd5",
   "metadata": {},
   "source": [
    "### Summary\n",
    "\n",
    "- Scalar - is a single number\n",
    "- Vector - is a number with direction\n",
    "- Matrix - is a 2D array of numnbers\n",
    "- Tensor - is a n-dimensional array of numbers (where n is >= 0)"
   ]
  },
  {
   "cell_type": "markdown",
   "id": "2716c2d8-eef6-4ef9-a2be-5319c1993338",
   "metadata": {},
   "source": [
    "## Variable"
   ]
  },
  {
   "cell_type": "code",
   "execution_count": 10,
   "id": "b6ce8abc-1207-4cb7-80be-b50927a186ef",
   "metadata": {},
   "outputs": [
    {
     "data": {
      "text/plain": [
       "(<tf.Variable 'Variable:0' shape=() dtype=int32, numpy=10>, TensorShape([]))"
      ]
     },
     "execution_count": 10,
     "metadata": {},
     "output_type": "execute_result"
    }
   ],
   "source": [
    "v1 = tf.Variable(10)\n",
    "v1, v1.shape"
   ]
  },
  {
   "cell_type": "code",
   "execution_count": 11,
   "id": "146323e0-0e8e-4a93-ab65-0bf0ad01b695",
   "metadata": {},
   "outputs": [
    {
     "data": {
      "text/plain": [
       "(<tf.Variable 'Variable:0' shape=(2,) dtype=int32, numpy=array([10,  7], dtype=int32)>,\n",
       " TensorShape([2]))"
      ]
     },
     "execution_count": 11,
     "metadata": {},
     "output_type": "execute_result"
    }
   ],
   "source": [
    "v2 = tf.Variable([10, 7])\n",
    "v2, v2.shape"
   ]
  },
  {
   "cell_type": "code",
   "execution_count": 12,
   "id": "5f2bc0bc-fa45-4db1-bb3c-07cfbad768b3",
   "metadata": {},
   "outputs": [
    {
     "data": {
      "text/plain": [
       "(<tf.Tensor: shape=(2,), dtype=int32, numpy=array([1, 2], dtype=int32)>,\n",
       " <tf.Variable 'Variable:0' shape=(2,) dtype=int32, numpy=array([10,  7], dtype=int32)>)"
      ]
     },
     "execution_count": 12,
     "metadata": {},
     "output_type": "execute_result"
    }
   ],
   "source": [
    "t2, v2"
   ]
  },
  {
   "cell_type": "markdown",
   "id": "e2c78a2a-1dad-4538-b2a4-09c00654abf2",
   "metadata": {},
   "source": [
    "### Updating Value in Constant vs Variable"
   ]
  },
  {
   "cell_type": "code",
   "execution_count": 13,
   "id": "28e9fcdd-1369-417e-ae2b-6381a9dadc99",
   "metadata": {},
   "outputs": [
    {
     "ename": "AttributeError",
     "evalue": "'tensorflow.python.framework.ops.EagerTensor' object has no attribute 'assign'",
     "output_type": "error",
     "traceback": [
      "\u001b[0;31m---------------------------------------------------------------------------\u001b[0m",
      "\u001b[0;31mAttributeError\u001b[0m                            Traceback (most recent call last)",
      "Cell \u001b[0;32mIn[13], line 1\u001b[0m\n\u001b[0;32m----> 1\u001b[0m \u001b[43mt2\u001b[49m\u001b[43m[\u001b[49m\u001b[38;5;241;43m0\u001b[39;49m\u001b[43m]\u001b[49m\u001b[38;5;241;43m.\u001b[39;49m\u001b[43massign\u001b[49m(\u001b[38;5;241m7\u001b[39m)\n",
      "File \u001b[0;32m/opt/conda/lib/python3.11/site-packages/tensorflow/python/framework/ops.py:443\u001b[0m, in \u001b[0;36mTensor.__getattr__\u001b[0;34m(self, name)\u001b[0m\n\u001b[1;32m    434\u001b[0m \u001b[38;5;28;01mif\u001b[39;00m name \u001b[38;5;129;01min\u001b[39;00m {\u001b[38;5;124m\"\u001b[39m\u001b[38;5;124mT\u001b[39m\u001b[38;5;124m\"\u001b[39m, \u001b[38;5;124m\"\u001b[39m\u001b[38;5;124mastype\u001b[39m\u001b[38;5;124m\"\u001b[39m, \u001b[38;5;124m\"\u001b[39m\u001b[38;5;124mravel\u001b[39m\u001b[38;5;124m\"\u001b[39m, \u001b[38;5;124m\"\u001b[39m\u001b[38;5;124mtranspose\u001b[39m\u001b[38;5;124m\"\u001b[39m, \u001b[38;5;124m\"\u001b[39m\u001b[38;5;124mreshape\u001b[39m\u001b[38;5;124m\"\u001b[39m, \u001b[38;5;124m\"\u001b[39m\u001b[38;5;124mclip\u001b[39m\u001b[38;5;124m\"\u001b[39m, \u001b[38;5;124m\"\u001b[39m\u001b[38;5;124msize\u001b[39m\u001b[38;5;124m\"\u001b[39m,\n\u001b[1;32m    435\u001b[0m             \u001b[38;5;124m\"\u001b[39m\u001b[38;5;124mtolist\u001b[39m\u001b[38;5;124m\"\u001b[39m, \u001b[38;5;124m\"\u001b[39m\u001b[38;5;124mdata\u001b[39m\u001b[38;5;124m\"\u001b[39m}:\n\u001b[1;32m    436\u001b[0m   \u001b[38;5;66;03m# TODO(wangpeng): Export the enable_numpy_behavior knob\u001b[39;00m\n\u001b[1;32m    437\u001b[0m   \u001b[38;5;28;01mraise\u001b[39;00m \u001b[38;5;167;01mAttributeError\u001b[39;00m(\n\u001b[1;32m    438\u001b[0m       \u001b[38;5;124mf\u001b[39m\u001b[38;5;124m\"\u001b[39m\u001b[38;5;132;01m{\u001b[39;00m\u001b[38;5;28mtype\u001b[39m(\u001b[38;5;28mself\u001b[39m)\u001b[38;5;241m.\u001b[39m\u001b[38;5;18m__name__\u001b[39m\u001b[38;5;132;01m}\u001b[39;00m\u001b[38;5;124m object has no attribute \u001b[39m\u001b[38;5;124m'\u001b[39m\u001b[38;5;132;01m{\u001b[39;00mname\u001b[38;5;132;01m}\u001b[39;00m\u001b[38;5;124m'\u001b[39m\u001b[38;5;124m. \u001b[39m\u001b[38;5;124m\"\u001b[39m \u001b[38;5;241m+\u001b[39m \u001b[38;5;124m\"\"\"\u001b[39m\n\u001b[1;32m    439\u001b[0m \u001b[38;5;124m    If you are looking for numpy-related methods, please run the following:\u001b[39m\n\u001b[1;32m    440\u001b[0m \u001b[38;5;124m    from tensorflow.python.ops.numpy_ops import np_config\u001b[39m\n\u001b[1;32m    441\u001b[0m \u001b[38;5;124m    np_config.enable_numpy_behavior()\u001b[39m\n\u001b[1;32m    442\u001b[0m \u001b[38;5;124m  \u001b[39m\u001b[38;5;124m\"\"\"\u001b[39m)\n\u001b[0;32m--> 443\u001b[0m \u001b[38;5;28;43mself\u001b[39;49m\u001b[38;5;241;43m.\u001b[39;49m\u001b[38;5;21;43m__getattribute__\u001b[39;49m\u001b[43m(\u001b[49m\u001b[43mname\u001b[49m\u001b[43m)\u001b[49m\n",
      "\u001b[0;31mAttributeError\u001b[0m: 'tensorflow.python.framework.ops.EagerTensor' object has no attribute 'assign'"
     ]
    }
   ],
   "source": [
    "t2[0].assign(7)"
   ]
  },
  {
   "cell_type": "code",
   "execution_count": 14,
   "id": "52945735-9b09-4945-abf8-31ac71f99aab",
   "metadata": {},
   "outputs": [
    {
     "data": {
      "text/plain": [
       "<tf.Variable 'Variable:0' shape=(2,) dtype=int32, numpy=array([7, 7], dtype=int32)>"
      ]
     },
     "execution_count": 14,
     "metadata": {},
     "output_type": "execute_result"
    }
   ],
   "source": [
    "v2[0].assign(7)\n",
    "v2"
   ]
  },
  {
   "cell_type": "markdown",
   "id": "73dde8f4-6df5-4d40-a2f3-ae253a2c7b61",
   "metadata": {},
   "source": [
    "## Random"
   ]
  },
  {
   "cell_type": "markdown",
   "id": "233c44e9-8ea0-4cd0-83c3-8e0e8852b5a4",
   "metadata": {},
   "source": [
    "### Set seed for reproducibility"
   ]
  },
  {
   "cell_type": "code",
   "execution_count": 15,
   "id": "240cdfff-ce8e-46e5-b2de-f064163a4d97",
   "metadata": {},
   "outputs": [
    {
     "data": {
      "text/plain": [
       "<tensorflow.python.ops.stateful_random_ops.Generator at 0x7ffaa7345ed0>"
      ]
     },
     "execution_count": 15,
     "metadata": {},
     "output_type": "execute_result"
    }
   ],
   "source": [
    "r1 = tf.random.Generator.from_seed(42)\n",
    "r1"
   ]
  },
  {
   "cell_type": "markdown",
   "id": "c635e21c-1b42-4207-ba5c-1ff94cd83ace",
   "metadata": {},
   "source": [
    "### Normal Distribution"
   ]
  },
  {
   "cell_type": "code",
   "execution_count": 16,
   "id": "718b5951-4ce4-490f-bc71-9e2f8127c40b",
   "metadata": {},
   "outputs": [
    {
     "data": {
      "text/plain": [
       "<tf.Tensor: shape=(3, 2), dtype=float32, numpy=\n",
       "array([[-0.7565803 , -0.06854702],\n",
       "       [ 0.07595026, -1.2573844 ],\n",
       "       [-0.23193763, -1.8107855 ]], dtype=float32)>"
      ]
     },
     "execution_count": 16,
     "metadata": {},
     "output_type": "execute_result"
    }
   ],
   "source": [
    "r1 = r1.normal(shape=(3,2))\n",
    "r1"
   ]
  },
  {
   "cell_type": "markdown",
   "id": "fed45f5d-26b6-4e1d-947a-8c6946698a5a",
   "metadata": {},
   "source": [
    "### Uniform Distribution"
   ]
  },
  {
   "cell_type": "code",
   "execution_count": 17,
   "id": "73854cad-babb-4b41-bc99-6f3a985bfdd9",
   "metadata": {},
   "outputs": [
    {
     "data": {
      "text/plain": [
       "<tf.Tensor: shape=(3, 2), dtype=float32, numpy=\n",
       "array([[0.97221875, 0.96958077],\n",
       "       [0.7443274 , 0.65274394],\n",
       "       [0.38763416, 0.19084394]], dtype=float32)>"
      ]
     },
     "execution_count": 17,
     "metadata": {},
     "output_type": "execute_result"
    }
   ],
   "source": [
    "tf.random.uniform((3, 2))"
   ]
  },
  {
   "cell_type": "markdown",
   "id": "79490a48-b965-4573-9b2d-8dcd66e30a9c",
   "metadata": {},
   "source": [
    "### Random Seed"
   ]
  },
  {
   "cell_type": "code",
   "execution_count": 18,
   "id": "a1ca50bf-de61-413c-a786-dfb7dc1d4034",
   "metadata": {},
   "outputs": [
    {
     "name": "stdout",
     "output_type": "stream",
     "text": [
      "tf.Tensor([0.53863907], shape=(1,), dtype=float32)\n"
     ]
    }
   ],
   "source": [
    "print(tf.random.uniform([1]))"
   ]
  },
  {
   "cell_type": "code",
   "execution_count": 19,
   "id": "0ca8bdc0-b5dd-414a-a97b-841b273a3c9f",
   "metadata": {},
   "outputs": [
    {
     "name": "stdout",
     "output_type": "stream",
     "text": [
      "tf.Tensor([0.6645621], shape=(1,), dtype=float32)\n",
      "tf.Tensor([0.68789124], shape=(1,), dtype=float32)\n",
      "tf.Tensor([0.7413678], shape=(1,), dtype=float32)\n"
     ]
    }
   ],
   "source": [
    "tf.random.set_seed(42)\n",
    "print(tf.random.uniform([1]))\n",
    "print(tf.random.uniform([1]))\n",
    "print(tf.random.uniform([1]))"
   ]
  },
  {
   "cell_type": "code",
   "execution_count": 20,
   "id": "52494ff9-e918-49ea-9e8b-e9949f742c0c",
   "metadata": {},
   "outputs": [
    {
     "name": "stdout",
     "output_type": "stream",
     "text": [
      "tf.Tensor([0.4163028], shape=(1,), dtype=float32)\n"
     ]
    }
   ],
   "source": [
    "print(tf.random.uniform([1], seed=42))"
   ]
  },
  {
   "cell_type": "code",
   "execution_count": 21,
   "id": "2d77a28f-6f05-4e76-b698-4bbe5757c91a",
   "metadata": {},
   "outputs": [
    {
     "name": "stdout",
     "output_type": "stream",
     "text": [
      "tf.Tensor([0.4163028], shape=(1,), dtype=float32)\n",
      "tf.Tensor([0.0332247], shape=(1,), dtype=float32)\n"
     ]
    }
   ],
   "source": [
    "tf.random.set_seed(42)\n",
    "print(tf.random.uniform([1], seed=42))\n",
    "print(tf.random.uniform([1], seed=42))"
   ]
  },
  {
   "cell_type": "markdown",
   "id": "a6daa826-7c17-4be3-a824-5f9e85623290",
   "metadata": {},
   "source": [
    "### Shuffle"
   ]
  },
  {
   "cell_type": "code",
   "execution_count": 22,
   "id": "458d66e3-859d-4669-8d13-1cd474d1e047",
   "metadata": {},
   "outputs": [
    {
     "data": {
      "text/plain": [
       "<tf.Tensor: shape=(3, 3), dtype=int32, numpy=\n",
       "array([[4, 5, 6],\n",
       "       [7, 8, 9],\n",
       "       [1, 2, 3]], dtype=int32)>"
      ]
     },
     "execution_count": 22,
     "metadata": {},
     "output_type": "execute_result"
    }
   ],
   "source": [
    "tf.random.shuffle([\n",
    "    [1, 2, 3],\n",
    "    [4, 5, 6],\n",
    "    [7, 8, 9]\n",
    "])"
   ]
  },
  {
   "cell_type": "code",
   "execution_count": 23,
   "id": "bcf7833d-8312-4227-bdaf-129f94a26602",
   "metadata": {},
   "outputs": [
    {
     "data": {
      "text/plain": [
       "<tf.Tensor: shape=(3, 3), dtype=int32, numpy=\n",
       "array([[1, 2, 3],\n",
       "       [4, 5, 6],\n",
       "       [7, 8, 9]], dtype=int32)>"
      ]
     },
     "execution_count": 23,
     "metadata": {},
     "output_type": "execute_result"
    }
   ],
   "source": [
    "tf.random.set_seed(42) # Global Level Seed\n",
    "tf.random.shuffle([\n",
    "    [1, 2, 3],\n",
    "    [4, 5, 6],\n",
    "    [7, 8, 9]\n",
    "], seed=42) # Operation Level Seed"
   ]
  },
  {
   "cell_type": "markdown",
   "id": "ac18c51b-e004-48e0-822e-547089a9ae7a",
   "metadata": {},
   "source": [
    "## Tensors & NumPy"
   ]
  },
  {
   "cell_type": "code",
   "execution_count": 24,
   "id": "5ec52ed6-b70e-4cf9-8385-ddf1e058e444",
   "metadata": {},
   "outputs": [
    {
     "data": {
      "text/plain": [
       "<tf.Tensor: shape=(10, 7), dtype=float32, numpy=\n",
       "array([[1., 1., 1., 1., 1., 1., 1.],\n",
       "       [1., 1., 1., 1., 1., 1., 1.],\n",
       "       [1., 1., 1., 1., 1., 1., 1.],\n",
       "       [1., 1., 1., 1., 1., 1., 1.],\n",
       "       [1., 1., 1., 1., 1., 1., 1.],\n",
       "       [1., 1., 1., 1., 1., 1., 1.],\n",
       "       [1., 1., 1., 1., 1., 1., 1.],\n",
       "       [1., 1., 1., 1., 1., 1., 1.],\n",
       "       [1., 1., 1., 1., 1., 1., 1.],\n",
       "       [1., 1., 1., 1., 1., 1., 1.]], dtype=float32)>"
      ]
     },
     "execution_count": 24,
     "metadata": {},
     "output_type": "execute_result"
    }
   ],
   "source": [
    "tf.ones((10, 7))"
   ]
  },
  {
   "cell_type": "code",
   "execution_count": 25,
   "id": "99e3ce86-203b-4aca-8420-3f03e8e27c8a",
   "metadata": {},
   "outputs": [
    {
     "data": {
      "text/plain": [
       "<tf.Tensor: shape=(2, 2), dtype=float32, numpy=\n",
       "array([[0., 0.],\n",
       "       [0., 0.]], dtype=float32)>"
      ]
     },
     "execution_count": 25,
     "metadata": {},
     "output_type": "execute_result"
    }
   ],
   "source": [
    "tf.zeros(shape=(2, 2))"
   ]
  },
  {
   "cell_type": "markdown",
   "id": "eef4005c-34b1-4a04-8e89-08b18c31b49b",
   "metadata": {},
   "source": [
    "### NumPy to Tensors"
   ]
  },
  {
   "cell_type": "code",
   "execution_count": 26,
   "id": "b940bded-dc45-44e9-af38-f0d6e10a5219",
   "metadata": {},
   "outputs": [
    {
     "data": {
      "text/plain": [
       "<tf.Tensor: shape=(24,), dtype=int64, numpy=\n",
       "array([ 1,  2,  3,  4,  5,  6,  7,  8,  9, 10, 11, 12, 13, 14, 15, 16, 17,\n",
       "       18, 19, 20, 21, 22, 23, 24])>"
      ]
     },
     "execution_count": 26,
     "metadata": {},
     "output_type": "execute_result"
    }
   ],
   "source": [
    "tf.constant(\n",
    "    np.arange(1, 25)\n",
    ")"
   ]
  },
  {
   "cell_type": "code",
   "execution_count": 27,
   "id": "f3c8ad4d-45f7-4a17-a444-7c31c41af427",
   "metadata": {},
   "outputs": [
    {
     "data": {
      "text/plain": [
       "<tf.Tensor: shape=(5, 5), dtype=int64, numpy=\n",
       "array([[ 0,  1,  2,  3,  4],\n",
       "       [ 5,  6,  7,  8,  9],\n",
       "       [10, 11, 12, 13, 14],\n",
       "       [15, 16, 17, 18, 19],\n",
       "       [20, 21, 22, 23, 24]])>"
      ]
     },
     "execution_count": 27,
     "metadata": {},
     "output_type": "execute_result"
    }
   ],
   "source": [
    "tf.constant(\n",
    "    np.arange(25),\n",
    "    shape=(5, 5)\n",
    ")"
   ]
  },
  {
   "cell_type": "markdown",
   "id": "f4d3ad5a-b914-435e-99ce-314029fc940d",
   "metadata": {},
   "source": [
    "### Tensors to Numpy"
   ]
  },
  {
   "cell_type": "code",
   "execution_count": 28,
   "id": "14e29818-8112-4b91-882e-9f2c4f046883",
   "metadata": {},
   "outputs": [
    {
     "data": {
      "text/plain": [
       "array([[[1, 2, 3],\n",
       "        [4, 5, 6]],\n",
       "\n",
       "       [[9, 8, 7],\n",
       "        [6, 5, 4]],\n",
       "\n",
       "       [[9, 8, 7],\n",
       "        [6, 5, 4]]], dtype=int32)"
      ]
     },
     "execution_count": 28,
     "metadata": {},
     "output_type": "execute_result"
    }
   ],
   "source": [
    "t4.numpy()"
   ]
  },
  {
   "cell_type": "markdown",
   "id": "2c33ab92-49f9-43d4-ab0a-2aacbaeac324",
   "metadata": {},
   "source": [
    "## Atrributes of Tensors"
   ]
  },
  {
   "cell_type": "code",
   "execution_count": 29,
   "id": "65add609-55f4-407d-aae3-242d70d7e397",
   "metadata": {},
   "outputs": [
    {
     "data": {
      "text/plain": [
       "<tf.Tensor: shape=(3, 2, 3), dtype=int32, numpy=\n",
       "array([[[1, 2, 3],\n",
       "        [4, 5, 6]],\n",
       "\n",
       "       [[9, 8, 7],\n",
       "        [6, 5, 4]],\n",
       "\n",
       "       [[9, 8, 7],\n",
       "        [6, 5, 4]]], dtype=int32)>"
      ]
     },
     "execution_count": 29,
     "metadata": {},
     "output_type": "execute_result"
    }
   ],
   "source": [
    "t4"
   ]
  },
  {
   "cell_type": "markdown",
   "id": "a5517f61-184d-41bf-b206-05f73d637b49",
   "metadata": {},
   "source": [
    "### Shape"
   ]
  },
  {
   "cell_type": "code",
   "execution_count": 30,
   "id": "108272a7-db87-4fdc-b34c-67dcc00fc11d",
   "metadata": {},
   "outputs": [
    {
     "data": {
      "text/plain": [
       "TensorShape([3, 2, 3])"
      ]
     },
     "execution_count": 30,
     "metadata": {},
     "output_type": "execute_result"
    }
   ],
   "source": [
    "t4.shape"
   ]
  },
  {
   "cell_type": "markdown",
   "id": "8c68031c-adae-45e5-bdde-9e1557d502fa",
   "metadata": {},
   "source": [
    "### Rank / Dimension"
   ]
  },
  {
   "cell_type": "code",
   "execution_count": 31,
   "id": "436b75af-96e5-47ac-92de-bfdbdcf968b4",
   "metadata": {},
   "outputs": [
    {
     "data": {
      "text/plain": [
       "3"
      ]
     },
     "execution_count": 31,
     "metadata": {},
     "output_type": "execute_result"
    }
   ],
   "source": [
    "t4.ndim"
   ]
  },
  {
   "cell_type": "markdown",
   "id": "bd8e8d66-3c5c-4ad8-982c-8f6db04316b9",
   "metadata": {},
   "source": [
    "### Access or dimension"
   ]
  },
  {
   "cell_type": "code",
   "execution_count": 32,
   "id": "c8b7cbe0-f98f-4e5f-8f93-f3bcf745cb19",
   "metadata": {},
   "outputs": [
    {
     "data": {
      "text/plain": [
       "<tf.Tensor: shape=(2, 3), dtype=int32, numpy=\n",
       "array([[1, 2, 3],\n",
       "       [4, 5, 6]], dtype=int32)>"
      ]
     },
     "execution_count": 32,
     "metadata": {},
     "output_type": "execute_result"
    }
   ],
   "source": [
    "t4[0]"
   ]
  },
  {
   "cell_type": "markdown",
   "id": "70b05abb-8b9e-472d-af17-6d128f220988",
   "metadata": {},
   "source": [
    "### Size"
   ]
  },
  {
   "cell_type": "code",
   "execution_count": 33,
   "id": "e90a640a-9a61-4956-8d5b-a46b60f6a9d7",
   "metadata": {},
   "outputs": [
    {
     "data": {
      "text/plain": [
       "<tf.Tensor: shape=(), dtype=int32, numpy=18>"
      ]
     },
     "execution_count": 33,
     "metadata": {},
     "output_type": "execute_result"
    }
   ],
   "source": [
    "tf.size(t4)"
   ]
  },
  {
   "cell_type": "markdown",
   "id": "0dddfc04-5523-4bd4-83e9-7d9ad2f7f094",
   "metadata": {},
   "source": [
    "### Data Type & Cast"
   ]
  },
  {
   "cell_type": "code",
   "execution_count": 34,
   "id": "84f3867a-8193-488c-bb8b-6ac9b9a65ed0",
   "metadata": {},
   "outputs": [
    {
     "data": {
      "text/plain": [
       "tf.int32"
      ]
     },
     "execution_count": 34,
     "metadata": {},
     "output_type": "execute_result"
    }
   ],
   "source": [
    "t4.dtype"
   ]
  },
  {
   "cell_type": "code",
   "execution_count": 35,
   "id": "7f1df2c0-a2b5-4d2a-9381-6f2d9a9a1123",
   "metadata": {},
   "outputs": [
    {
     "data": {
      "text/plain": [
       "<tf.Tensor: shape=(3, 2, 3), dtype=float16, numpy=\n",
       "array([[[1., 2., 3.],\n",
       "        [4., 5., 6.]],\n",
       "\n",
       "       [[9., 8., 7.],\n",
       "        [6., 5., 4.]],\n",
       "\n",
       "       [[9., 8., 7.],\n",
       "        [6., 5., 4.]]], dtype=float16)>"
      ]
     },
     "execution_count": 35,
     "metadata": {},
     "output_type": "execute_result"
    }
   ],
   "source": [
    "tf.cast(t4, dtype=tf.float16)"
   ]
  },
  {
   "cell_type": "markdown",
   "id": "2c3d2857-1385-4536-9e01-e5aac09227ba",
   "metadata": {},
   "source": [
    "## Expanding Dimensions"
   ]
  },
  {
   "cell_type": "code",
   "execution_count": 36,
   "id": "f7d6fa22-79e8-42cf-b3d1-98e2de4e1c84",
   "metadata": {},
   "outputs": [
    {
     "data": {
      "text/plain": [
       "<tf.Tensor: shape=(2, 2), dtype=int32, numpy=\n",
       "array([[10,  7],\n",
       "       [ 7, 10]], dtype=int32)>"
      ]
     },
     "execution_count": 36,
     "metadata": {},
     "output_type": "execute_result"
    }
   ],
   "source": [
    "t3"
   ]
  },
  {
   "cell_type": "code",
   "execution_count": 37,
   "id": "a0c58389-98a3-437f-9948-fe0fa0ef71c9",
   "metadata": {},
   "outputs": [
    {
     "data": {
      "text/plain": [
       "(TensorShape([2, 2]), 2)"
      ]
     },
     "execution_count": 37,
     "metadata": {},
     "output_type": "execute_result"
    }
   ],
   "source": [
    "t3.shape, t3.ndim"
   ]
  },
  {
   "cell_type": "code",
   "execution_count": 38,
   "id": "e0c46e8c-ec02-4faf-80c6-02fadd9fe381",
   "metadata": {},
   "outputs": [
    {
     "data": {
      "text/plain": [
       "<tf.Tensor: shape=(2, 2, 1), dtype=int32, numpy=\n",
       "array([[[10],\n",
       "        [ 7]],\n",
       "\n",
       "       [[ 7],\n",
       "        [10]]], dtype=int32)>"
      ]
     },
     "execution_count": 38,
     "metadata": {},
     "output_type": "execute_result"
    }
   ],
   "source": [
    "t3[..., tf.newaxis]"
   ]
  },
  {
   "cell_type": "code",
   "execution_count": 39,
   "id": "1939645b-870d-4c5a-ae36-9c25cc41c984",
   "metadata": {},
   "outputs": [
    {
     "data": {
      "text/plain": [
       "<tf.Tensor: shape=(2, 2, 1), dtype=int32, numpy=\n",
       "array([[[10],\n",
       "        [ 7]],\n",
       "\n",
       "       [[ 7],\n",
       "        [10]]], dtype=int32)>"
      ]
     },
     "execution_count": 39,
     "metadata": {},
     "output_type": "execute_result"
    }
   ],
   "source": [
    "tf.expand_dims(t3, axis=-1)"
   ]
  },
  {
   "cell_type": "code",
   "execution_count": 40,
   "id": "6d2f2022-c481-4512-9487-bc134dd94cff",
   "metadata": {},
   "outputs": [
    {
     "data": {
      "text/plain": [
       "<tf.Tensor: shape=(1, 2, 2), dtype=int32, numpy=\n",
       "array([[[10,  7],\n",
       "        [ 7, 10]]], dtype=int32)>"
      ]
     },
     "execution_count": 40,
     "metadata": {},
     "output_type": "execute_result"
    }
   ],
   "source": [
    "tf.expand_dims(t3, axis=0)"
   ]
  },
  {
   "cell_type": "code",
   "execution_count": 41,
   "id": "78c5b2be-65b9-4076-969b-a7f5b62d0fbd",
   "metadata": {},
   "outputs": [
    {
     "data": {
      "text/plain": [
       "<tf.Tensor: shape=(1, 2, 1, 2), dtype=int32, numpy=\n",
       "array([[[[10,  7]],\n",
       "\n",
       "        [[ 7, 10]]]], dtype=int32)>"
      ]
     },
     "execution_count": 41,
     "metadata": {},
     "output_type": "execute_result"
    }
   ],
   "source": [
    "tf.expand_dims(tf.expand_dims(t3, axis=0), axis=2)"
   ]
  },
  {
   "cell_type": "markdown",
   "id": "374451b4-01aa-4018-9d79-a72b1423c9a7",
   "metadata": {},
   "source": [
    "## Manipulating Tensors"
   ]
  },
  {
   "cell_type": "markdown",
   "id": "3b51e26e-d3a9-4dd9-817a-776bab458750",
   "metadata": {},
   "source": [
    "### Basic Arithematic Operations"
   ]
  },
  {
   "cell_type": "code",
   "execution_count": 42,
   "id": "495eaad0-dafe-4cd0-959c-b53822992212",
   "metadata": {},
   "outputs": [
    {
     "data": {
      "text/plain": [
       "<tf.Tensor: shape=(2, 2), dtype=int32, numpy=\n",
       "array([[10,  7],\n",
       "       [ 7, 10]], dtype=int32)>"
      ]
     },
     "execution_count": 42,
     "metadata": {},
     "output_type": "execute_result"
    }
   ],
   "source": [
    "t3"
   ]
  },
  {
   "cell_type": "code",
   "execution_count": 43,
   "id": "ab43ef70-1ee8-4d5a-b09b-d79cf194a516",
   "metadata": {},
   "outputs": [
    {
     "data": {
      "text/plain": [
       "<tf.Tensor: shape=(2, 2), dtype=int32, numpy=\n",
       "array([[20, 17],\n",
       "       [17, 20]], dtype=int32)>"
      ]
     },
     "execution_count": 43,
     "metadata": {},
     "output_type": "execute_result"
    }
   ],
   "source": [
    "t3 + 10"
   ]
  },
  {
   "cell_type": "markdown",
   "id": "cad0ce75-d9ab-46e8-875e-da1ca38a6b49",
   "metadata": {},
   "source": [
    "###### Note: Underlying Tensor doesn't change"
   ]
  },
  {
   "cell_type": "code",
   "execution_count": 44,
   "id": "a0d9188f-7da2-44fc-bd0a-85259bfb8f3e",
   "metadata": {},
   "outputs": [
    {
     "data": {
      "text/plain": [
       "<tf.Tensor: shape=(2, 2), dtype=int32, numpy=\n",
       "array([[ 0, -3],\n",
       "       [-3,  0]], dtype=int32)>"
      ]
     },
     "execution_count": 44,
     "metadata": {},
     "output_type": "execute_result"
    }
   ],
   "source": [
    "t3 - 10"
   ]
  },
  {
   "cell_type": "code",
   "execution_count": 45,
   "id": "0cf0b4a7-80b3-499f-9d1b-de11063246c2",
   "metadata": {},
   "outputs": [
    {
     "data": {
      "text/plain": [
       "<tf.Tensor: shape=(2, 2), dtype=int32, numpy=\n",
       "array([[30, 21],\n",
       "       [21, 30]], dtype=int32)>"
      ]
     },
     "execution_count": 45,
     "metadata": {},
     "output_type": "execute_result"
    }
   ],
   "source": [
    "tf.multiply(t3, 3)"
   ]
  },
  {
   "cell_type": "code",
   "execution_count": 46,
   "id": "6658e9c2-a1ea-4076-bebd-ebaca7e32c23",
   "metadata": {},
   "outputs": [
    {
     "data": {
      "text/plain": [
       "<tf.Tensor: shape=(2, 2), dtype=float64, numpy=\n",
       "array([[5. , 3.5],\n",
       "       [3.5, 5. ]])>"
      ]
     },
     "execution_count": 46,
     "metadata": {},
     "output_type": "execute_result"
    }
   ],
   "source": [
    "tf.divide(t3, 2)"
   ]
  },
  {
   "cell_type": "markdown",
   "id": "cbe10b69-3981-455c-83f3-189abccb3095",
   "metadata": {},
   "source": [
    "###### Nore: Arithematic operations can be done using (+ - / *) operators. But it is better to use tensorflow functions because it helps in performing the computations in GPU "
   ]
  },
  {
   "cell_type": "code",
   "execution_count": 47,
   "id": "ea63e3ab-c58a-4363-a002-4d438e535dab",
   "metadata": {},
   "outputs": [
    {
     "data": {
      "text/plain": [
       "(4.99490753471747, <tf.Tensor: shape=(), dtype=float32, numpy=-0.97098446>)"
      ]
     },
     "execution_count": 47,
     "metadata": {},
     "output_type": "execute_result"
    }
   ],
   "source": [
    "np.random.uniform(5), tf.math.sin(np.random.uniform(5))"
   ]
  },
  {
   "cell_type": "markdown",
   "id": "2ff7c52a-b92a-441e-9e53-d029e3627dfd",
   "metadata": {},
   "source": [
    "### Matrix Multiplication"
   ]
  },
  {
   "cell_type": "markdown",
   "id": "26aeed28-e34f-43ac-bc2f-37e3d55ca3fb",
   "metadata": {},
   "source": [
    "#### Element-wise Multiplication"
   ]
  },
  {
   "cell_type": "code",
   "execution_count": 48,
   "id": "33a43706-903e-42fc-8781-af178b35a005",
   "metadata": {},
   "outputs": [
    {
     "data": {
      "text/plain": [
       "<tf.Tensor: shape=(2, 2), dtype=int32, numpy=\n",
       "array([[10,  7],\n",
       "       [ 7, 10]], dtype=int32)>"
      ]
     },
     "execution_count": 48,
     "metadata": {},
     "output_type": "execute_result"
    }
   ],
   "source": [
    "t3"
   ]
  },
  {
   "cell_type": "code",
   "execution_count": 49,
   "id": "3e88246d-d292-484f-a9f8-9518033ff0eb",
   "metadata": {},
   "outputs": [
    {
     "data": {
      "text/plain": [
       "<tf.Tensor: shape=(2, 2), dtype=int32, numpy=\n",
       "array([[100,  49],\n",
       "       [ 49, 100]], dtype=int32)>"
      ]
     },
     "execution_count": 49,
     "metadata": {},
     "output_type": "execute_result"
    }
   ],
   "source": [
    "t3 * t3"
   ]
  },
  {
   "cell_type": "markdown",
   "id": "8d43dfcc-1a83-49f5-9e81-b555ad576645",
   "metadata": {},
   "source": [
    "#### Matrix Multiplication"
   ]
  },
  {
   "cell_type": "code",
   "execution_count": 50,
   "id": "bffc3442-4bce-4f7f-b023-d2c832a24e58",
   "metadata": {},
   "outputs": [
    {
     "data": {
      "text/plain": [
       "<tf.Tensor: shape=(2, 2), dtype=int32, numpy=\n",
       "array([[149, 140],\n",
       "       [140, 149]], dtype=int32)>"
      ]
     },
     "execution_count": 50,
     "metadata": {},
     "output_type": "execute_result"
    }
   ],
   "source": [
    "tf.linalg.matmul(t3, t3)"
   ]
  },
  {
   "cell_type": "code",
   "execution_count": 51,
   "id": "1aa6089b-f4f6-4fdb-aad5-7ba6aa5218ed",
   "metadata": {},
   "outputs": [
    {
     "data": {
      "text/plain": [
       "<tf.Tensor: shape=(2, 2), dtype=int32, numpy=\n",
       "array([[149, 140],\n",
       "       [140, 149]], dtype=int32)>"
      ]
     },
     "execution_count": 51,
     "metadata": {},
     "output_type": "execute_result"
    }
   ],
   "source": [
    "t3 @ t3"
   ]
  },
  {
   "cell_type": "markdown",
   "id": "3a499cb4-17c0-42a9-b86a-054d3b7e30cd",
   "metadata": {},
   "source": [
    "#### Transpose"
   ]
  },
  {
   "cell_type": "code",
   "execution_count": 52,
   "id": "704fa297-ac1c-435f-ae53-0ee161b00259",
   "metadata": {},
   "outputs": [
    {
     "data": {
      "text/plain": [
       "<tf.Tensor: shape=(2, 2), dtype=int32, numpy=\n",
       "array([[10,  7],\n",
       "       [ 7, 10]], dtype=int32)>"
      ]
     },
     "execution_count": 52,
     "metadata": {},
     "output_type": "execute_result"
    }
   ],
   "source": [
    "tf.transpose(t3)"
   ]
  },
  {
   "cell_type": "code",
   "execution_count": 53,
   "id": "96b9083c-2707-4dce-b7e4-92e91f61ea1d",
   "metadata": {},
   "outputs": [
    {
     "data": {
      "text/plain": [
       "<tf.Tensor: shape=(2, 3), dtype=int32, numpy=\n",
       "array([[1, 3, 5],\n",
       "       [2, 4, 6]], dtype=int32)>"
      ]
     },
     "execution_count": 53,
     "metadata": {},
     "output_type": "execute_result"
    }
   ],
   "source": [
    "tf.transpose([\n",
    "    [1, 2],\n",
    "    [3, 4],\n",
    "    [5, 6]\n",
    "])"
   ]
  },
  {
   "cell_type": "markdown",
   "id": "a822f3bf-27e9-45b1-9679-8f1717c30afb",
   "metadata": {},
   "source": [
    "## Aggregation"
   ]
  },
  {
   "cell_type": "code",
   "execution_count": 54,
   "id": "e2e7223f-f263-4de2-b5ee-272a88ee1531",
   "metadata": {},
   "outputs": [
    {
     "data": {
      "text/plain": [
       "<tf.Tensor: shape=(3, 2, 3), dtype=int32, numpy=\n",
       "array([[[1, 2, 3],\n",
       "        [4, 5, 6]],\n",
       "\n",
       "       [[9, 8, 7],\n",
       "        [6, 5, 4]],\n",
       "\n",
       "       [[9, 8, 7],\n",
       "        [6, 5, 4]]], dtype=int32)>"
      ]
     },
     "execution_count": 54,
     "metadata": {},
     "output_type": "execute_result"
    }
   ],
   "source": [
    "t4"
   ]
  },
  {
   "cell_type": "markdown",
   "id": "73da5003-755e-4ef5-900c-7946ab02d70d",
   "metadata": {},
   "source": [
    "### Min/Max/Mean/Sum"
   ]
  },
  {
   "cell_type": "code",
   "execution_count": 55,
   "id": "5358e183-e30c-481b-b624-b8a9eff21332",
   "metadata": {},
   "outputs": [
    {
     "data": {
      "text/plain": [
       "<tf.Tensor: shape=(), dtype=int32, numpy=1>"
      ]
     },
     "execution_count": 55,
     "metadata": {},
     "output_type": "execute_result"
    }
   ],
   "source": [
    "tf.reduce_min(t4)"
   ]
  },
  {
   "cell_type": "code",
   "execution_count": 56,
   "id": "774e07da-0843-4ec0-8631-6a5b34650e06",
   "metadata": {},
   "outputs": [
    {
     "data": {
      "text/plain": [
       "<tf.Tensor: shape=(), dtype=int32, numpy=9>"
      ]
     },
     "execution_count": 56,
     "metadata": {},
     "output_type": "execute_result"
    }
   ],
   "source": [
    "tf.reduce_max(t4)"
   ]
  },
  {
   "cell_type": "code",
   "execution_count": 57,
   "id": "916e139f-aa1a-4d71-81ac-beb7e532e35a",
   "metadata": {},
   "outputs": [
    {
     "data": {
      "text/plain": [
       "(<tf.Tensor: shape=(), dtype=int32, numpy=5>,\n",
       " <tf.Tensor: shape=(), dtype=int32, numpy=99>)"
      ]
     },
     "execution_count": 57,
     "metadata": {},
     "output_type": "execute_result"
    }
   ],
   "source": [
    "tf.reduce_mean(t4), tf.reduce_sum(t4)"
   ]
  },
  {
   "cell_type": "code",
   "execution_count": 58,
   "id": "652e52a6-bfd3-4c93-a25c-b25de13cddfc",
   "metadata": {},
   "outputs": [
    {
     "data": {
      "text/plain": [
       "<tf.Tensor: shape=(), dtype=float32, numpy=2.2173557>"
      ]
     },
     "execution_count": 58,
     "metadata": {},
     "output_type": "execute_result"
    }
   ],
   "source": [
    "tf.math.reduce_std(tf.cast(t4, dtype=tf.dtypes.float32))"
   ]
  },
  {
   "cell_type": "markdown",
   "id": "f577c4ab-a607-47c5-bf39-240c9071dfe1",
   "metadata": {},
   "source": [
    "## Positional Min & Max"
   ]
  },
  {
   "cell_type": "code",
   "execution_count": 59,
   "id": "1f630fb3-4dec-4e88-87f2-cf952685c3ae",
   "metadata": {},
   "outputs": [
    {
     "data": {
      "text/plain": [
       "<tf.Tensor: shape=(2, 2), dtype=int32, numpy=\n",
       "array([[10,  7],\n",
       "       [ 7, 10]], dtype=int32)>"
      ]
     },
     "execution_count": 59,
     "metadata": {},
     "output_type": "execute_result"
    }
   ],
   "source": [
    "t3"
   ]
  },
  {
   "cell_type": "code",
   "execution_count": 60,
   "id": "731c3ad8-f601-4c91-8d9e-15309fe0cf5f",
   "metadata": {},
   "outputs": [
    {
     "data": {
      "text/plain": [
       "<tf.Tensor: shape=(2,), dtype=int64, numpy=array([0, 1])>"
      ]
     },
     "execution_count": 60,
     "metadata": {},
     "output_type": "execute_result"
    }
   ],
   "source": [
    "tf.argmax(t3)"
   ]
  },
  {
   "cell_type": "code",
   "execution_count": 61,
   "id": "82282d42-6bc6-445e-8c9e-f970ee3088a5",
   "metadata": {},
   "outputs": [
    {
     "data": {
      "text/plain": [
       "<tf.Tensor: shape=(2,), dtype=int64, numpy=array([0, 1])>"
      ]
     },
     "execution_count": 61,
     "metadata": {},
     "output_type": "execute_result"
    }
   ],
   "source": [
    "tf.argmax(t3, axis=1)"
   ]
  },
  {
   "cell_type": "markdown",
   "id": "c75bfec6-e93f-40f9-8727-acb353058740",
   "metadata": {},
   "source": [
    "## Squeezing a tensor"
   ]
  },
  {
   "cell_type": "code",
   "execution_count": 62,
   "id": "4d7d4f25-91e5-4d8b-90ec-df0c5db58d8a",
   "metadata": {},
   "outputs": [
    {
     "data": {
      "text/plain": [
       "<tf.Tensor: shape=(3, 2, 3), dtype=int32, numpy=\n",
       "array([[[1, 2, 3],\n",
       "        [4, 5, 6]],\n",
       "\n",
       "       [[9, 8, 7],\n",
       "        [6, 5, 4]],\n",
       "\n",
       "       [[9, 8, 7],\n",
       "        [6, 5, 4]]], dtype=int32)>"
      ]
     },
     "execution_count": 62,
     "metadata": {},
     "output_type": "execute_result"
    }
   ],
   "source": [
    "tf.squeeze(t4)"
   ]
  },
  {
   "cell_type": "code",
   "execution_count": 63,
   "id": "cbd705eb-9e19-4a10-bab8-fe11ddb1bdc4",
   "metadata": {},
   "outputs": [
    {
     "name": "stdout",
     "output_type": "stream",
     "text": [
      "tf.Tensor(\n",
      "[[[[0.4163028 ]\n",
      "   [0.26858163]\n",
      "   [0.47968316]]]], shape=(1, 1, 3, 1), dtype=float32)\n"
     ]
    },
    {
     "data": {
      "text/plain": [
       "<tf.Tensor: shape=(3,), dtype=float32, numpy=array([0.4163028 , 0.26858163, 0.47968316], dtype=float32)>"
      ]
     },
     "execution_count": 63,
     "metadata": {},
     "output_type": "execute_result"
    }
   ],
   "source": [
    "tf.random.set_seed(42)\n",
    "\n",
    "print(tf.constant(tf.random.uniform((1, 1, 3, 1), seed=42) ))\n",
    "tf.random.set_seed(42)\n",
    "tf.squeeze(\n",
    "    tf.constant(tf.random.uniform((1, 1, 3, 1), seed=42))\n",
    ")"
   ]
  },
  {
   "cell_type": "markdown",
   "id": "091ed66b-60fb-4553-ad2f-663a2339527d",
   "metadata": {},
   "source": [
    "## One-Hot Encoding"
   ]
  },
  {
   "cell_type": "code",
   "execution_count": 64,
   "id": "d00c2c0f-815a-475b-a84a-aaa3f254f9e3",
   "metadata": {},
   "outputs": [
    {
     "data": {
      "text/plain": [
       "<tf.Tensor: shape=(4, 4), dtype=float32, numpy=\n",
       "array([[1., 0., 0., 0.],\n",
       "       [0., 1., 0., 0.],\n",
       "       [0., 0., 1., 0.],\n",
       "       [0., 0., 0., 1.]], dtype=float32)>"
      ]
     },
     "execution_count": 64,
     "metadata": {},
     "output_type": "execute_result"
    }
   ],
   "source": [
    "tf.one_hot([0, 1, 2, 3], depth=4)"
   ]
  },
  {
   "cell_type": "code",
   "execution_count": 65,
   "id": "3a36e3d2-8371-4cc9-bb13-02944d431365",
   "metadata": {},
   "outputs": [
    {
     "data": {
      "text/plain": [
       "<tf.Tensor: shape=(4, 3), dtype=float32, numpy=\n",
       "array([[1., 0., 0.],\n",
       "       [0., 1., 0.],\n",
       "       [0., 0., 1.],\n",
       "       [0., 0., 0.]], dtype=float32)>"
      ]
     },
     "execution_count": 65,
     "metadata": {},
     "output_type": "execute_result"
    }
   ],
   "source": [
    "tf.one_hot([0, 1, 2, 3], depth=3)"
   ]
  },
  {
   "cell_type": "markdown",
   "id": "d5460721-8e75-4062-976d-0d07b5870a1a",
   "metadata": {},
   "source": [
    "### Custom values in OHE"
   ]
  },
  {
   "cell_type": "code",
   "execution_count": 66,
   "id": "35d43be8-2a42-414a-98a5-5fac56ae6f1c",
   "metadata": {},
   "outputs": [
    {
     "data": {
      "text/plain": [
       "<tf.Tensor: shape=(4, 3), dtype=string, numpy=\n",
       "array([[b'Switch On', b'Switch Off', b'Switch Off'],\n",
       "       [b'Switch Off', b'Switch On', b'Switch Off'],\n",
       "       [b'Switch Off', b'Switch Off', b'Switch On'],\n",
       "       [b'Switch Off', b'Switch Off', b'Switch Off']], dtype=object)>"
      ]
     },
     "execution_count": 66,
     "metadata": {},
     "output_type": "execute_result"
    }
   ],
   "source": [
    "tf.one_hot([0, 1, 2, 3], depth=3, off_value='Switch Off', on_value='Switch On')"
   ]
  },
  {
   "cell_type": "markdown",
   "id": "a16f1fce-2e36-4d0b-b733-5db617877ff0",
   "metadata": {},
   "source": [
    "## Math"
   ]
  },
  {
   "cell_type": "code",
   "execution_count": 67,
   "id": "9aaa2d47-6c9a-48a5-87d4-43d9566d36f4",
   "metadata": {},
   "outputs": [
    {
     "data": {
      "text/plain": [
       "<tf.Tensor: shape=(3, 2, 3), dtype=int32, numpy=\n",
       "array([[[1, 2, 3],\n",
       "        [4, 5, 6]],\n",
       "\n",
       "       [[9, 8, 7],\n",
       "        [6, 5, 4]],\n",
       "\n",
       "       [[9, 8, 7],\n",
       "        [6, 5, 4]]], dtype=int32)>"
      ]
     },
     "execution_count": 67,
     "metadata": {},
     "output_type": "execute_result"
    }
   ],
   "source": [
    "t4"
   ]
  },
  {
   "cell_type": "code",
   "execution_count": 68,
   "id": "a040db2a-547a-43c6-9b53-fbc8cd2041af",
   "metadata": {},
   "outputs": [
    {
     "data": {
      "text/plain": [
       "<tf.Tensor: shape=(3, 2, 3), dtype=float32, numpy=\n",
       "array([[[1.       , 1.4142135, 1.7320508],\n",
       "        [2.       , 2.236068 , 2.4494898]],\n",
       "\n",
       "       [[3.       , 2.828427 , 2.6457512],\n",
       "        [2.4494898, 2.236068 , 2.       ]],\n",
       "\n",
       "       [[3.       , 2.828427 , 2.6457512],\n",
       "        [2.4494898, 2.236068 , 2.       ]]], dtype=float32)>"
      ]
     },
     "execution_count": 68,
     "metadata": {},
     "output_type": "execute_result"
    }
   ],
   "source": [
    "tf.math.sqrt(tf.cast(t4, dtype=tf.dtypes.float32))"
   ]
  },
  {
   "cell_type": "code",
   "execution_count": 69,
   "id": "db9b3619-026c-4e58-9179-2bb800123561",
   "metadata": {},
   "outputs": [
    {
     "data": {
      "text/plain": [
       "<tf.Tensor: shape=(3, 2, 3), dtype=float64, numpy=\n",
       "array([[[0.        , 0.69314718, 1.09861229],\n",
       "        [1.38629436, 1.60943791, 1.79175947]],\n",
       "\n",
       "       [[2.19722458, 2.07944154, 1.94591015],\n",
       "        [1.79175947, 1.60943791, 1.38629436]],\n",
       "\n",
       "       [[2.19722458, 2.07944154, 1.94591015],\n",
       "        [1.79175947, 1.60943791, 1.38629436]]])>"
      ]
     },
     "execution_count": 69,
     "metadata": {},
     "output_type": "execute_result"
    }
   ],
   "source": [
    "tf.math.log(tf.cast(t4, dtype=tf.dtypes.float64))"
   ]
  },
  {
   "cell_type": "markdown",
   "id": "06093cd7-2787-45f9-a2d9-b5ecbed92ec3",
   "metadata": {},
   "source": [
    "## GPU"
   ]
  },
  {
   "cell_type": "code",
   "execution_count": 71,
   "id": "052beed2-a928-4f01-bb67-7c43557dd746",
   "metadata": {},
   "outputs": [
    {
     "data": {
      "text/plain": [
       "[PhysicalDevice(name='/physical_device:CPU:0', device_type='CPU')]"
      ]
     },
     "execution_count": 71,
     "metadata": {},
     "output_type": "execute_result"
    }
   ],
   "source": [
    "tf.config.list_physical_devices()"
   ]
  }
 ],
 "metadata": {
  "kernelspec": {
   "display_name": "Python 3 (ipykernel)",
   "language": "python",
   "name": "python3"
  },
  "language_info": {
   "codemirror_mode": {
    "name": "ipython",
    "version": 3
   },
   "file_extension": ".py",
   "mimetype": "text/x-python",
   "name": "python",
   "nbconvert_exporter": "python",
   "pygments_lexer": "ipython3",
   "version": "3.11.4"
  }
 },
 "nbformat": 4,
 "nbformat_minor": 5
}
